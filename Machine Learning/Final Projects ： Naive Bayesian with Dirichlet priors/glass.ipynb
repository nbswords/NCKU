{
 "cells": [
  {
   "cell_type": "markdown",
   "id": "8437b1df",
   "metadata": {},
   "source": [
    "# Import data and libraries"
   ]
  },
  {
   "cell_type": "code",
   "execution_count": 27,
   "id": "0ae6672d",
   "metadata": {
    "ExecuteTime": {
     "end_time": "2021-06-22T13:45:57.896010Z",
     "start_time": "2021-06-22T13:45:57.875179Z"
    }
   },
   "outputs": [
    {
     "name": "stdout",
     "output_type": "stream",
     "text": [
      "   id       RI     Na    Mg    Al     Si     K    Ca   Ba   Fe  Class\n",
      "0   1  1.52101  13.64  4.49  1.10  71.78  0.06  8.75  0.0  0.0      1\n",
      "1   2  1.51761  13.89  3.60  1.36  72.73  0.48  7.83  0.0  0.0      1\n",
      "2   3  1.51618  13.53  3.55  1.54  72.99  0.39  7.78  0.0  0.0      1\n",
      "3   4  1.51766  13.21  3.69  1.29  72.61  0.57  8.22  0.0  0.0      1\n",
      "4   5  1.51742  13.27  3.62  1.24  73.08  0.55  8.07  0.0  0.0      1\n"
     ]
    }
   ],
   "source": [
    "import numpy as np\n",
    "import pandas as pd\n",
    "import matplotlib.pyplot as plt\n",
    "from sklearn import metrics\n",
    "from sklearn.preprocessing import KBinsDiscretizer\n",
    "from sklearn.naive_bayes import MultinomialNB\n",
    "from sklearn.model_selection import cross_val_score\n",
    "from sklearn.inspection import permutation_importance\n",
    "from scipy.stats import dirichlet\n",
    "\n",
    "glass_names = ['id', 'RI', 'Na', 'Mg', 'Al', 'Si', 'K', 'Ca', 'Ba', 'Fe', 'Class']\n",
    "glass = pd.read_table('Glass Identification/glass.data', sep = \",\", names=glass_names)\n",
    "glass.reindex(index=['id', 'RI', 'Na', 'Mg', 'Al', 'Si', 'K', 'Ca', 'Ba', 'Fe', 'Class'])\n",
    "print(glass.head())"
   ]
  },
  {
   "cell_type": "code",
   "execution_count": 28,
   "id": "34ffe2a1",
   "metadata": {
    "ExecuteTime": {
     "end_time": "2021-06-22T13:45:58.049595Z",
     "start_time": "2021-06-22T13:45:58.024796Z"
    }
   },
   "outputs": [
    {
     "data": {
      "text/html": [
       "<div>\n",
       "<style scoped>\n",
       "    .dataframe tbody tr th:only-of-type {\n",
       "        vertical-align: middle;\n",
       "    }\n",
       "\n",
       "    .dataframe tbody tr th {\n",
       "        vertical-align: top;\n",
       "    }\n",
       "\n",
       "    .dataframe thead th {\n",
       "        text-align: right;\n",
       "    }\n",
       "</style>\n",
       "<table border=\"1\" class=\"dataframe\">\n",
       "  <thead>\n",
       "    <tr style=\"text-align: right;\">\n",
       "      <th></th>\n",
       "      <th>RI</th>\n",
       "      <th>Na</th>\n",
       "      <th>Mg</th>\n",
       "      <th>Al</th>\n",
       "      <th>Si</th>\n",
       "      <th>K</th>\n",
       "      <th>Ca</th>\n",
       "      <th>Ba</th>\n",
       "      <th>Fe</th>\n",
       "    </tr>\n",
       "  </thead>\n",
       "  <tbody>\n",
       "    <tr>\n",
       "      <th>0</th>\n",
       "      <td>1.52101</td>\n",
       "      <td>13.64</td>\n",
       "      <td>4.49</td>\n",
       "      <td>1.10</td>\n",
       "      <td>71.78</td>\n",
       "      <td>0.06</td>\n",
       "      <td>8.75</td>\n",
       "      <td>0.00</td>\n",
       "      <td>0.0</td>\n",
       "    </tr>\n",
       "    <tr>\n",
       "      <th>1</th>\n",
       "      <td>1.51761</td>\n",
       "      <td>13.89</td>\n",
       "      <td>3.60</td>\n",
       "      <td>1.36</td>\n",
       "      <td>72.73</td>\n",
       "      <td>0.48</td>\n",
       "      <td>7.83</td>\n",
       "      <td>0.00</td>\n",
       "      <td>0.0</td>\n",
       "    </tr>\n",
       "    <tr>\n",
       "      <th>2</th>\n",
       "      <td>1.51618</td>\n",
       "      <td>13.53</td>\n",
       "      <td>3.55</td>\n",
       "      <td>1.54</td>\n",
       "      <td>72.99</td>\n",
       "      <td>0.39</td>\n",
       "      <td>7.78</td>\n",
       "      <td>0.00</td>\n",
       "      <td>0.0</td>\n",
       "    </tr>\n",
       "    <tr>\n",
       "      <th>3</th>\n",
       "      <td>1.51766</td>\n",
       "      <td>13.21</td>\n",
       "      <td>3.69</td>\n",
       "      <td>1.29</td>\n",
       "      <td>72.61</td>\n",
       "      <td>0.57</td>\n",
       "      <td>8.22</td>\n",
       "      <td>0.00</td>\n",
       "      <td>0.0</td>\n",
       "    </tr>\n",
       "    <tr>\n",
       "      <th>4</th>\n",
       "      <td>1.51742</td>\n",
       "      <td>13.27</td>\n",
       "      <td>3.62</td>\n",
       "      <td>1.24</td>\n",
       "      <td>73.08</td>\n",
       "      <td>0.55</td>\n",
       "      <td>8.07</td>\n",
       "      <td>0.00</td>\n",
       "      <td>0.0</td>\n",
       "    </tr>\n",
       "    <tr>\n",
       "      <th>...</th>\n",
       "      <td>...</td>\n",
       "      <td>...</td>\n",
       "      <td>...</td>\n",
       "      <td>...</td>\n",
       "      <td>...</td>\n",
       "      <td>...</td>\n",
       "      <td>...</td>\n",
       "      <td>...</td>\n",
       "      <td>...</td>\n",
       "    </tr>\n",
       "    <tr>\n",
       "      <th>209</th>\n",
       "      <td>1.51623</td>\n",
       "      <td>14.14</td>\n",
       "      <td>0.00</td>\n",
       "      <td>2.88</td>\n",
       "      <td>72.61</td>\n",
       "      <td>0.08</td>\n",
       "      <td>9.18</td>\n",
       "      <td>1.06</td>\n",
       "      <td>0.0</td>\n",
       "    </tr>\n",
       "    <tr>\n",
       "      <th>210</th>\n",
       "      <td>1.51685</td>\n",
       "      <td>14.92</td>\n",
       "      <td>0.00</td>\n",
       "      <td>1.99</td>\n",
       "      <td>73.06</td>\n",
       "      <td>0.00</td>\n",
       "      <td>8.40</td>\n",
       "      <td>1.59</td>\n",
       "      <td>0.0</td>\n",
       "    </tr>\n",
       "    <tr>\n",
       "      <th>211</th>\n",
       "      <td>1.52065</td>\n",
       "      <td>14.36</td>\n",
       "      <td>0.00</td>\n",
       "      <td>2.02</td>\n",
       "      <td>73.42</td>\n",
       "      <td>0.00</td>\n",
       "      <td>8.44</td>\n",
       "      <td>1.64</td>\n",
       "      <td>0.0</td>\n",
       "    </tr>\n",
       "    <tr>\n",
       "      <th>212</th>\n",
       "      <td>1.51651</td>\n",
       "      <td>14.38</td>\n",
       "      <td>0.00</td>\n",
       "      <td>1.94</td>\n",
       "      <td>73.61</td>\n",
       "      <td>0.00</td>\n",
       "      <td>8.48</td>\n",
       "      <td>1.57</td>\n",
       "      <td>0.0</td>\n",
       "    </tr>\n",
       "    <tr>\n",
       "      <th>213</th>\n",
       "      <td>1.51711</td>\n",
       "      <td>14.23</td>\n",
       "      <td>0.00</td>\n",
       "      <td>2.08</td>\n",
       "      <td>73.36</td>\n",
       "      <td>0.00</td>\n",
       "      <td>8.62</td>\n",
       "      <td>1.67</td>\n",
       "      <td>0.0</td>\n",
       "    </tr>\n",
       "  </tbody>\n",
       "</table>\n",
       "<p>214 rows × 9 columns</p>\n",
       "</div>"
      ],
      "text/plain": [
       "          RI     Na    Mg    Al     Si     K    Ca    Ba   Fe\n",
       "0    1.52101  13.64  4.49  1.10  71.78  0.06  8.75  0.00  0.0\n",
       "1    1.51761  13.89  3.60  1.36  72.73  0.48  7.83  0.00  0.0\n",
       "2    1.51618  13.53  3.55  1.54  72.99  0.39  7.78  0.00  0.0\n",
       "3    1.51766  13.21  3.69  1.29  72.61  0.57  8.22  0.00  0.0\n",
       "4    1.51742  13.27  3.62  1.24  73.08  0.55  8.07  0.00  0.0\n",
       "..       ...    ...   ...   ...    ...   ...   ...   ...  ...\n",
       "209  1.51623  14.14  0.00  2.88  72.61  0.08  9.18  1.06  0.0\n",
       "210  1.51685  14.92  0.00  1.99  73.06  0.00  8.40  1.59  0.0\n",
       "211  1.52065  14.36  0.00  2.02  73.42  0.00  8.44  1.64  0.0\n",
       "212  1.51651  14.38  0.00  1.94  73.61  0.00  8.48  1.57  0.0\n",
       "213  1.51711  14.23  0.00  2.08  73.36  0.00  8.62  1.67  0.0\n",
       "\n",
       "[214 rows x 9 columns]"
      ]
     },
     "execution_count": 28,
     "metadata": {},
     "output_type": "execute_result"
    }
   ],
   "source": [
    "glass[['RI', 'Na', 'Mg', 'Al', 'Si', 'K', 'Ca', 'Ba', 'Fe']]"
   ]
  },
  {
   "cell_type": "markdown",
   "id": "2be2bbe4",
   "metadata": {},
   "source": [
    "# 檢查是否有Categorical資料與缺失值"
   ]
  },
  {
   "cell_type": "code",
   "execution_count": 29,
   "id": "4f37b839",
   "metadata": {
    "ExecuteTime": {
     "end_time": "2021-06-22T13:45:58.296031Z",
     "start_time": "2021-06-22T13:45:58.285623Z"
    }
   },
   "outputs": [
    {
     "name": "stdout",
     "output_type": "stream",
     "text": [
      "There are 0 categorical variables\n",
      "\n",
      "The categorical variables are :\n",
      "\n",
      " []\n"
     ]
    },
    {
     "data": {
      "text/html": [
       "<div>\n",
       "<style scoped>\n",
       "    .dataframe tbody tr th:only-of-type {\n",
       "        vertical-align: middle;\n",
       "    }\n",
       "\n",
       "    .dataframe tbody tr th {\n",
       "        vertical-align: top;\n",
       "    }\n",
       "\n",
       "    .dataframe thead th {\n",
       "        text-align: right;\n",
       "    }\n",
       "</style>\n",
       "<table border=\"1\" class=\"dataframe\">\n",
       "  <thead>\n",
       "    <tr style=\"text-align: right;\">\n",
       "      <th></th>\n",
       "    </tr>\n",
       "  </thead>\n",
       "  <tbody>\n",
       "    <tr>\n",
       "      <th>0</th>\n",
       "    </tr>\n",
       "    <tr>\n",
       "      <th>1</th>\n",
       "    </tr>\n",
       "    <tr>\n",
       "      <th>2</th>\n",
       "    </tr>\n",
       "    <tr>\n",
       "      <th>3</th>\n",
       "    </tr>\n",
       "    <tr>\n",
       "      <th>4</th>\n",
       "    </tr>\n",
       "  </tbody>\n",
       "</table>\n",
       "</div>"
      ],
      "text/plain": [
       "Empty DataFrame\n",
       "Columns: []\n",
       "Index: [0, 1, 2, 3, 4]"
      ]
     },
     "execution_count": 29,
     "metadata": {},
     "output_type": "execute_result"
    }
   ],
   "source": [
    "# find categorical variables\n",
    "\n",
    "categorical = [var for var in glass.columns if glass[var].dtype=='O']\n",
    "\n",
    "print('There are {} categorical variables\\n'.format(len(categorical)))\n",
    "\n",
    "print('The categorical variables are :\\n\\n', categorical)\n",
    "\n",
    "# view the categorical variables if they exist\n",
    "\n",
    "glass[categorical].head()"
   ]
  },
  {
   "cell_type": "code",
   "execution_count": 30,
   "id": "3d53f700",
   "metadata": {
    "ExecuteTime": {
     "end_time": "2021-06-22T13:45:58.433900Z",
     "start_time": "2021-06-22T13:45:58.419016Z"
    }
   },
   "outputs": [
    {
     "data": {
      "text/plain": [
       "Series([], dtype: float64)"
      ]
     },
     "execution_count": 30,
     "metadata": {},
     "output_type": "execute_result"
    }
   ],
   "source": [
    "# 檢查categorical attribute中是否有missing values\n",
    "\n",
    "glass[categorical].isnull().sum()"
   ]
  },
  {
   "cell_type": "code",
   "execution_count": 31,
   "id": "9ddf46ea",
   "metadata": {
    "ExecuteTime": {
     "end_time": "2021-06-22T13:45:58.557151Z",
     "start_time": "2021-06-22T13:45:58.539118Z"
    }
   },
   "outputs": [
    {
     "name": "stdout",
     "output_type": "stream",
     "text": [
      "2    76\n",
      "1    70\n",
      "7    29\n",
      "3    17\n",
      "5    13\n",
      "6     9\n",
      "Name: Class, dtype: int64\n"
     ]
    }
   ],
   "source": [
    "# 計算各個 class 的個數\n",
    "freq = glass['Class'].value_counts()\n",
    "print(freq)"
   ]
  },
  {
   "cell_type": "markdown",
   "id": "e50a3c57",
   "metadata": {},
   "source": [
    "# Data Preprocessing"
   ]
  },
  {
   "cell_type": "markdown",
   "id": "8f334a71",
   "metadata": {},
   "source": [
    "## Ten-bin discretization"
   ]
  },
  {
   "cell_type": "code",
   "execution_count": 32,
   "id": "3ae485f5",
   "metadata": {
    "ExecuteTime": {
     "end_time": "2021-06-22T13:45:59.078415Z",
     "start_time": "2021-06-22T13:45:59.069983Z"
    }
   },
   "outputs": [],
   "source": [
    "X = glass[['RI', 'Na', 'Mg', 'Al', 'Si', 'K', 'Ca', 'Ba', 'Fe']]\n",
    "y = glass['Class']\n",
    "\n",
    "# 對 id 和 class 以外的特徵做 ten-bin\n",
    "est = KBinsDiscretizer(n_bins=10, encode='ordinal', strategy='uniform')\n",
    "X_t = est.fit_transform(X)"
   ]
  },
  {
   "cell_type": "code",
   "execution_count": 33,
   "id": "0e6b888e",
   "metadata": {
    "ExecuteTime": {
     "end_time": "2021-06-22T13:45:59.339595Z",
     "start_time": "2021-06-22T13:45:59.331659Z"
    }
   },
   "outputs": [
    {
     "name": "stdout",
     "output_type": "stream",
     "text": [
      "[4. 4. 9. 2. 3. 0. 3. 0. 0.]\n"
     ]
    }
   ],
   "source": [
    "print(X_t[0])"
   ]
  },
  {
   "cell_type": "code",
   "execution_count": 34,
   "id": "8bb3051a",
   "metadata": {
    "ExecuteTime": {
     "end_time": "2021-06-22T13:45:59.538489Z",
     "start_time": "2021-06-22T13:45:59.528573Z"
    }
   },
   "outputs": [
    {
     "name": "stdout",
     "output_type": "stream",
     "text": [
      "(214, 9)\n"
     ]
    }
   ],
   "source": [
    "print(np.shape(X_t))"
   ]
  },
  {
   "cell_type": "markdown",
   "id": "6fa08e73",
   "metadata": {},
   "source": [
    "#  Model 1 : Naive Bayesian classifier have Dirichlet priors with the Laplace’s estimate"
   ]
  },
  {
   "cell_type": "code",
   "execution_count": 35,
   "id": "c9570464",
   "metadata": {
    "ExecuteTime": {
     "end_time": "2021-06-22T13:45:59.877848Z",
     "start_time": "2021-06-22T13:45:59.858008Z"
    }
   },
   "outputs": [
    {
     "name": "stdout",
     "output_type": "stream",
     "text": [
      "[[0.38574577 0.32313517 0.0669577  0.04227296 0.0682545  0.1136339 ]]\n"
     ]
    },
    {
     "data": {
      "text/plain": [
       "MultinomialNB(alpha=1,\n",
       "              class_prior=array([0.38574577, 0.32313517, 0.0669577 , 0.04227296, 0.0682545 ,\n",
       "       0.1136339 ]))"
      ]
     },
     "execution_count": 35,
     "metadata": {},
     "output_type": "execute_result"
    }
   ],
   "source": [
    "import scipy.stats\n",
    "# alpha 是各個 class 的數量\n",
    "d = scipy.stats.dirichlet.rvs(alpha = [70, 76, 17, 13, 9, 29], size=1, random_state=1)\n",
    "print(d)\n",
    "\n",
    "# alpha=1 代表 Laplace’s estimate 的分子是 n_ij + 1\n",
    "clf = MultinomialNB(alpha=1, fit_prior = True, class_prior=d.flatten())\n",
    "clf.fit(X_t, y)"
   ]
  },
  {
   "cell_type": "markdown",
   "id": "51b7a44e",
   "metadata": {},
   "source": [
    "## 5-Fold cross validation"
   ]
  },
  {
   "cell_type": "code",
   "execution_count": 36,
   "id": "15c5221c",
   "metadata": {
    "ExecuteTime": {
     "end_time": "2021-06-22T13:46:00.430494Z",
     "start_time": "2021-06-22T13:46:00.416110Z"
    }
   },
   "outputs": [
    {
     "name": "stdout",
     "output_type": "stream",
     "text": [
      "Means of 5-Fold cross validation: 0.528\n"
     ]
    }
   ],
   "source": [
    "score = cross_val_score(clf, X_t, y, scoring='accuracy', cv=5)\n",
    "print('Means of 5-Fold cross validation:', round(score.mean(),3))"
   ]
  },
  {
   "cell_type": "markdown",
   "id": "f86e7824",
   "metadata": {},
   "source": [
    "## Ranking Attribute by selective naïve Bayes"
   ]
  },
  {
   "cell_type": "code",
   "execution_count": 37,
   "id": "4ce63a22",
   "metadata": {
    "ExecuteTime": {
     "end_time": "2021-06-22T13:46:00.799320Z",
     "start_time": "2021-06-22T13:46:00.776727Z"
    }
   },
   "outputs": [
    {
     "name": "stdout",
     "output_type": "stream",
     "text": [
      "[0.00841121 0.01495327 0.12523364 0.04299065 0.00654206 0.11495327\n",
      " 0.00280374 0.06448598 0.03084112]\n"
     ]
    }
   ],
   "source": [
    "result = permutation_importance(clf, X_t, y,scoring='accuracy', random_state=0)\n",
    "\n",
    "print(result.importances_mean)"
   ]
  },
  {
   "cell_type": "code",
   "execution_count": 38,
   "id": "0f1966e1",
   "metadata": {
    "ExecuteTime": {
     "end_time": "2021-06-22T13:46:01.028947Z",
     "start_time": "2021-06-22T13:46:01.006212Z"
    },
    "scrolled": true
   },
   "outputs": [
    {
     "name": "stdout",
     "output_type": "stream",
     "text": [
      "0.12523364485981303\n",
      "0.11495327102803739\n",
      "0.06448598130841118\n",
      "0.04299065420560746\n",
      "0.030841121495327074\n",
      "0.014953271028037363\n",
      "0.008411214953270995\n",
      "0.0065420560747663226\n",
      "0.002803738317756976\n"
     ]
    }
   ],
   "source": [
    "importances = result.importances_mean\n",
    "\n",
    "# 把 Attribute 的重要性由大到排序輸出\n",
    "indices = np.argsort(importances)[::-1]\n",
    "\n",
    "for i in range(X.shape[1]):\n",
    "    print('%-10s'%result.importances_mean[indices[i]])"
   ]
  },
  {
   "cell_type": "code",
   "execution_count": 39,
   "id": "99911fc9",
   "metadata": {
    "ExecuteTime": {
     "end_time": "2021-06-22T13:46:01.290531Z",
     "start_time": "2021-06-22T13:46:01.189880Z"
    },
    "scrolled": true
   },
   "outputs": [
    {
     "data": {
      "text/plain": [
       "<function matplotlib.pyplot.show(close=None, block=None)>"
      ]
     },
     "execution_count": 39,
     "metadata": {},
     "output_type": "execute_result"
    },
    {
     "data": {
      "image/png": "[encoded data removed]",
      "text/plain": [
       "<Figure size 1440x720 with 1 Axes>"
      ]
     },
     "metadata": {
      "needs_background": "light"
     },
     "output_type": "display_data"
    }
   ],
   "source": [
    "# 視覺化\n",
    "import seaborn as sns\n",
    "featImp = pd.DataFrame()\n",
    "featImp['feat'] = ['Mg', 'K', 'Ba', 'Al', 'Fe', 'Na', 'RI', 'Si', 'Ca']\n",
    "featImp['importance'] = result.importances_mean\n",
    "featImp = featImp.sort_values('importance',ascending = False)\n",
    "plt.figure(figsize=[20,10])\n",
    "sns.barplot(x = 'importance', y = 'feat',data = featImp[:20], orient='h')\n",
    "plt.show"
   ]
  },
  {
   "cell_type": "markdown",
   "id": "f5418e31",
   "metadata": {},
   "source": [
    "## 重新排序特徵"
   ]
  },
  {
   "cell_type": "code",
   "execution_count": 40,
   "id": "43bc81bf",
   "metadata": {
    "ExecuteTime": {
     "end_time": "2021-06-22T13:46:01.829407Z",
     "start_time": "2021-06-22T13:46:01.804718Z"
    }
   },
   "outputs": [
    {
     "name": "stdout",
     "output_type": "stream",
     "text": [
      "     Mg     K   Ba    Al   Fe     Na       RI     Si    Ca\n",
      "0  4.49  0.06  0.0  1.10  0.0  13.64  1.52101  71.78  8.75\n",
      "1  3.60  0.48  0.0  1.36  0.0  13.89  1.51761  72.73  7.83\n",
      "2  3.55  0.39  0.0  1.54  0.0  13.53  1.51618  72.99  7.78\n",
      "3  3.69  0.57  0.0  1.29  0.0  13.21  1.51766  72.61  8.22\n",
      "4  3.62  0.55  0.0  1.24  0.0  13.27  1.51742  73.08  8.07\n",
      "Means of 5-Fold cross validation: 0.528\n"
     ]
    }
   ],
   "source": [
    "X = glass[['Mg', 'K', 'Ba', 'Al', 'Fe', 'Na', 'RI', 'Si', 'Ca']]\n",
    "y = glass['Class']\n",
    "\n",
    "print(X.head())\n",
    "\n",
    "# Ten-bin\n",
    "est = KBinsDiscretizer(n_bins=10, encode='ordinal', strategy='uniform')\n",
    "X_t = est.fit_transform(X)\n",
    "\n",
    "clf = MultinomialNB(alpha=1, fit_prior = True, class_prior=d.flatten())\n",
    "clf.fit(X_t, y)\n",
    "\n",
    "score = cross_val_score(clf, X_t, y, scoring='accuracy', cv=5)\n",
    "print('Means of 5-Fold cross validation:', round(score.mean(),3))"
   ]
  },
  {
   "cell_type": "markdown",
   "id": "004101d0",
   "metadata": {},
   "source": [
    "#  Model 2 : Naive Bayesian classifier have  the best noninformative Dirichlet priors"
   ]
  },
  {
   "cell_type": "code",
   "execution_count": 41,
   "id": "00503c78",
   "metadata": {
    "ExecuteTime": {
     "end_time": "2021-06-22T13:46:02.445827Z",
     "start_time": "2021-06-22T13:46:02.430983Z"
    }
   },
   "outputs": [],
   "source": [
    "X = glass[['RI', 'Na', 'Mg', 'Al', 'Si', 'K', 'Ca', 'Ba', 'Fe']]\n",
    "y = glass['Class']\n",
    "\n",
    "# 對 id 和 class 以外的特徵做 ten-bin\n",
    "est = KBinsDiscretizer(n_bins=10, encode='ordinal', strategy='uniform')\n",
    "X_t = est.fit_transform(X)"
   ]
  },
  {
   "cell_type": "code",
   "execution_count": 42,
   "id": "efb3e408",
   "metadata": {
    "ExecuteTime": {
     "end_time": "2021-06-22T13:46:02.845621Z",
     "start_time": "2021-06-22T13:46:02.830274Z"
    }
   },
   "outputs": [
    {
     "name": "stdout",
     "output_type": "stream",
     "text": [
      "[[2.22110132e-01 5.24449717e-01 4.70811414e-05 1.48186834e-01\n",
      "  6.53273311e-02 3.98789043e-02]]\n"
     ]
    }
   ],
   "source": [
    "import scipy.stats\n",
    "d = scipy.stats.dirichlet.rvs(alpha = [1,1,1,1,1,1], size=1, random_state=1)\n",
    "print(d)"
   ]
  },
  {
   "cell_type": "code",
   "execution_count": 43,
   "id": "3410362a",
   "metadata": {
    "ExecuteTime": {
     "end_time": "2021-06-22T13:46:03.244354Z",
     "start_time": "2021-06-22T13:46:03.239891Z"
    }
   },
   "outputs": [
    {
     "data": {
      "text/plain": [
       "MultinomialNB(alpha=1,\n",
       "              class_prior=array([2.22110132e-01, 5.24449717e-01, 4.70811414e-05, 1.48186834e-01,\n",
       "       6.53273311e-02, 3.98789043e-02]))"
      ]
     },
     "execution_count": 43,
     "metadata": {},
     "output_type": "execute_result"
    }
   ],
   "source": [
    "clf = MultinomialNB(alpha=1, fit_prior = True, class_prior=d.flatten())\n",
    "clf.fit(X_t, y)"
   ]
  },
  {
   "cell_type": "code",
   "execution_count": 44,
   "id": "36046f0d",
   "metadata": {
    "ExecuteTime": {
     "end_time": "2021-06-22T13:46:03.566706Z",
     "start_time": "2021-06-22T13:46:03.554301Z"
    }
   },
   "outputs": [
    {
     "name": "stdout",
     "output_type": "stream",
     "text": [
      "Means of 5-Fold cross validation: 0.5\n"
     ]
    }
   ],
   "source": [
    "score = cross_val_score(clf, X_t, y, scoring='accuracy', cv=5)\n",
    "print('Means of 5-Fold cross validation:', round(score.mean(),3))"
   ]
  },
  {
   "cell_type": "code",
   "execution_count": 45,
   "id": "b2f965f0",
   "metadata": {
    "ExecuteTime": {
     "end_time": "2021-06-22T13:46:03.921013Z",
     "start_time": "2021-06-22T13:46:03.893258Z"
    }
   },
   "outputs": [
    {
     "name": "stdout",
     "output_type": "stream",
     "text": [
      "[ 0.00654206  0.00186916  0.12803738  0.04018692  0.00093458  0.0317757\n",
      " -0.01028037  0.12897196  0.01682243]\n"
     ]
    }
   ],
   "source": [
    "result = permutation_importance(clf, X_t, y,scoring='accuracy', random_state=0)\n",
    "\n",
    "print(result.importances_mean)"
   ]
  },
  {
   "cell_type": "code",
   "execution_count": 46,
   "id": "402a754c",
   "metadata": {
    "ExecuteTime": {
     "end_time": "2021-06-22T13:46:04.212196Z",
     "start_time": "2021-06-22T13:46:04.189353Z"
    }
   },
   "outputs": [
    {
     "name": "stdout",
     "output_type": "stream",
     "text": [
      "0.1289719626168224\n",
      "0.12803738317757005\n",
      "0.040186915887850436\n",
      "0.03177570093457941\n",
      "0.016822429906542057\n",
      "0.0065420560747663226\n",
      "0.0018691588785046287\n",
      "0.0009345794392523032\n",
      "-0.010280373831775758\n"
     ]
    }
   ],
   "source": [
    "importances = result.importances_mean\n",
    "\n",
    "# 把 Attribute 的重要性由大到排序輸出\n",
    "indices = np.argsort(importances)[::-1]\n",
    "\n",
    "for i in range(X.shape[1]):\n",
    "    print('%-10s'%result.importances_mean[indices[i]])"
   ]
  },
  {
   "cell_type": "code",
   "execution_count": 47,
   "id": "ad2c8924",
   "metadata": {
    "ExecuteTime": {
     "end_time": "2021-06-22T13:46:04.796743Z",
     "start_time": "2021-06-22T13:46:04.691416Z"
    }
   },
   "outputs": [
    {
     "data": {
      "text/plain": [
       "<function matplotlib.pyplot.show(close=None, block=None)>"
      ]
     },
     "execution_count": 47,
     "metadata": {},
     "output_type": "execute_result"
    },
    {
     "data": {
      "image/png": "[encoded data removed]",
      "text/plain": [
       "<Figure size 1440x720 with 1 Axes>"
      ]
     },
     "metadata": {
      "needs_background": "light"
     },
     "output_type": "display_data"
    }
   ],
   "source": [
    "# 視覺化\n",
    "import seaborn as sns\n",
    "featImp = pd.DataFrame()\n",
    "featImp['feat'] = ['Mg', 'K', 'Ba', 'Al', 'Fe', 'Na', 'RI', 'Si', 'Ca']\n",
    "featImp['importance'] = result.importances_mean\n",
    "featImp = featImp.sort_values('importance',ascending = False)\n",
    "plt.figure(figsize=[20,10])\n",
    "sns.barplot(x = 'importance', y = 'feat',data = featImp[:20], orient='h')\n",
    "plt.show"
   ]
  },
  {
   "cell_type": "code",
   "execution_count": 48,
   "id": "daf72887",
   "metadata": {
    "ExecuteTime": {
     "end_time": "2021-06-22T13:46:05.381125Z",
     "start_time": "2021-06-22T13:46:05.361283Z"
    }
   },
   "outputs": [
    {
     "name": "stdout",
     "output_type": "stream",
     "text": [
      "Means of 5-Fold cross validation: 0.509\n"
     ]
    }
   ],
   "source": [
    "X = glass[['Ba', 'Mg', 'Al', 'K', 'Fe', 'RI', 'Na', 'Si']]\n",
    "y = glass['Class']\n",
    "\n",
    "# print(X.head())\n",
    "\n",
    "# Ten-bin\n",
    "est = KBinsDiscretizer(n_bins=10, encode='ordinal', strategy='uniform')\n",
    "X_t = est.fit_transform(X)\n",
    "\n",
    "import scipy.stats\n",
    "d = scipy.stats.dirichlet.rvs(alpha = [1,1,1,1,1,1], size=1, random_state=1)\n",
    "# print(d)\n",
    "\n",
    "clf = MultinomialNB(alpha=1, fit_prior = True, class_prior=d.flatten())\n",
    "clf.fit(X_t, y)\n",
    "\n",
    "score = cross_val_score(clf, X_t, y, scoring='accuracy', cv=5)\n",
    "print('Means of 5-Fold cross validation:', round(score.mean(),3))"
   ]
  },
  {
   "cell_type": "code",
   "execution_count": null,
   "id": "720368ff",
   "metadata": {},
   "outputs": [],
   "source": []
  }
 ],
 "metadata": {
  "hide_input": false,
  "kernelspec": {
   "display_name": "Python 3",
   "language": "python",
   "name": "python3"
  },
  "language_info": {
   "codemirror_mode": {
    "name": "ipython",
    "version": 3
   },
   "file_extension": ".py",
   "mimetype": "text/x-python",
   "name": "python",
   "nbconvert_exporter": "python",
   "pygments_lexer": "ipython3",
   "version": "3.8.9"
  },
  "toc": {
   "base_numbering": 1,
   "nav_menu": {},
   "number_sections": true,
   "sideBar": true,
   "skip_h1_title": false,
   "title_cell": "Table of Contents",
   "title_sidebar": "Contents",
   "toc_cell": false,
   "toc_position": {
    "height": "calc(100% - 180px)",
    "left": "10px",
    "top": "150px",
    "width": "303.837px"
   },
   "toc_section_display": true,
   "toc_window_display": true
  }
 },
 "nbformat": 4,
 "nbformat_minor": 5
}
