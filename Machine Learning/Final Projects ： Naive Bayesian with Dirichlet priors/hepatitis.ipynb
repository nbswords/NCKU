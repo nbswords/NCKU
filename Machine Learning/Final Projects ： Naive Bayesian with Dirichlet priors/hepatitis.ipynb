{
 "cells": [
  {
   "cell_type": "markdown",
   "id": "8437b1df",
   "metadata": {},
   "source": [
    "# Import data and libraries"
   ]
  },
  {
   "cell_type": "code",
   "execution_count": 250,
   "id": "0ae6672d",
   "metadata": {
    "ExecuteTime": {
     "end_time": "2021-06-22T13:06:52.606064Z",
     "start_time": "2021-06-22T13:06:52.573328Z"
    }
   },
   "outputs": [
    {
     "data": {
      "text/html": [
       "<div>\n",
       "<style scoped>\n",
       "    .dataframe tbody tr th:only-of-type {\n",
       "        vertical-align: middle;\n",
       "    }\n",
       "\n",
       "    .dataframe tbody tr th {\n",
       "        vertical-align: top;\n",
       "    }\n",
       "\n",
       "    .dataframe thead th {\n",
       "        text-align: right;\n",
       "    }\n",
       "</style>\n",
       "<table border=\"1\" class=\"dataframe\">\n",
       "  <thead>\n",
       "    <tr style=\"text-align: right;\">\n",
       "      <th></th>\n",
       "      <th>Class</th>\n",
       "      <th>AGE</th>\n",
       "      <th>SEX</th>\n",
       "      <th>STEROID</th>\n",
       "      <th>ANTIVIRALS</th>\n",
       "      <th>FATIGUE</th>\n",
       "      <th>MALAISE</th>\n",
       "      <th>ANOREXIA</th>\n",
       "      <th>LIVER BIG</th>\n",
       "      <th>LIVER FIRM</th>\n",
       "      <th>SPLEEN PALPABLE</th>\n",
       "      <th>SPIDERS</th>\n",
       "      <th>ASCITES</th>\n",
       "      <th>VARICES</th>\n",
       "      <th>BILIRUBIN</th>\n",
       "      <th>ALK PHOSPHATE</th>\n",
       "      <th>SGOT</th>\n",
       "      <th>ALBUMIN</th>\n",
       "      <th>PROTIME</th>\n",
       "      <th>HISTOLOGY</th>\n",
       "    </tr>\n",
       "  </thead>\n",
       "  <tbody>\n",
       "    <tr>\n",
       "      <th>0</th>\n",
       "      <td>2</td>\n",
       "      <td>30</td>\n",
       "      <td>2</td>\n",
       "      <td>1</td>\n",
       "      <td>2</td>\n",
       "      <td>2</td>\n",
       "      <td>2</td>\n",
       "      <td>2</td>\n",
       "      <td>1</td>\n",
       "      <td>2</td>\n",
       "      <td>2</td>\n",
       "      <td>2</td>\n",
       "      <td>2</td>\n",
       "      <td>2</td>\n",
       "      <td>1.00</td>\n",
       "      <td>85</td>\n",
       "      <td>18</td>\n",
       "      <td>4.0</td>\n",
       "      <td>?</td>\n",
       "      <td>1</td>\n",
       "    </tr>\n",
       "    <tr>\n",
       "      <th>1</th>\n",
       "      <td>2</td>\n",
       "      <td>50</td>\n",
       "      <td>1</td>\n",
       "      <td>1</td>\n",
       "      <td>2</td>\n",
       "      <td>1</td>\n",
       "      <td>2</td>\n",
       "      <td>2</td>\n",
       "      <td>1</td>\n",
       "      <td>2</td>\n",
       "      <td>2</td>\n",
       "      <td>2</td>\n",
       "      <td>2</td>\n",
       "      <td>2</td>\n",
       "      <td>0.90</td>\n",
       "      <td>135</td>\n",
       "      <td>42</td>\n",
       "      <td>3.5</td>\n",
       "      <td>?</td>\n",
       "      <td>1</td>\n",
       "    </tr>\n",
       "    <tr>\n",
       "      <th>2</th>\n",
       "      <td>2</td>\n",
       "      <td>78</td>\n",
       "      <td>1</td>\n",
       "      <td>2</td>\n",
       "      <td>2</td>\n",
       "      <td>1</td>\n",
       "      <td>2</td>\n",
       "      <td>2</td>\n",
       "      <td>2</td>\n",
       "      <td>2</td>\n",
       "      <td>2</td>\n",
       "      <td>2</td>\n",
       "      <td>2</td>\n",
       "      <td>2</td>\n",
       "      <td>0.70</td>\n",
       "      <td>96</td>\n",
       "      <td>32</td>\n",
       "      <td>4.0</td>\n",
       "      <td>?</td>\n",
       "      <td>1</td>\n",
       "    </tr>\n",
       "    <tr>\n",
       "      <th>3</th>\n",
       "      <td>2</td>\n",
       "      <td>31</td>\n",
       "      <td>1</td>\n",
       "      <td>?</td>\n",
       "      <td>1</td>\n",
       "      <td>2</td>\n",
       "      <td>2</td>\n",
       "      <td>2</td>\n",
       "      <td>2</td>\n",
       "      <td>2</td>\n",
       "      <td>2</td>\n",
       "      <td>2</td>\n",
       "      <td>2</td>\n",
       "      <td>2</td>\n",
       "      <td>0.70</td>\n",
       "      <td>46</td>\n",
       "      <td>52</td>\n",
       "      <td>4.0</td>\n",
       "      <td>80</td>\n",
       "      <td>1</td>\n",
       "    </tr>\n",
       "    <tr>\n",
       "      <th>4</th>\n",
       "      <td>2</td>\n",
       "      <td>34</td>\n",
       "      <td>1</td>\n",
       "      <td>2</td>\n",
       "      <td>2</td>\n",
       "      <td>2</td>\n",
       "      <td>2</td>\n",
       "      <td>2</td>\n",
       "      <td>2</td>\n",
       "      <td>2</td>\n",
       "      <td>2</td>\n",
       "      <td>2</td>\n",
       "      <td>2</td>\n",
       "      <td>2</td>\n",
       "      <td>1.00</td>\n",
       "      <td>?</td>\n",
       "      <td>200</td>\n",
       "      <td>4.0</td>\n",
       "      <td>?</td>\n",
       "      <td>1</td>\n",
       "    </tr>\n",
       "    <tr>\n",
       "      <th>...</th>\n",
       "      <td>...</td>\n",
       "      <td>...</td>\n",
       "      <td>...</td>\n",
       "      <td>...</td>\n",
       "      <td>...</td>\n",
       "      <td>...</td>\n",
       "      <td>...</td>\n",
       "      <td>...</td>\n",
       "      <td>...</td>\n",
       "      <td>...</td>\n",
       "      <td>...</td>\n",
       "      <td>...</td>\n",
       "      <td>...</td>\n",
       "      <td>...</td>\n",
       "      <td>...</td>\n",
       "      <td>...</td>\n",
       "      <td>...</td>\n",
       "      <td>...</td>\n",
       "      <td>...</td>\n",
       "      <td>...</td>\n",
       "    </tr>\n",
       "    <tr>\n",
       "      <th>150</th>\n",
       "      <td>1</td>\n",
       "      <td>46</td>\n",
       "      <td>1</td>\n",
       "      <td>2</td>\n",
       "      <td>2</td>\n",
       "      <td>1</td>\n",
       "      <td>1</td>\n",
       "      <td>1</td>\n",
       "      <td>2</td>\n",
       "      <td>2</td>\n",
       "      <td>2</td>\n",
       "      <td>1</td>\n",
       "      <td>1</td>\n",
       "      <td>1</td>\n",
       "      <td>7.60</td>\n",
       "      <td>?</td>\n",
       "      <td>242</td>\n",
       "      <td>3.3</td>\n",
       "      <td>50</td>\n",
       "      <td>2</td>\n",
       "    </tr>\n",
       "    <tr>\n",
       "      <th>151</th>\n",
       "      <td>2</td>\n",
       "      <td>44</td>\n",
       "      <td>1</td>\n",
       "      <td>2</td>\n",
       "      <td>2</td>\n",
       "      <td>1</td>\n",
       "      <td>2</td>\n",
       "      <td>2</td>\n",
       "      <td>2</td>\n",
       "      <td>1</td>\n",
       "      <td>2</td>\n",
       "      <td>2</td>\n",
       "      <td>2</td>\n",
       "      <td>2</td>\n",
       "      <td>0.90</td>\n",
       "      <td>126</td>\n",
       "      <td>142</td>\n",
       "      <td>4.3</td>\n",
       "      <td>?</td>\n",
       "      <td>2</td>\n",
       "    </tr>\n",
       "    <tr>\n",
       "      <th>152</th>\n",
       "      <td>2</td>\n",
       "      <td>61</td>\n",
       "      <td>1</td>\n",
       "      <td>1</td>\n",
       "      <td>2</td>\n",
       "      <td>1</td>\n",
       "      <td>1</td>\n",
       "      <td>2</td>\n",
       "      <td>1</td>\n",
       "      <td>1</td>\n",
       "      <td>2</td>\n",
       "      <td>1</td>\n",
       "      <td>2</td>\n",
       "      <td>2</td>\n",
       "      <td>0.80</td>\n",
       "      <td>75</td>\n",
       "      <td>20</td>\n",
       "      <td>4.1</td>\n",
       "      <td>?</td>\n",
       "      <td>2</td>\n",
       "    </tr>\n",
       "    <tr>\n",
       "      <th>153</th>\n",
       "      <td>2</td>\n",
       "      <td>53</td>\n",
       "      <td>2</td>\n",
       "      <td>1</td>\n",
       "      <td>2</td>\n",
       "      <td>1</td>\n",
       "      <td>2</td>\n",
       "      <td>2</td>\n",
       "      <td>2</td>\n",
       "      <td>2</td>\n",
       "      <td>1</td>\n",
       "      <td>1</td>\n",
       "      <td>2</td>\n",
       "      <td>1</td>\n",
       "      <td>1.50</td>\n",
       "      <td>81</td>\n",
       "      <td>19</td>\n",
       "      <td>4.1</td>\n",
       "      <td>48</td>\n",
       "      <td>2</td>\n",
       "    </tr>\n",
       "    <tr>\n",
       "      <th>154</th>\n",
       "      <td>1</td>\n",
       "      <td>43</td>\n",
       "      <td>1</td>\n",
       "      <td>2</td>\n",
       "      <td>2</td>\n",
       "      <td>1</td>\n",
       "      <td>2</td>\n",
       "      <td>2</td>\n",
       "      <td>2</td>\n",
       "      <td>2</td>\n",
       "      <td>1</td>\n",
       "      <td>1</td>\n",
       "      <td>1</td>\n",
       "      <td>2</td>\n",
       "      <td>1.20</td>\n",
       "      <td>100</td>\n",
       "      <td>19</td>\n",
       "      <td>3.1</td>\n",
       "      <td>42</td>\n",
       "      <td>2</td>\n",
       "    </tr>\n",
       "  </tbody>\n",
       "</table>\n",
       "<p>155 rows × 20 columns</p>\n",
       "</div>"
      ],
      "text/plain": [
       "     Class  AGE  SEX STEROID  ANTIVIRALS FATIGUE MALAISE ANOREXIA LIVER BIG  \\\n",
       "0        2   30    2       1           2       2       2        2         1   \n",
       "1        2   50    1       1           2       1       2        2         1   \n",
       "2        2   78    1       2           2       1       2        2         2   \n",
       "3        2   31    1       ?           1       2       2        2         2   \n",
       "4        2   34    1       2           2       2       2        2         2   \n",
       "..     ...  ...  ...     ...         ...     ...     ...      ...       ...   \n",
       "150      1   46    1       2           2       1       1        1         2   \n",
       "151      2   44    1       2           2       1       2        2         2   \n",
       "152      2   61    1       1           2       1       1        2         1   \n",
       "153      2   53    2       1           2       1       2        2         2   \n",
       "154      1   43    1       2           2       1       2        2         2   \n",
       "\n",
       "    LIVER FIRM SPLEEN PALPABLE SPIDERS ASCITES VARICES BILIRUBIN  \\\n",
       "0            2               2       2       2       2      1.00   \n",
       "1            2               2       2       2       2      0.90   \n",
       "2            2               2       2       2       2      0.70   \n",
       "3            2               2       2       2       2      0.70   \n",
       "4            2               2       2       2       2      1.00   \n",
       "..         ...             ...     ...     ...     ...       ...   \n",
       "150          2               2       1       1       1      7.60   \n",
       "151          1               2       2       2       2      0.90   \n",
       "152          1               2       1       2       2      0.80   \n",
       "153          2               1       1       2       1      1.50   \n",
       "154          2               1       1       1       2      1.20   \n",
       "\n",
       "    ALK PHOSPHATE SGOT ALBUMIN PROTIME  HISTOLOGY  \n",
       "0              85   18     4.0       ?          1  \n",
       "1             135   42     3.5       ?          1  \n",
       "2              96   32     4.0       ?          1  \n",
       "3              46   52     4.0      80          1  \n",
       "4               ?  200     4.0       ?          1  \n",
       "..            ...  ...     ...     ...        ...  \n",
       "150             ?  242     3.3      50          2  \n",
       "151           126  142     4.3       ?          2  \n",
       "152            75   20     4.1       ?          2  \n",
       "153            81   19     4.1      48          2  \n",
       "154           100   19     3.1      42          2  \n",
       "\n",
       "[155 rows x 20 columns]"
      ]
     },
     "execution_count": 250,
     "metadata": {},
     "output_type": "execute_result"
    }
   ],
   "source": [
    "import numpy as np\n",
    "import pandas as pd\n",
    "import matplotlib.pyplot as plt\n",
    "from sklearn import metrics\n",
    "from sklearn.preprocessing import KBinsDiscretizer\n",
    "from sklearn.naive_bayes import MultinomialNB\n",
    "from sklearn.model_selection import cross_val_score\n",
    "from sklearn.inspection import permutation_importance\n",
    "from scipy.stats import dirichlet\n",
    "\n",
    "hepatitis_names = ['Class', 'AGE', 'SEX', 'STEROID', 'ANTIVIRALS', 'FATIGUE', 'MALAISE', 'ANOREXIA', 'LIVER BIG', \\\n",
    "               'LIVER FIRM', 'SPLEEN PALPABLE', 'SPIDERS', 'ASCITES', 'VARICES', 'BILIRUBIN', 'ALK PHOSPHATE', \\\n",
    "               'SGOT', 'ALBUMIN', 'PROTIME', 'HISTOLOGY']\n",
    "hepatitis = pd.read_table('Hepatitis/hepatitis.data', sep = \",\", names=hepatitis_names)\n",
    "hepatitis.reindex(index= ['Class', 'AGE', 'SEX', 'STEROID', 'ANTIVIRALS', 'FATIGUE', 'MALAISE', 'ANOREXIA', 'LIVER BIG', \\\n",
    "               'LIVER FIRM', 'SPLEEN PALPABLE', 'SPIDERS', 'ASCITES', 'VARICES', 'BILIRUBIN', 'ALK PHOSPHATE', \\\n",
    "               'SGOT', 'ALBUMIN', 'PROTIME', 'HISTOLOGY'])\n",
    "hepatitis"
   ]
  },
  {
   "cell_type": "markdown",
   "id": "2be2bbe4",
   "metadata": {},
   "source": [
    "# 檢查是否有Categorical資料與缺失值"
   ]
  },
  {
   "cell_type": "code",
   "execution_count": 251,
   "id": "4f37b839",
   "metadata": {
    "ExecuteTime": {
     "end_time": "2021-06-22T13:06:52.836530Z",
     "start_time": "2021-06-22T13:06:52.822147Z"
    }
   },
   "outputs": [
    {
     "name": "stdout",
     "output_type": "stream",
     "text": [
      "There are 15 categorical variables\n",
      "\n",
      "The categorical variables are :\n",
      "\n",
      " ['STEROID', 'FATIGUE', 'MALAISE', 'ANOREXIA', 'LIVER BIG', 'LIVER FIRM', 'SPLEEN PALPABLE', 'SPIDERS', 'ASCITES', 'VARICES', 'BILIRUBIN', 'ALK PHOSPHATE', 'SGOT', 'ALBUMIN', 'PROTIME']\n"
     ]
    },
    {
     "data": {
      "text/html": [
       "<div>\n",
       "<style scoped>\n",
       "    .dataframe tbody tr th:only-of-type {\n",
       "        vertical-align: middle;\n",
       "    }\n",
       "\n",
       "    .dataframe tbody tr th {\n",
       "        vertical-align: top;\n",
       "    }\n",
       "\n",
       "    .dataframe thead th {\n",
       "        text-align: right;\n",
       "    }\n",
       "</style>\n",
       "<table border=\"1\" class=\"dataframe\">\n",
       "  <thead>\n",
       "    <tr style=\"text-align: right;\">\n",
       "      <th></th>\n",
       "      <th>STEROID</th>\n",
       "      <th>FATIGUE</th>\n",
       "      <th>MALAISE</th>\n",
       "      <th>ANOREXIA</th>\n",
       "      <th>LIVER BIG</th>\n",
       "      <th>LIVER FIRM</th>\n",
       "      <th>SPLEEN PALPABLE</th>\n",
       "      <th>SPIDERS</th>\n",
       "      <th>ASCITES</th>\n",
       "      <th>VARICES</th>\n",
       "      <th>BILIRUBIN</th>\n",
       "      <th>ALK PHOSPHATE</th>\n",
       "      <th>SGOT</th>\n",
       "      <th>ALBUMIN</th>\n",
       "      <th>PROTIME</th>\n",
       "    </tr>\n",
       "  </thead>\n",
       "  <tbody>\n",
       "    <tr>\n",
       "      <th>0</th>\n",
       "      <td>1</td>\n",
       "      <td>2</td>\n",
       "      <td>2</td>\n",
       "      <td>2</td>\n",
       "      <td>1</td>\n",
       "      <td>2</td>\n",
       "      <td>2</td>\n",
       "      <td>2</td>\n",
       "      <td>2</td>\n",
       "      <td>2</td>\n",
       "      <td>1.00</td>\n",
       "      <td>85</td>\n",
       "      <td>18</td>\n",
       "      <td>4.0</td>\n",
       "      <td>?</td>\n",
       "    </tr>\n",
       "    <tr>\n",
       "      <th>1</th>\n",
       "      <td>1</td>\n",
       "      <td>1</td>\n",
       "      <td>2</td>\n",
       "      <td>2</td>\n",
       "      <td>1</td>\n",
       "      <td>2</td>\n",
       "      <td>2</td>\n",
       "      <td>2</td>\n",
       "      <td>2</td>\n",
       "      <td>2</td>\n",
       "      <td>0.90</td>\n",
       "      <td>135</td>\n",
       "      <td>42</td>\n",
       "      <td>3.5</td>\n",
       "      <td>?</td>\n",
       "    </tr>\n",
       "    <tr>\n",
       "      <th>2</th>\n",
       "      <td>2</td>\n",
       "      <td>1</td>\n",
       "      <td>2</td>\n",
       "      <td>2</td>\n",
       "      <td>2</td>\n",
       "      <td>2</td>\n",
       "      <td>2</td>\n",
       "      <td>2</td>\n",
       "      <td>2</td>\n",
       "      <td>2</td>\n",
       "      <td>0.70</td>\n",
       "      <td>96</td>\n",
       "      <td>32</td>\n",
       "      <td>4.0</td>\n",
       "      <td>?</td>\n",
       "    </tr>\n",
       "    <tr>\n",
       "      <th>3</th>\n",
       "      <td>?</td>\n",
       "      <td>2</td>\n",
       "      <td>2</td>\n",
       "      <td>2</td>\n",
       "      <td>2</td>\n",
       "      <td>2</td>\n",
       "      <td>2</td>\n",
       "      <td>2</td>\n",
       "      <td>2</td>\n",
       "      <td>2</td>\n",
       "      <td>0.70</td>\n",
       "      <td>46</td>\n",
       "      <td>52</td>\n",
       "      <td>4.0</td>\n",
       "      <td>80</td>\n",
       "    </tr>\n",
       "    <tr>\n",
       "      <th>4</th>\n",
       "      <td>2</td>\n",
       "      <td>2</td>\n",
       "      <td>2</td>\n",
       "      <td>2</td>\n",
       "      <td>2</td>\n",
       "      <td>2</td>\n",
       "      <td>2</td>\n",
       "      <td>2</td>\n",
       "      <td>2</td>\n",
       "      <td>2</td>\n",
       "      <td>1.00</td>\n",
       "      <td>?</td>\n",
       "      <td>200</td>\n",
       "      <td>4.0</td>\n",
       "      <td>?</td>\n",
       "    </tr>\n",
       "  </tbody>\n",
       "</table>\n",
       "</div>"
      ],
      "text/plain": [
       "  STEROID FATIGUE MALAISE ANOREXIA LIVER BIG LIVER FIRM SPLEEN PALPABLE  \\\n",
       "0       1       2       2        2         1          2               2   \n",
       "1       1       1       2        2         1          2               2   \n",
       "2       2       1       2        2         2          2               2   \n",
       "3       ?       2       2        2         2          2               2   \n",
       "4       2       2       2        2         2          2               2   \n",
       "\n",
       "  SPIDERS ASCITES VARICES BILIRUBIN ALK PHOSPHATE SGOT ALBUMIN PROTIME  \n",
       "0       2       2       2      1.00            85   18     4.0       ?  \n",
       "1       2       2       2      0.90           135   42     3.5       ?  \n",
       "2       2       2       2      0.70            96   32     4.0       ?  \n",
       "3       2       2       2      0.70            46   52     4.0      80  \n",
       "4       2       2       2      1.00             ?  200     4.0       ?  "
      ]
     },
     "execution_count": 251,
     "metadata": {},
     "output_type": "execute_result"
    }
   ],
   "source": [
    "# find categorical variables\n",
    "\n",
    "categorical = [var for var in hepatitis.columns if hepatitis[var].dtype=='O']\n",
    "\n",
    "print('There are {} categorical variables\\n'.format(len(categorical)))\n",
    "\n",
    "print('The categorical variables are :\\n\\n', categorical)\n",
    "\n",
    "# view the categorical variables if they exist\n",
    "\n",
    "hepatitis[categorical].head()"
   ]
  },
  {
   "cell_type": "code",
   "execution_count": 252,
   "id": "3d53f700",
   "metadata": {
    "ExecuteTime": {
     "end_time": "2021-06-22T13:06:53.174554Z",
     "start_time": "2021-06-22T13:06:53.165627Z"
    }
   },
   "outputs": [],
   "source": [
    "# 刪除有缺失值的資料，在這個資料集中，缺失值是用'?'來表示的\n",
    "hepatitis = hepatitis[(hepatitis != '?').all(axis=1)]"
   ]
  },
  {
   "cell_type": "code",
   "execution_count": 253,
   "id": "9ddf46ea",
   "metadata": {
    "ExecuteTime": {
     "end_time": "2021-06-22T13:06:53.297791Z",
     "start_time": "2021-06-22T13:06:53.293822Z"
    }
   },
   "outputs": [
    {
     "name": "stdout",
     "output_type": "stream",
     "text": [
      "2    67\n",
      "1    13\n",
      "Name: Class, dtype: int64\n"
     ]
    }
   ],
   "source": [
    "# 計算各個 class 的個數\n",
    "freq = hepatitis['Class'].value_counts()\n",
    "print(freq)"
   ]
  },
  {
   "cell_type": "code",
   "execution_count": 254,
   "id": "bfc23069",
   "metadata": {
    "ExecuteTime": {
     "end_time": "2021-06-22T13:06:53.420822Z",
     "start_time": "2021-06-22T13:06:53.408389Z"
    }
   },
   "outputs": [
    {
     "data": {
      "text/plain": [
       "80"
      ]
     },
     "execution_count": 254,
     "metadata": {},
     "output_type": "execute_result"
    }
   ],
   "source": [
    "hepatitis.shape[0]"
   ]
  },
  {
   "cell_type": "markdown",
   "id": "e50a3c57",
   "metadata": {},
   "source": [
    "# Data Preprocessing"
   ]
  },
  {
   "cell_type": "markdown",
   "id": "8f334a71",
   "metadata": {},
   "source": [
    "## Ten-bin discretization"
   ]
  },
  {
   "cell_type": "code",
   "execution_count": 255,
   "id": "3ae485f5",
   "metadata": {
    "ExecuteTime": {
     "end_time": "2021-06-22T13:06:53.774284Z",
     "start_time": "2021-06-22T13:06:53.767340Z"
    }
   },
   "outputs": [],
   "source": [
    "X = hepatitis[['AGE', 'SEX', 'STEROID', 'ANTIVIRALS', 'FATIGUE', 'MALAISE', 'ANOREXIA', 'LIVER BIG', \\\n",
    "               'LIVER FIRM', 'SPLEEN PALPABLE', 'SPIDERS', 'ASCITES', 'VARICES', 'BILIRUBIN', 'ALK PHOSPHATE', \\\n",
    "               'SGOT', 'ALBUMIN', 'PROTIME', 'HISTOLOGY']]\n",
    "y = hepatitis['Class']\n",
    "\n",
    "# 對 class 和 連續型的特徵做 ten-bin\n",
    "est = KBinsDiscretizer(n_bins=10, encode='ordinal', strategy='uniform')\n",
    "X_t = est.fit_transform(X)"
   ]
  },
  {
   "cell_type": "code",
   "execution_count": 256,
   "id": "0e6b888e",
   "metadata": {
    "ExecuteTime": {
     "end_time": "2021-06-22T13:06:53.896544Z",
     "start_time": "2021-06-22T13:06:53.884145Z"
    }
   },
   "outputs": [
    {
     "name": "stdout",
     "output_type": "stream",
     "text": [
      "[2. 0. 9. 9. 9. 9. 9. 9. 9. 9. 9. 9. 9. 1. 2. 0. 6. 7. 0.]\n"
     ]
    }
   ],
   "source": [
    "print(X_t[0])"
   ]
  },
  {
   "cell_type": "code",
   "execution_count": 257,
   "id": "8bb3051a",
   "metadata": {
    "ExecuteTime": {
     "end_time": "2021-06-22T13:06:54.004295Z",
     "start_time": "2021-06-22T13:06:53.999336Z"
    }
   },
   "outputs": [
    {
     "name": "stdout",
     "output_type": "stream",
     "text": [
      "(80, 19)\n"
     ]
    }
   ],
   "source": [
    "print(np.shape(X_t))"
   ]
  },
  {
   "cell_type": "markdown",
   "id": "6fa08e73",
   "metadata": {},
   "source": [
    "#  Model 1 : Naive Bayesian classifier have Dirichlet priors with the Laplace’s estimate"
   ]
  },
  {
   "cell_type": "code",
   "execution_count": 258,
   "id": "c9570464",
   "metadata": {
    "ExecuteTime": {
     "end_time": "2021-06-22T13:06:54.250726Z",
     "start_time": "2021-06-22T13:06:54.242790Z"
    }
   },
   "outputs": [
    {
     "name": "stdout",
     "output_type": "stream",
     "text": [
      "[[0.23866586 0.76133414]]\n"
     ]
    },
    {
     "data": {
      "text/plain": [
       "MultinomialNB(alpha=1, class_prior=array([0.23866586, 0.76133414]))"
      ]
     },
     "execution_count": 258,
     "metadata": {},
     "output_type": "execute_result"
    }
   ],
   "source": [
    "import scipy.stats\n",
    "# alpha 是各個 class 的數量\n",
    "d = scipy.stats.dirichlet.rvs(alpha = [13, 67], size=1, random_state=1)\n",
    "print(d)\n",
    "\n",
    "# alpha=1 代表 Laplace’s estimate 的分子是 n_ij + 1\n",
    "clf = MultinomialNB(alpha=1, fit_prior = True, class_prior=d.flatten())\n",
    "clf.fit(X_t, y)"
   ]
  },
  {
   "cell_type": "markdown",
   "id": "51b7a44e",
   "metadata": {},
   "source": [
    "## 5-Fold cross validation"
   ]
  },
  {
   "cell_type": "code",
   "execution_count": 259,
   "id": "15c5221c",
   "metadata": {
    "ExecuteTime": {
     "end_time": "2021-06-22T13:06:54.696781Z",
     "start_time": "2021-06-22T13:06:54.679915Z"
    }
   },
   "outputs": [
    {
     "name": "stdout",
     "output_type": "stream",
     "text": [
      "Means of 5-Fold cross validation: 0.597\n"
     ]
    }
   ],
   "source": [
    "score = cross_val_score(clf, X_t, y, scoring='f1', cv=5)\n",
    "print('Means of 5-Fold cross validation:', round(score.mean(),3))"
   ]
  },
  {
   "cell_type": "markdown",
   "id": "f86e7824",
   "metadata": {},
   "source": [
    "## Ranking Attribute by selective naïve Bayes"
   ]
  },
  {
   "cell_type": "code",
   "execution_count": 260,
   "id": "4ce63a22",
   "metadata": {
    "ExecuteTime": {
     "end_time": "2021-06-22T13:06:55.111715Z",
     "start_time": "2021-06-22T13:06:55.054614Z"
    }
   },
   "outputs": [
    {
     "name": "stdout",
     "output_type": "stream",
     "text": [
      "[ 0.00806452  0.10748053  0.00690371 -0.02567204 -0.0047043  -0.00924976\n",
      "  0.01612903 -0.00430108  0.          0.00403226 -0.00078201 -0.00835777\n",
      "  0.         -0.021802    0.00806452  0.         -0.02137097  0.00403226\n",
      "  0.11470237]\n"
     ]
    }
   ],
   "source": [
    "result = permutation_importance(clf, X_t, y,scoring='f1', random_state=0)\n",
    "\n",
    "print(result.importances_mean)"
   ]
  },
  {
   "cell_type": "code",
   "execution_count": 261,
   "id": "0f1966e1",
   "metadata": {
    "ExecuteTime": {
     "end_time": "2021-06-22T13:06:55.219453Z",
     "start_time": "2021-06-22T13:06:55.195150Z"
    },
    "scrolled": true
   },
   "outputs": [
    {
     "name": "stdout",
     "output_type": "stream",
     "text": [
      "0.11470236840255812\n",
      "0.10748053392658505\n",
      "0.016129032258064502\n",
      "0.008064516129032251\n",
      "0.008064516129032251\n",
      "0.0069037145650048485\n",
      "0.0040322580645161255\n",
      "0.0040322580645161255\n",
      "0.0       \n",
      "0.0       \n",
      "0.0       \n",
      "-0.0007820136852395354\n",
      "-0.0043010752688172225\n",
      "-0.004704301075268846\n",
      "-0.008357771260997104\n",
      "-0.00924975562072341\n",
      "-0.021370967741935497\n",
      "-0.021802002224694174\n",
      "-0.025672043010752765\n"
     ]
    }
   ],
   "source": [
    "importances = result.importances_mean\n",
    "\n",
    "# 把 Attribute 的重要性由大到排序輸出\n",
    "indices = np.argsort(importances)[::-1]\n",
    "\n",
    "for i in range(X.shape[1]):\n",
    "    print('%-10s'%result.importances_mean[indices[i]])"
   ]
  },
  {
   "cell_type": "code",
   "execution_count": 262,
   "id": "372ca37d",
   "metadata": {
    "ExecuteTime": {
     "end_time": "2021-06-22T13:06:55.481673Z",
     "start_time": "2021-06-22T13:06:55.342752Z"
    }
   },
   "outputs": [
    {
     "data": {
      "text/plain": [
       "<function matplotlib.pyplot.show(close=None, block=None)>"
      ]
     },
     "execution_count": 262,
     "metadata": {},
     "output_type": "execute_result"
    },
    {
     "data": {
      "image/png": "[encoded data removed]",
      "text/plain": [
       "<Figure size 1440x720 with 1 Axes>"
      ]
     },
     "metadata": {
      "needs_background": "light"
     },
     "output_type": "display_data"
    }
   ],
   "source": [
    "# 視覺化\n",
    "import seaborn as sns\n",
    "featImp = pd.DataFrame()\n",
    "featImp['feat'] = ['AGE', 'SEX', 'STEROID', 'ANTIVIRALS', 'FATIGUE', 'MALAISE', 'ANOREXIA', 'LIVER BIG', \\\n",
    "               'LIVER FIRM', 'SPLEEN PALPABLE', 'SPIDERS', 'ASCITES', 'VARICES', 'BILIRUBIN', 'ALK PHOSPHATE', \\\n",
    "               'SGOT', 'ALBUMIN', 'PROTIME', 'HISTOLOGY']\n",
    "featImp['importance'] = result.importances_mean\n",
    "featImp = featImp.sort_values('importance',ascending = False)\n",
    "plt.figure(figsize=[20,10])\n",
    "sns.barplot(x = 'importance', y = 'feat',data = featImp[:20], orient='h')\n",
    "plt.show"
   ]
  },
  {
   "cell_type": "markdown",
   "id": "f5418e31",
   "metadata": {},
   "source": [
    "## 重新排序特徵"
   ]
  },
  {
   "cell_type": "code",
   "execution_count": 263,
   "id": "8302d8a3",
   "metadata": {
    "ExecuteTime": {
     "end_time": "2021-06-22T13:06:55.712169Z",
     "start_time": "2021-06-22T13:06:55.644713Z"
    }
   },
   "outputs": [
    {
     "name": "stdout",
     "output_type": "stream",
     "text": [
      "    AGE  SEX STEROID ANOREXIA LIVER FIRM SPLEEN PALPABLE VARICES  \\\n",
      "5    34    1       2        2          2               2       2   \n",
      "10   39    1       1        2          1               2       2   \n",
      "11   32    1       2        2          1               2       2   \n",
      "12   41    1       2        2          1               2       2   \n",
      "13   30    1       2        2          1               2       2   \n",
      "\n",
      "   ALK PHOSPHATE SGOT PROTIME  HISTOLOGY  \n",
      "5             95   28      75          1  \n",
      "10            78   30      85          1  \n",
      "11            59  249      54          1  \n",
      "12            81   60      52          1  \n",
      "13            57  144      78          1  \n",
      "[[0.23866586 0.76133414]]\n",
      "Means of 5-Fold cross validation: 0.64\n",
      "[ 0.00836237  0.04687988 -0.03049274 -0.00585366  0.00557491  0.\n",
      "  0.00278746  0.00544526  0.          0.01646544  0.24601924]\n",
      "0.24601923592182592\n",
      "0.04687987780413966\n",
      "0.01646544040191227\n",
      "0.008362369337979025\n",
      "0.005574912891986017\n",
      "0.0054452637549631255\n",
      "0.0027874564459930084\n",
      "0.0       \n",
      "0.0       \n",
      "-0.005853658536585371\n",
      "-0.030492742174385377\n"
     ]
    }
   ],
   "source": [
    "# 刪除重要性是負數的特徵\n",
    "X = hepatitis[['AGE', 'SEX', 'STEROID',  'ANOREXIA',\n",
    "               'LIVER FIRM', 'SPLEEN PALPABLE', 'VARICES', 'ALK PHOSPHATE',\n",
    "               'SGOT', 'PROTIME', 'HISTOLOGY']]\n",
    "y = hepatitis['Class']\n",
    "\n",
    "print(X.head())\n",
    "\n",
    "# Ten-bin\n",
    "est = KBinsDiscretizer(n_bins=10, encode='ordinal', strategy='uniform')\n",
    "X_t = est.fit_transform(X)\n",
    "\n",
    "# Model\n",
    "import scipy.stats\n",
    "# alpha 是各個 class 的數量\n",
    "d = scipy.stats.dirichlet.rvs(alpha = [13, 67], size=1, random_state=1)\n",
    "print(d)\n",
    "\n",
    "# alpha=1 代表 Laplace’s estimate 的分子是 n_ij + 1\n",
    "clf = MultinomialNB(alpha=1, fit_prior = True, class_prior=d.flatten())\n",
    "clf.fit(X_t, y)\n",
    "\n",
    "score = cross_val_score(clf, X_t, y, scoring='f1', cv=5)\n",
    "print('Means of 5-Fold cross validation:', round(score.mean(),3))\n",
    "\n",
    "result = permutation_importance(clf, X_t, y,scoring='f1', random_state=0)\n",
    "\n",
    "print(result.importances_mean)\n",
    "\n",
    "importances = result.importances_mean\n",
    "\n",
    "# 把 Attribute 的重要性由大到排序輸出\n",
    "indices = np.argsort(importances)[::-1]\n",
    "\n",
    "for i in range(X.shape[1]):\n",
    "    print('%-10s'%result.importances_mean[indices[i]])\n"
   ]
  },
  {
   "cell_type": "markdown",
   "id": "9d7df8d3",
   "metadata": {},
   "source": [
    "# 額外實驗：將accuracy替換為F1 score, Precision 和 recall"
   ]
  },
  {
   "cell_type": "markdown",
   "id": "2fc4fcba",
   "metadata": {},
   "source": [
    "## Precision"
   ]
  },
  {
   "cell_type": "code",
   "execution_count": 264,
   "id": "5b9481aa",
   "metadata": {
    "ExecuteTime": {
     "end_time": "2021-06-22T13:06:56.173864Z",
     "start_time": "2021-06-22T13:06:56.158027Z"
    }
   },
   "outputs": [],
   "source": [
    "scoring = 'precision'"
   ]
  },
  {
   "cell_type": "code",
   "execution_count": 265,
   "id": "6976cd76",
   "metadata": {
    "ExecuteTime": {
     "end_time": "2021-06-22T13:06:56.358585Z",
     "start_time": "2021-06-22T13:06:56.326760Z"
    }
   },
   "outputs": [
    {
     "name": "stdout",
     "output_type": "stream",
     "text": [
      "[[0.23866586 0.76133414]]\n",
      "Means of 5-Fold cross validation: 0.59\n"
     ]
    }
   ],
   "source": [
    "X = hepatitis[['AGE', 'SEX', 'STEROID', 'ANTIVIRALS', 'FATIGUE', 'MALAISE', 'ANOREXIA', 'LIVER BIG', \\\n",
    "               'LIVER FIRM', 'SPLEEN PALPABLE', 'SPIDERS', 'ASCITES', 'VARICES', 'BILIRUBIN', 'ALK PHOSPHATE', \\\n",
    "               'SGOT', 'ALBUMIN', 'PROTIME', 'HISTOLOGY']]\n",
    "y = hepatitis['Class']\n",
    "\n",
    "# 對 class 和 連續型的特徵做 ten-bin\n",
    "est = KBinsDiscretizer(n_bins=10, encode='ordinal', strategy='uniform')\n",
    "X_t = est.fit_transform(X)\n",
    "\n",
    "# alpha 是各個 class 的數量\n",
    "d = scipy.stats.dirichlet.rvs(alpha = [13, 67], size=1, random_state=1)\n",
    "print(d)\n",
    "\n",
    "# alpha=1 代表 Laplace’s estimate 的分子是 n_ij + 1\n",
    "clf = MultinomialNB(alpha=1, fit_prior = True, class_prior=d.flatten())\n",
    "clf.fit(X_t, y)\n",
    "\n",
    "score = cross_val_score(clf, X_t, y, scoring=scoring, cv=5)\n",
    "print('Means of 5-Fold cross validation:', round(score.mean(),3))"
   ]
  },
  {
   "cell_type": "code",
   "execution_count": 266,
   "id": "dfac789b",
   "metadata": {
    "ExecuteTime": {
     "end_time": "2021-06-22T13:06:56.697250Z",
     "start_time": "2021-06-22T13:06:56.492120Z"
    }
   },
   "outputs": [
    {
     "name": "stdout",
     "output_type": "stream",
     "text": [
      "[ 0.01169591  0.09437135  0.02450292 -0.00023392  0.0004816   0.00865497\n",
      "  0.02339181 -0.00653595  0.          0.00584795  0.01333333  0.00280702\n",
      "  0.         -0.03349673  0.01169591  0.         -0.00818713  0.00584795\n",
      "  0.10150376]\n",
      "0.10150375939849629\n",
      "0.0943713450292398\n",
      "0.024502923976608203\n",
      "0.02339181286549712\n",
      "0.01333333333333333\n",
      "0.01169590643274856\n",
      "0.01169590643274856\n",
      "0.008654970760233915\n",
      "0.00584795321637428\n",
      "0.00584795321637428\n",
      "0.00280701754385968\n",
      "0.00048159614723084496\n",
      "0.0       \n",
      "0.0       \n",
      "0.0       \n",
      "-0.0002339181286549863\n",
      "-0.0065359477124183\n",
      "-0.008187134502923965\n",
      "-0.03349673202614378\n"
     ]
    },
    {
     "data": {
      "text/plain": [
       "<function matplotlib.pyplot.show(close=None, block=None)>"
      ]
     },
     "execution_count": 266,
     "metadata": {},
     "output_type": "execute_result"
    },
    {
     "data": {
      "image/png": "[encoded data removed]",
      "text/plain": [
       "<Figure size 1440x720 with 1 Axes>"
      ]
     },
     "metadata": {
      "needs_background": "light"
     },
     "output_type": "display_data"
    }
   ],
   "source": [
    "result = permutation_importance(clf, X_t, y,scoring=scoring, random_state=0)\n",
    "\n",
    "print(result.importances_mean)\n",
    "\n",
    "importances = result.importances_mean\n",
    "\n",
    "# 把 Attribute 的重要性由大到排序輸出\n",
    "indices = np.argsort(importances)[::-1]\n",
    "\n",
    "for i in range(X.shape[1]):\n",
    "    print('%-10s'%result.importances_mean[indices[i]])\n",
    "\n",
    "# 視覺化\n",
    "import seaborn as sns\n",
    "featImp = pd.DataFrame()\n",
    "featImp['feat'] = ['AGE', 'SEX', 'STEROID', 'ANTIVIRALS', 'FATIGUE', 'MALAISE', 'ANOREXIA', 'LIVER BIG', \\\n",
    "               'LIVER FIRM', 'SPLEEN PALPABLE', 'SPIDERS', 'ASCITES', 'VARICES', 'BILIRUBIN', 'ALK PHOSPHATE', \\\n",
    "               'SGOT', 'ALBUMIN', 'PROTIME', 'HISTOLOGY']\n",
    "featImp['importance'] = result.importances_mean\n",
    "featImp = featImp.sort_values('importance',ascending = False)\n",
    "plt.figure(figsize=[20,10])\n",
    "sns.barplot(x = 'importance', y = 'feat',data = featImp[:20], orient='h')\n",
    "plt.show"
   ]
  },
  {
   "cell_type": "markdown",
   "id": "5ea93cc2",
   "metadata": {},
   "source": [
    "### Precision : 刪掉負的特徵之後"
   ]
  },
  {
   "cell_type": "code",
   "execution_count": 267,
   "id": "17312e0d",
   "metadata": {
    "ExecuteTime": {
     "end_time": "2021-06-22T13:06:56.881379Z",
     "start_time": "2021-06-22T13:06:56.857056Z"
    }
   },
   "outputs": [
    {
     "name": "stdout",
     "output_type": "stream",
     "text": [
      "    AGE  SEX STEROID FATIGUE MALAISE ANOREXIA LIVER FIRM SPLEEN PALPABLE  \\\n",
      "5    34    1       2       2       2        2          2               2   \n",
      "10   39    1       1       2       2        2          1               2   \n",
      "11   32    1       2       1       2        2          1               2   \n",
      "12   41    1       2       1       2        2          1               2   \n",
      "13   30    1       2       1       2        2          1               2   \n",
      "\n",
      "   SPIDERS ASCITES VARICES ALK PHOSPHATE SGOT PROTIME  HISTOLOGY  \n",
      "5        2       2       2            95   28      75          1  \n",
      "10       2       2       2            78   30      85          1  \n",
      "11       1       2       2            59  249      54          1  \n",
      "12       2       2       2            81   60      52          1  \n",
      "13       2       2       2            57  144      78          1  \n",
      "[[0.23866586 0.76133414]]\n",
      "Means of 5-Fold cross validation: 0.613\n"
     ]
    }
   ],
   "source": [
    "# 刪除重要性是負數的特徵\n",
    "X = hepatitis[['AGE', 'SEX', 'STEROID', 'FATIGUE', 'MALAISE', 'ANOREXIA',\\\n",
    "               'LIVER FIRM', 'SPLEEN PALPABLE', 'SPIDERS', 'ASCITES', 'VARICES','ALK PHOSPHATE', \\\n",
    "               'SGOT','PROTIME', 'HISTOLOGY']]\n",
    "y = hepatitis['Class']\n",
    "\n",
    "print(X.head())\n",
    "\n",
    "# Ten-bin\n",
    "est = KBinsDiscretizer(n_bins=10, encode='ordinal', strategy='uniform')\n",
    "X_t = est.fit_transform(X)\n",
    "\n",
    "# Model\n",
    "import scipy.stats\n",
    "# alpha 是各個 class 的數量\n",
    "d = scipy.stats.dirichlet.rvs(alpha = [13, 67], size=1, random_state=1)\n",
    "print(d)\n",
    "\n",
    "# alpha=1 代表 Laplace’s estimate 的分子是 n_ij + 1\n",
    "clf = MultinomialNB(alpha=1, fit_prior = True, class_prior=d.flatten())\n",
    "clf.fit(X_t, y)\n",
    "\n",
    "score = cross_val_score(clf, X_t, y, scoring='precision', cv=5)\n",
    "print('Means of 5-Fold cross validation:', round(score.mean(),3))"
   ]
  },
  {
   "cell_type": "markdown",
   "id": "1fb14272",
   "metadata": {},
   "source": [
    "## F1 Score"
   ]
  },
  {
   "cell_type": "code",
   "execution_count": 268,
   "id": "ae827ff4",
   "metadata": {
    "ExecuteTime": {
     "end_time": "2021-06-22T13:06:57.204153Z",
     "start_time": "2021-06-22T13:06:57.196756Z"
    }
   },
   "outputs": [],
   "source": [
    "scoring = 'f1'"
   ]
  },
  {
   "cell_type": "code",
   "execution_count": 269,
   "id": "e2d7a8af",
   "metadata": {
    "ExecuteTime": {
     "end_time": "2021-06-22T13:06:57.404050Z",
     "start_time": "2021-06-22T13:06:57.379747Z"
    }
   },
   "outputs": [
    {
     "name": "stdout",
     "output_type": "stream",
     "text": [
      "[[0.23866586 0.76133414]]\n",
      "Means of 5-Fold cross validation: 0.597\n"
     ]
    }
   ],
   "source": [
    "X = hepatitis[['AGE', 'SEX', 'STEROID', 'ANTIVIRALS', 'FATIGUE', 'MALAISE', 'ANOREXIA', 'LIVER BIG', \\\n",
    "               'LIVER FIRM', 'SPLEEN PALPABLE', 'SPIDERS', 'ASCITES', 'VARICES', 'BILIRUBIN', 'ALK PHOSPHATE', \\\n",
    "               'SGOT', 'ALBUMIN', 'PROTIME', 'HISTOLOGY']]\n",
    "y = hepatitis['Class']\n",
    "\n",
    "# 對 class 和 連續型的特徵做 ten-bin\n",
    "est = KBinsDiscretizer(n_bins=10, encode='ordinal', strategy='uniform')\n",
    "X_t = est.fit_transform(X)\n",
    "\n",
    "# alpha 是各個 class 的數量\n",
    "d = scipy.stats.dirichlet.rvs(alpha = [13, 67], size=1, random_state=1)\n",
    "print(d)\n",
    "\n",
    "# alpha=1 代表 Laplace’s estimate 的分子是 n_ij + 1\n",
    "clf = MultinomialNB(alpha=1, fit_prior = True, class_prior=d.flatten())\n",
    "clf.fit(X_t, y)\n",
    "\n",
    "score = cross_val_score(clf, X_t, y, scoring=scoring, cv=5)\n",
    "print('Means of 5-Fold cross validation:', round(score.mean(),3))"
   ]
  },
  {
   "cell_type": "code",
   "execution_count": 270,
   "id": "14dd379c",
   "metadata": {
    "ExecuteTime": {
     "end_time": "2021-06-22T13:06:57.772723Z",
     "start_time": "2021-06-22T13:06:57.559878Z"
    }
   },
   "outputs": [
    {
     "name": "stdout",
     "output_type": "stream",
     "text": [
      "[ 0.00806452  0.10748053  0.00690371 -0.02567204 -0.0047043  -0.00924976\n",
      "  0.01612903 -0.00430108  0.          0.00403226 -0.00078201 -0.00835777\n",
      "  0.         -0.021802    0.00806452  0.         -0.02137097  0.00403226\n",
      "  0.11470237]\n",
      "0.11470236840255812\n",
      "0.10748053392658505\n",
      "0.016129032258064502\n",
      "0.008064516129032251\n",
      "0.008064516129032251\n",
      "0.0069037145650048485\n",
      "0.0040322580645161255\n",
      "0.0040322580645161255\n",
      "0.0       \n",
      "0.0       \n",
      "0.0       \n",
      "-0.0007820136852395354\n",
      "-0.0043010752688172225\n",
      "-0.004704301075268846\n",
      "-0.008357771260997104\n",
      "-0.00924975562072341\n",
      "-0.021370967741935497\n",
      "-0.021802002224694174\n",
      "-0.025672043010752765\n"
     ]
    },
    {
     "data": {
      "text/plain": [
       "<function matplotlib.pyplot.show(close=None, block=None)>"
      ]
     },
     "execution_count": 270,
     "metadata": {},
     "output_type": "execute_result"
    },
    {
     "data": {
      "image/png": "[encoded data removed]",
      "text/plain": [
       "<Figure size 1440x720 with 1 Axes>"
      ]
     },
     "metadata": {
      "needs_background": "light"
     },
     "output_type": "display_data"
    }
   ],
   "source": [
    "result = permutation_importance(clf, X_t, y,scoring=scoring, random_state=0)\n",
    "\n",
    "print(result.importances_mean)\n",
    "\n",
    "importances = result.importances_mean\n",
    "\n",
    "# 把 Attribute 的重要性由大到排序輸出\n",
    "indices = np.argsort(importances)[::-1]\n",
    "\n",
    "for i in range(X.shape[1]):\n",
    "    print('%-10s'%result.importances_mean[indices[i]])\n",
    "\n",
    "# 視覺化\n",
    "import seaborn as sns\n",
    "featImp = pd.DataFrame()\n",
    "featImp['feat'] = ['AGE', 'SEX', 'STEROID', 'ANTIVIRALS', 'FATIGUE', 'MALAISE', 'ANOREXIA', 'LIVER BIG', \\\n",
    "               'LIVER FIRM', 'SPLEEN PALPABLE', 'SPIDERS', 'ASCITES', 'VARICES', 'BILIRUBIN', 'ALK PHOSPHATE', \\\n",
    "               'SGOT', 'ALBUMIN', 'PROTIME', 'HISTOLOGY']\n",
    "featImp['importance'] = result.importances_mean\n",
    "featImp = featImp.sort_values('importance',ascending = False)\n",
    "plt.figure(figsize=[20,10])\n",
    "sns.barplot(x = 'importance', y = 'feat',data = featImp[:20], orient='h')\n",
    "plt.show"
   ]
  },
  {
   "cell_type": "markdown",
   "id": "7070b96e",
   "metadata": {},
   "source": [
    "### F1 Score：刪掉負的特徵之後"
   ]
  },
  {
   "cell_type": "code",
   "execution_count": 271,
   "id": "930226d7",
   "metadata": {
    "ExecuteTime": {
     "end_time": "2021-06-22T13:06:57.925908Z",
     "start_time": "2021-06-22T13:06:57.894866Z"
    }
   },
   "outputs": [
    {
     "name": "stdout",
     "output_type": "stream",
     "text": [
      "    AGE  SEX STEROID ANOREXIA LIVER FIRM SPLEEN PALPABLE VARICES  \\\n",
      "5    34    1       2        2          2               2       2   \n",
      "10   39    1       1        2          1               2       2   \n",
      "11   32    1       2        2          1               2       2   \n",
      "12   41    1       2        2          1               2       2   \n",
      "13   30    1       2        2          1               2       2   \n",
      "\n",
      "   ALK PHOSPHATE SGOT PROTIME  HISTOLOGY  \n",
      "5             95   28      75          1  \n",
      "10            78   30      85          1  \n",
      "11            59  249      54          1  \n",
      "12            81   60      52          1  \n",
      "13            57  144      78          1  \n",
      "[[0.23866586 0.76133414]]\n",
      "Means of 5-Fold cross validation: 0.64\n"
     ]
    }
   ],
   "source": [
    "# 刪除重要性是負數的特徵\n",
    "X = hepatitis[['AGE', 'SEX', 'STEROID', 'ANOREXIA', \\\n",
    "               'LIVER FIRM', 'SPLEEN PALPABLE', 'VARICES','ALK PHOSPHATE', \\\n",
    "               'SGOT','PROTIME', 'HISTOLOGY']]\n",
    "y = hepatitis['Class']\n",
    "\n",
    "print(X.head())\n",
    "\n",
    "# Ten-bin\n",
    "est = KBinsDiscretizer(n_bins=10, encode='ordinal', strategy='uniform')\n",
    "X_t = est.fit_transform(X)\n",
    "\n",
    "# Model\n",
    "import scipy.stats\n",
    "# alpha 是各個 class 的數量\n",
    "d = scipy.stats.dirichlet.rvs(alpha = [13, 67], size=1, random_state=1)\n",
    "print(d)\n",
    "\n",
    "# alpha=1 代表 Laplace’s estimate 的分子是 n_ij + 1\n",
    "clf = MultinomialNB(alpha=1, fit_prior = True, class_prior=d.flatten())\n",
    "clf.fit(X_t, y)\n",
    "\n",
    "score = cross_val_score(clf, X_t, y, scoring=scoring, cv=5)\n",
    "print('Means of 5-Fold cross validation:', round(score.mean(),3))"
   ]
  },
  {
   "cell_type": "markdown",
   "id": "0a2ef970",
   "metadata": {},
   "source": [
    "## Recall"
   ]
  },
  {
   "cell_type": "code",
   "execution_count": 272,
   "id": "0f47b623",
   "metadata": {
    "ExecuteTime": {
     "end_time": "2021-06-22T13:06:58.232928Z",
     "start_time": "2021-06-22T13:06:58.216595Z"
    }
   },
   "outputs": [],
   "source": [
    "scoring = 'recall'"
   ]
  },
  {
   "cell_type": "code",
   "execution_count": 273,
   "id": "7f0fda9e",
   "metadata": {
    "ExecuteTime": {
     "end_time": "2021-06-22T13:06:58.402335Z",
     "start_time": "2021-06-22T13:06:58.380729Z"
    }
   },
   "outputs": [
    {
     "name": "stdout",
     "output_type": "stream",
     "text": [
      "[[0.23866586 0.76133414]]\n",
      "Means of 5-Fold cross validation: 0.733\n"
     ]
    }
   ],
   "source": [
    "X = hepatitis[['AGE', 'SEX', 'STEROID', 'ANTIVIRALS', 'FATIGUE', 'MALAISE', 'ANOREXIA', 'LIVER BIG', \\\n",
    "               'LIVER FIRM', 'SPLEEN PALPABLE', 'SPIDERS', 'ASCITES', 'VARICES', 'BILIRUBIN', 'ALK PHOSPHATE', \\\n",
    "               'SGOT', 'ALBUMIN', 'PROTIME', 'HISTOLOGY']]\n",
    "y = hepatitis['Class']\n",
    "\n",
    "# 對 class 和 連續型的特徵做 ten-bin\n",
    "est = KBinsDiscretizer(n_bins=10, encode='ordinal', strategy='uniform')\n",
    "X_t = est.fit_transform(X)\n",
    "\n",
    "# alpha 是各個 class 的數量\n",
    "d = scipy.stats.dirichlet.rvs(alpha = [13, 67], size=1, random_state=1)\n",
    "print(d)\n",
    "\n",
    "# alpha=1 代表 Laplace’s estimate 的分子是 n_ij + 1\n",
    "clf = MultinomialNB(alpha=1, fit_prior = True, class_prior=d.flatten())\n",
    "clf.fit(X_t, y)\n",
    "\n",
    "score = cross_val_score(clf, X_t, y, scoring=scoring, cv=5)\n",
    "print('Means of 5-Fold cross validation:', round(score.mean(),3))"
   ]
  },
  {
   "cell_type": "code",
   "execution_count": 274,
   "id": "0aa997f1",
   "metadata": {
    "ExecuteTime": {
     "end_time": "2021-06-22T13:06:58.755840Z",
     "start_time": "2021-06-22T13:06:58.548098Z"
    }
   },
   "outputs": [
    {
     "name": "stdout",
     "output_type": "stream",
     "text": [
      "[ 0.          0.12307692 -0.03076923 -0.07692308 -0.01538462 -0.04615385\n",
      "  0.          0.          0.          0.         -0.03076923 -0.03076923\n",
      "  0.          0.          0.          0.         -0.04615385  0.\n",
      "  0.12307692]\n",
      "0.12307692307692313\n",
      "0.12307692307692311\n",
      "0.0       \n",
      "0.0       \n",
      "0.0       \n",
      "0.0       \n",
      "0.0       \n",
      "0.0       \n",
      "0.0       \n",
      "0.0       \n",
      "0.0       \n",
      "0.0       \n",
      "-0.015384615384615375\n",
      "-0.03076923076923075\n",
      "-0.03076923076923075\n",
      "-0.03076923076923077\n",
      "-0.04615384615384612\n",
      "-0.04615384615384612\n",
      "-0.07692307692307687\n"
     ]
    },
    {
     "data": {
      "text/plain": [
       "<function matplotlib.pyplot.show(close=None, block=None)>"
      ]
     },
     "execution_count": 274,
     "metadata": {},
     "output_type": "execute_result"
    },
    {
     "data": {
      "image/png": "[encoded data removed]",
      "text/plain": [
       "<Figure size 1440x720 with 1 Axes>"
      ]
     },
     "metadata": {
      "needs_background": "light"
     },
     "output_type": "display_data"
    }
   ],
   "source": [
    "result = permutation_importance(clf, X_t, y,scoring=scoring, random_state=0)\n",
    "\n",
    "print(result.importances_mean)\n",
    "\n",
    "importances = result.importances_mean\n",
    "\n",
    "# 把 Attribute 的重要性由大到排序輸出\n",
    "indices = np.argsort(importances)[::-1]\n",
    "\n",
    "for i in range(X.shape[1]):\n",
    "    print('%-10s'%result.importances_mean[indices[i]])\n",
    "\n",
    "# 視覺化\n",
    "import seaborn as sns\n",
    "featImp = pd.DataFrame()\n",
    "featImp['feat'] = ['AGE', 'SEX', 'STEROID', 'ANTIVIRALS', 'FATIGUE', 'MALAISE', 'ANOREXIA', 'LIVER BIG', \\\n",
    "               'LIVER FIRM', 'SPLEEN PALPABLE', 'SPIDERS', 'ASCITES', 'VARICES', 'BILIRUBIN', 'ALK PHOSPHATE', \\\n",
    "               'SGOT', 'ALBUMIN', 'PROTIME', 'HISTOLOGY']\n",
    "featImp['importance'] = result.importances_mean\n",
    "featImp = featImp.sort_values('importance',ascending = False)\n",
    "plt.figure(figsize=[20,10])\n",
    "sns.barplot(x = 'importance', y = 'feat',data = featImp[:20], orient='h')\n",
    "plt.show"
   ]
  },
  {
   "cell_type": "markdown",
   "id": "59be33fd",
   "metadata": {
    "ExecuteTime": {
     "end_time": "2021-06-22T09:53:59.353712Z",
     "start_time": "2021-06-22T09:53:59.343793Z"
    }
   },
   "source": [
    "### Recall：刪掉負的特徵之後"
   ]
  },
  {
   "cell_type": "code",
   "execution_count": 275,
   "id": "815a6d9a",
   "metadata": {
    "ExecuteTime": {
     "end_time": "2021-06-22T13:06:58.894412Z",
     "start_time": "2021-06-22T13:06:58.870162Z"
    }
   },
   "outputs": [
    {
     "name": "stdout",
     "output_type": "stream",
     "text": [
      "    SEX  HISTOLOGY\n",
      "5     1          1\n",
      "10    1          1\n",
      "11    1          1\n",
      "12    1          1\n",
      "13    1          1\n",
      "[[0.23866586 0.76133414]]\n",
      "Means of 5-Fold cross validation: 0.9\n"
     ]
    }
   ],
   "source": [
    "# 刪除重要性是負數的特徵\n",
    "X = hepatitis[['SEX','HISTOLOGY']]\n",
    "y = hepatitis['Class']\n",
    "\n",
    "print(X.head())\n",
    "\n",
    "# Ten-bin\n",
    "est = KBinsDiscretizer(n_bins=10, encode='ordinal', strategy='uniform')\n",
    "X_t = est.fit_transform(X)\n",
    "\n",
    "# Model\n",
    "import scipy.stats\n",
    "# alpha 是各個 class 的數量\n",
    "d = scipy.stats.dirichlet.rvs(alpha = [13, 67], size=1, random_state=1)\n",
    "print(d)\n",
    "\n",
    "# alpha=1 代表 Laplace’s estimate 的分子是 n_ij + 1\n",
    "clf = MultinomialNB(alpha=1, fit_prior = True, class_prior=d.flatten())\n",
    "clf.fit(X_t, y)\n",
    "\n",
    "score = cross_val_score(clf, X_t, y, scoring=scoring, cv=5)\n",
    "print('Means of 5-Fold cross validation:', round(score.mean(),3))"
   ]
  },
  {
   "cell_type": "markdown",
   "id": "004101d0",
   "metadata": {},
   "source": [
    "#  Model 2 : Naive Bayesian classifier have  the best noninformative Dirichlet priors"
   ]
  },
  {
   "cell_type": "code",
   "execution_count": 276,
   "id": "24f9503d",
   "metadata": {
    "ExecuteTime": {
     "end_time": "2021-06-22T13:06:59.201718Z",
     "start_time": "2021-06-22T13:06:59.198245Z"
    }
   },
   "outputs": [],
   "source": [
    "# 可將scoring其依序替換為'accuracy', 'precision', 'recall'來得到其表現結果\n",
    "# 然後再手動將負的特徵刪掉就可以得到實驗結果\n",
    "scoring = 'f1'"
   ]
  },
  {
   "cell_type": "code",
   "execution_count": 277,
   "id": "c86d9324",
   "metadata": {
    "ExecuteTime": {
     "end_time": "2021-06-22T13:06:59.386385Z",
     "start_time": "2021-06-22T13:06:59.358231Z"
    }
   },
   "outputs": [
    {
     "name": "stdout",
     "output_type": "stream",
     "text": [
      "[[0.29751149 0.70248851]]\n",
      "Means of 5-Fold cross validation: 0.59\n"
     ]
    }
   ],
   "source": [
    "X = hepatitis[['AGE', 'SEX', 'STEROID', 'ANTIVIRALS', 'FATIGUE', 'MALAISE', 'ANOREXIA', 'LIVER BIG', \\\n",
    "               'LIVER FIRM', 'SPLEEN PALPABLE', 'SPIDERS', 'ASCITES', 'VARICES', 'BILIRUBIN', 'ALK PHOSPHATE', \\\n",
    "               'SGOT', 'ALBUMIN', 'PROTIME', 'HISTOLOGY']]\n",
    "y = hepatitis['Class']\n",
    "\n",
    "# 對 class 和 連續型的特徵做 ten-bin\n",
    "est = KBinsDiscretizer(n_bins=10, encode='ordinal', strategy='uniform')\n",
    "X_t = est.fit_transform(X)\n",
    "\n",
    "# alpha 是各個 class 的數量\n",
    "d = scipy.stats.dirichlet.rvs(alpha = [1, 1], size=1, random_state=1)\n",
    "print(d)\n",
    "\n",
    "# alpha=1 代表 Laplace’s estimate 的分子是 n_ij + 1\n",
    "clf = MultinomialNB(alpha=1, fit_prior = True, class_prior=d.flatten())\n",
    "clf.fit(X_t, y)\n",
    "\n",
    "score = cross_val_score(clf, X_t, y, scoring=scoring, cv=5)\n",
    "print('Means of 5-Fold cross validation:', round(score.mean(),3))"
   ]
  },
  {
   "cell_type": "code",
   "execution_count": 278,
   "id": "8ad3e872",
   "metadata": {
    "ExecuteTime": {
     "end_time": "2021-06-22T13:06:59.724747Z",
     "start_time": "2021-06-22T13:06:59.516922Z"
    }
   },
   "outputs": [
    {
     "name": "stdout",
     "output_type": "stream",
     "text": [
      "[-0.00040323  0.09736559  0.00690371 -0.02567204 -0.0047043   0.00679231\n",
      "  0.01612903 -0.00430108  0.          0.00403226 -0.00078201 -0.00835777\n",
      "  0.         -0.02610308  0.00338393  0.         -0.00900538 -0.00040323\n",
      "  0.11470237]\n",
      "0.11470236840255812\n",
      "0.09736559139784944\n",
      "0.016129032258064502\n",
      "0.0069037145650048485\n",
      "0.006792306365361345\n",
      "0.0040322580645161255\n",
      "0.003383934218848794\n",
      "0.0       \n",
      "0.0       \n",
      "0.0       \n",
      "-0.00040322580645162364\n",
      "-0.00040322580645162364\n",
      "-0.0007820136852395354\n",
      "-0.0043010752688172225\n",
      "-0.004704301075268846\n",
      "-0.008357771260997104\n",
      "-0.00900537634408607\n",
      "-0.025672043010752765\n",
      "-0.026103077493511352\n"
     ]
    },
    {
     "data": {
      "text/plain": [
       "<function matplotlib.pyplot.show(close=None, block=None)>"
      ]
     },
     "execution_count": 278,
     "metadata": {},
     "output_type": "execute_result"
    },
    {
     "data": {
      "image/png": "[encoded data removed]",
      "text/plain": [
       "<Figure size 1440x720 with 1 Axes>"
      ]
     },
     "metadata": {
      "needs_background": "light"
     },
     "output_type": "display_data"
    }
   ],
   "source": [
    "result = permutation_importance(clf, X_t, y,scoring=scoring, random_state=0)\n",
    "\n",
    "print(result.importances_mean)\n",
    "\n",
    "importances = result.importances_mean\n",
    "\n",
    "# 把 Attribute 的重要性由大到排序輸出\n",
    "indices = np.argsort(importances)[::-1]\n",
    "\n",
    "for i in range(X.shape[1]):\n",
    "    print('%-10s'%result.importances_mean[indices[i]])\n",
    "\n",
    "# 視覺化\n",
    "import seaborn as sns\n",
    "featImp = pd.DataFrame()\n",
    "featImp['feat'] = ['AGE', 'SEX', 'STEROID', 'ANTIVIRALS', 'FATIGUE', 'MALAISE', 'ANOREXIA', 'LIVER BIG', \\\n",
    "               'LIVER FIRM', 'SPLEEN PALPABLE', 'SPIDERS', 'ASCITES', 'VARICES', 'BILIRUBIN', 'ALK PHOSPHATE', \\\n",
    "               'SGOT', 'ALBUMIN', 'PROTIME', 'HISTOLOGY']\n",
    "featImp['importance'] = result.importances_mean\n",
    "featImp = featImp.sort_values('importance',ascending = False)\n",
    "plt.figure(figsize=[20,10])\n",
    "sns.barplot(x = 'importance', y = 'feat',data = featImp[:20], orient='h')\n",
    "plt.show"
   ]
  },
  {
   "cell_type": "code",
   "execution_count": 279,
   "id": "2bc85932",
   "metadata": {
    "ExecuteTime": {
     "end_time": "2021-06-22T13:06:59.755497Z",
     "start_time": "2021-06-22T13:06:59.726240Z"
    }
   },
   "outputs": [
    {
     "name": "stdout",
     "output_type": "stream",
     "text": [
      "    SEX STEROID MALAISE ANOREXIA LIVER FIRM SPLEEN PALPABLE VARICES  \\\n",
      "5     1       2       2        2          2               2       2   \n",
      "10    1       1       2        2          1               2       2   \n",
      "11    1       2       2        2          1               2       2   \n",
      "12    1       2       2        2          1               2       2   \n",
      "13    1       2       2        2          1               2       2   \n",
      "\n",
      "   ALK PHOSPHATE SGOT  HISTOLOGY  \n",
      "5             95   28          1  \n",
      "10            78   30          1  \n",
      "11            59  249          1  \n",
      "12            81   60          1  \n",
      "13            57  144          1  \n",
      "[[0.23866586 0.76133414]]\n",
      "Means of 5-Fold cross validation: 0.613\n"
     ]
    }
   ],
   "source": [
    "# 刪除重要性是負數的特徵\n",
    "X = hepatitis[['SEX', 'STEROID', 'MALAISE', 'ANOREXIA', \\\n",
    "               'LIVER FIRM', 'SPLEEN PALPABLE', 'VARICES', 'ALK PHOSPHATE', \\\n",
    "               'SGOT', 'HISTOLOGY']]\n",
    "y = hepatitis['Class']\n",
    "\n",
    "print(X.head())\n",
    "\n",
    "# Ten-bin\n",
    "est = KBinsDiscretizer(n_bins=10, encode='ordinal', strategy='uniform')\n",
    "X_t = est.fit_transform(X)\n",
    "\n",
    "# Model\n",
    "import scipy.stats\n",
    "# alpha 是各個 class 的數量\n",
    "d = scipy.stats.dirichlet.rvs(alpha = [13, 67], size=1, random_state=1)\n",
    "print(d)\n",
    "\n",
    "# alpha=1 代表 Laplace’s estimate 的分子是 n_ij + 1\n",
    "clf = MultinomialNB(alpha=1, fit_prior = True, class_prior=d.flatten())\n",
    "clf.fit(X_t, y)\n",
    "\n",
    "score = cross_val_score(clf, X_t, y, scoring=scoring, cv=5)\n",
    "print('Means of 5-Fold cross validation:', round(score.mean(),3))"
   ]
  },
  {
   "cell_type": "code",
   "execution_count": null,
   "id": "b0d9e0a3",
   "metadata": {},
   "outputs": [],
   "source": []
  },
  {
   "cell_type": "code",
   "execution_count": null,
   "id": "1060338e",
   "metadata": {},
   "outputs": [],
   "source": []
  }
 ],
 "metadata": {
  "hide_input": false,
  "kernelspec": {
   "display_name": "Python 3",
   "language": "python",
   "name": "python3"
  },
  "language_info": {
   "codemirror_mode": {
    "name": "ipython",
    "version": 3
   },
   "file_extension": ".py",
   "mimetype": "text/x-python",
   "name": "python",
   "nbconvert_exporter": "python",
   "pygments_lexer": "ipython3",
   "version": "3.8.9"
  },
  "toc": {
   "base_numbering": 1,
   "nav_menu": {},
   "number_sections": true,
   "sideBar": true,
   "skip_h1_title": false,
   "title_cell": "Table of Contents",
   "title_sidebar": "Contents",
   "toc_cell": false,
   "toc_position": {
    "height": "calc(100% - 180px)",
    "left": "10px",
    "top": "150px",
    "width": "303.825px"
   },
   "toc_section_display": true,
   "toc_window_display": true
  }
 },
 "nbformat": 4,
 "nbformat_minor": 5
}
