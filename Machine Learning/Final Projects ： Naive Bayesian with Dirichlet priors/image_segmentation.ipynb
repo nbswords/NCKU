{
 "cells": [
  {
   "cell_type": "markdown",
   "id": "8437b1df",
   "metadata": {},
   "source": [
    "# Import data and libraries"
   ]
  },
  {
   "cell_type": "code",
   "execution_count": 90,
   "id": "aed05c7f",
   "metadata": {
    "ExecuteTime": {
     "end_time": "2021-06-22T13:25:42.902583Z",
     "start_time": "2021-06-22T13:25:42.878278Z"
    }
   },
   "outputs": [
    {
     "name": "stdout",
     "output_type": "stream",
     "text": [
      "       Class  REGION-CENTROID-COL  REGION-CENTROID-ROW  REGION-PIXEL-COUNT  \\\n",
      "0  BRICKFACE                140.0                125.0                   9   \n",
      "1  BRICKFACE                188.0                133.0                   9   \n",
      "2  BRICKFACE                105.0                139.0                   9   \n",
      "3  BRICKFACE                 34.0                137.0                   9   \n",
      "4  BRICKFACE                 39.0                111.0                   9   \n",
      "\n",
      "   SHORT-LINE-DENSITY-5  SHORT-LINE-DENSITY-2  VEDGE-MEAN  VEDGE-SD  \\\n",
      "0                   0.0                   0.0    0.277778  0.062963   \n",
      "1                   0.0                   0.0    0.333333  0.266667   \n",
      "2                   0.0                   0.0    0.277778  0.107407   \n",
      "3                   0.0                   0.0    0.500000  0.166667   \n",
      "4                   0.0                   0.0    0.722222  0.374074   \n",
      "\n",
      "   HEDGE-MEAN  HEDGE-SD  INTENSITY-MEAN  RAWRED-MEAN  RAWBLUE-MEAN  \\\n",
      "0    0.666667  0.311111        6.185185     7.333334      7.666666   \n",
      "1    0.500000  0.077778        6.666666     8.333334      7.777778   \n",
      "2    0.833333  0.522222        6.111111     7.555555      7.222222   \n",
      "3    1.111111  0.474074        5.851852     7.777778      6.444445   \n",
      "4    0.888889  0.429629        6.037037     7.000000      7.666666   \n",
      "\n",
      "   RAWGREEN-MEAN  EXRED-MEAN  EXBLUE-MEAN  EXGREEN-MEAN  VALUE-MEAN  \\\n",
      "0       3.555556    3.444444     4.444445     -7.888889    7.777778   \n",
      "1       3.888889    5.000000     3.333333     -8.333333    8.444445   \n",
      "2       3.555556    4.333334     3.333333     -7.666666    7.555555   \n",
      "3       3.333333    5.777778     1.777778     -7.555555    7.777778   \n",
      "4       3.444444    2.888889     4.888889     -7.777778    7.888889   \n",
      "\n",
      "   SATURATION-MEAN  HUE-MEAN  \n",
      "0         0.545635 -1.121818  \n",
      "1         0.538580 -0.924817  \n",
      "2         0.532628 -0.965946  \n",
      "3         0.573633 -0.744272  \n",
      "4         0.562919 -1.175773  \n"
     ]
    }
   ],
   "source": [
    "import numpy as np\n",
    "import pandas as pd\n",
    "import matplotlib.pyplot as plt\n",
    "from sklearn import metrics\n",
    "from sklearn.preprocessing import KBinsDiscretizer\n",
    "from sklearn.naive_bayes import MultinomialNB\n",
    "from sklearn.model_selection import cross_val_score\n",
    "from sklearn.inspection import permutation_importance\n",
    "from scipy.stats import dirichlet\n",
    "\n",
    "segmentation_names = ['Class','REGION-CENTROID-COL','REGION-CENTROID-ROW','REGION-PIXEL-COUNT',\n",
    "               'SHORT-LINE-DENSITY-5','SHORT-LINE-DENSITY-2','VEDGE-MEAN','VEDGE-SD',\n",
    "               'HEDGE-MEAN','HEDGE-SD','INTENSITY-MEAN','RAWRED-MEAN','RAWBLUE-MEAN',\n",
    "               'RAWGREEN-MEAN','EXRED-MEAN','EXBLUE-MEAN','EXGREEN-MEAN','VALUE-MEAN','SATURATION-MEAN','HUE-MEAN']\n",
    "\n",
    "segmentation = pd.read_table('image segmentation/segmentation.data', sep = \",\", names=segmentation_names)\n",
    "segmentation.reindex(index=segmentation_names)\n",
    "print(segmentation.head())"
   ]
  },
  {
   "cell_type": "code",
   "execution_count": 91,
   "id": "34ffe2a1",
   "metadata": {
    "ExecuteTime": {
     "end_time": "2021-06-22T13:25:43.056462Z",
     "start_time": "2021-06-22T13:25:43.039597Z"
    }
   },
   "outputs": [
    {
     "data": {
      "text/html": [
       "<div>\n",
       "<style scoped>\n",
       "    .dataframe tbody tr th:only-of-type {\n",
       "        vertical-align: middle;\n",
       "    }\n",
       "\n",
       "    .dataframe tbody tr th {\n",
       "        vertical-align: top;\n",
       "    }\n",
       "\n",
       "    .dataframe thead th {\n",
       "        text-align: right;\n",
       "    }\n",
       "</style>\n",
       "<table border=\"1\" class=\"dataframe\">\n",
       "  <thead>\n",
       "    <tr style=\"text-align: right;\">\n",
       "      <th></th>\n",
       "      <th>Class</th>\n",
       "      <th>REGION-CENTROID-COL</th>\n",
       "      <th>REGION-CENTROID-ROW</th>\n",
       "      <th>REGION-PIXEL-COUNT</th>\n",
       "      <th>SHORT-LINE-DENSITY-5</th>\n",
       "      <th>SHORT-LINE-DENSITY-2</th>\n",
       "      <th>VEDGE-MEAN</th>\n",
       "      <th>VEDGE-SD</th>\n",
       "      <th>HEDGE-MEAN</th>\n",
       "      <th>HEDGE-SD</th>\n",
       "      <th>INTENSITY-MEAN</th>\n",
       "      <th>RAWRED-MEAN</th>\n",
       "      <th>RAWBLUE-MEAN</th>\n",
       "      <th>RAWGREEN-MEAN</th>\n",
       "      <th>EXRED-MEAN</th>\n",
       "      <th>EXBLUE-MEAN</th>\n",
       "      <th>EXGREEN-MEAN</th>\n",
       "      <th>VALUE-MEAN</th>\n",
       "      <th>SATURATION-MEAN</th>\n",
       "      <th>HUE-MEAN</th>\n",
       "    </tr>\n",
       "  </thead>\n",
       "  <tbody>\n",
       "    <tr>\n",
       "      <th>0</th>\n",
       "      <td>BRICKFACE</td>\n",
       "      <td>140.0</td>\n",
       "      <td>125.0</td>\n",
       "      <td>9</td>\n",
       "      <td>0.000000</td>\n",
       "      <td>0.0</td>\n",
       "      <td>0.277778</td>\n",
       "      <td>0.062963</td>\n",
       "      <td>0.666667</td>\n",
       "      <td>0.311111</td>\n",
       "      <td>6.185185</td>\n",
       "      <td>7.333334</td>\n",
       "      <td>7.666666</td>\n",
       "      <td>3.555556</td>\n",
       "      <td>3.444444</td>\n",
       "      <td>4.444445</td>\n",
       "      <td>-7.888889</td>\n",
       "      <td>7.777778</td>\n",
       "      <td>0.545635</td>\n",
       "      <td>-1.121818</td>\n",
       "    </tr>\n",
       "    <tr>\n",
       "      <th>1</th>\n",
       "      <td>BRICKFACE</td>\n",
       "      <td>188.0</td>\n",
       "      <td>133.0</td>\n",
       "      <td>9</td>\n",
       "      <td>0.000000</td>\n",
       "      <td>0.0</td>\n",
       "      <td>0.333333</td>\n",
       "      <td>0.266667</td>\n",
       "      <td>0.500000</td>\n",
       "      <td>0.077778</td>\n",
       "      <td>6.666666</td>\n",
       "      <td>8.333334</td>\n",
       "      <td>7.777778</td>\n",
       "      <td>3.888889</td>\n",
       "      <td>5.000000</td>\n",
       "      <td>3.333333</td>\n",
       "      <td>-8.333333</td>\n",
       "      <td>8.444445</td>\n",
       "      <td>0.538580</td>\n",
       "      <td>-0.924817</td>\n",
       "    </tr>\n",
       "    <tr>\n",
       "      <th>2</th>\n",
       "      <td>BRICKFACE</td>\n",
       "      <td>105.0</td>\n",
       "      <td>139.0</td>\n",
       "      <td>9</td>\n",
       "      <td>0.000000</td>\n",
       "      <td>0.0</td>\n",
       "      <td>0.277778</td>\n",
       "      <td>0.107407</td>\n",
       "      <td>0.833333</td>\n",
       "      <td>0.522222</td>\n",
       "      <td>6.111111</td>\n",
       "      <td>7.555555</td>\n",
       "      <td>7.222222</td>\n",
       "      <td>3.555556</td>\n",
       "      <td>4.333334</td>\n",
       "      <td>3.333333</td>\n",
       "      <td>-7.666666</td>\n",
       "      <td>7.555555</td>\n",
       "      <td>0.532628</td>\n",
       "      <td>-0.965946</td>\n",
       "    </tr>\n",
       "    <tr>\n",
       "      <th>3</th>\n",
       "      <td>BRICKFACE</td>\n",
       "      <td>34.0</td>\n",
       "      <td>137.0</td>\n",
       "      <td>9</td>\n",
       "      <td>0.000000</td>\n",
       "      <td>0.0</td>\n",
       "      <td>0.500000</td>\n",
       "      <td>0.166667</td>\n",
       "      <td>1.111111</td>\n",
       "      <td>0.474074</td>\n",
       "      <td>5.851852</td>\n",
       "      <td>7.777778</td>\n",
       "      <td>6.444445</td>\n",
       "      <td>3.333333</td>\n",
       "      <td>5.777778</td>\n",
       "      <td>1.777778</td>\n",
       "      <td>-7.555555</td>\n",
       "      <td>7.777778</td>\n",
       "      <td>0.573633</td>\n",
       "      <td>-0.744272</td>\n",
       "    </tr>\n",
       "    <tr>\n",
       "      <th>4</th>\n",
       "      <td>BRICKFACE</td>\n",
       "      <td>39.0</td>\n",
       "      <td>111.0</td>\n",
       "      <td>9</td>\n",
       "      <td>0.000000</td>\n",
       "      <td>0.0</td>\n",
       "      <td>0.722222</td>\n",
       "      <td>0.374074</td>\n",
       "      <td>0.888889</td>\n",
       "      <td>0.429629</td>\n",
       "      <td>6.037037</td>\n",
       "      <td>7.000000</td>\n",
       "      <td>7.666666</td>\n",
       "      <td>3.444444</td>\n",
       "      <td>2.888889</td>\n",
       "      <td>4.888889</td>\n",
       "      <td>-7.777778</td>\n",
       "      <td>7.888889</td>\n",
       "      <td>0.562919</td>\n",
       "      <td>-1.175773</td>\n",
       "    </tr>\n",
       "    <tr>\n",
       "      <th>...</th>\n",
       "      <td>...</td>\n",
       "      <td>...</td>\n",
       "      <td>...</td>\n",
       "      <td>...</td>\n",
       "      <td>...</td>\n",
       "      <td>...</td>\n",
       "      <td>...</td>\n",
       "      <td>...</td>\n",
       "      <td>...</td>\n",
       "      <td>...</td>\n",
       "      <td>...</td>\n",
       "      <td>...</td>\n",
       "      <td>...</td>\n",
       "      <td>...</td>\n",
       "      <td>...</td>\n",
       "      <td>...</td>\n",
       "      <td>...</td>\n",
       "      <td>...</td>\n",
       "      <td>...</td>\n",
       "      <td>...</td>\n",
       "    </tr>\n",
       "    <tr>\n",
       "      <th>205</th>\n",
       "      <td>GRASS</td>\n",
       "      <td>36.0</td>\n",
       "      <td>243.0</td>\n",
       "      <td>9</td>\n",
       "      <td>0.111111</td>\n",
       "      <td>0.0</td>\n",
       "      <td>1.888889</td>\n",
       "      <td>1.851851</td>\n",
       "      <td>2.000000</td>\n",
       "      <td>0.711110</td>\n",
       "      <td>13.333333</td>\n",
       "      <td>9.888889</td>\n",
       "      <td>12.111111</td>\n",
       "      <td>18.000000</td>\n",
       "      <td>-10.333333</td>\n",
       "      <td>-3.666667</td>\n",
       "      <td>14.000000</td>\n",
       "      <td>18.000000</td>\n",
       "      <td>0.452229</td>\n",
       "      <td>2.368311</td>\n",
       "    </tr>\n",
       "    <tr>\n",
       "      <th>206</th>\n",
       "      <td>GRASS</td>\n",
       "      <td>186.0</td>\n",
       "      <td>218.0</td>\n",
       "      <td>9</td>\n",
       "      <td>0.000000</td>\n",
       "      <td>0.0</td>\n",
       "      <td>1.166667</td>\n",
       "      <td>0.744444</td>\n",
       "      <td>1.166667</td>\n",
       "      <td>0.655555</td>\n",
       "      <td>13.703704</td>\n",
       "      <td>10.666667</td>\n",
       "      <td>12.666667</td>\n",
       "      <td>17.777779</td>\n",
       "      <td>-9.111111</td>\n",
       "      <td>-3.111111</td>\n",
       "      <td>12.222222</td>\n",
       "      <td>17.777779</td>\n",
       "      <td>0.401347</td>\n",
       "      <td>2.382684</td>\n",
       "    </tr>\n",
       "    <tr>\n",
       "      <th>207</th>\n",
       "      <td>GRASS</td>\n",
       "      <td>197.0</td>\n",
       "      <td>236.0</td>\n",
       "      <td>9</td>\n",
       "      <td>0.000000</td>\n",
       "      <td>0.0</td>\n",
       "      <td>2.444444</td>\n",
       "      <td>6.829628</td>\n",
       "      <td>3.333333</td>\n",
       "      <td>7.599998</td>\n",
       "      <td>16.074074</td>\n",
       "      <td>13.111111</td>\n",
       "      <td>16.666668</td>\n",
       "      <td>18.444445</td>\n",
       "      <td>-8.888889</td>\n",
       "      <td>1.777778</td>\n",
       "      <td>7.111111</td>\n",
       "      <td>18.555555</td>\n",
       "      <td>0.292729</td>\n",
       "      <td>2.789800</td>\n",
       "    </tr>\n",
       "    <tr>\n",
       "      <th>208</th>\n",
       "      <td>GRASS</td>\n",
       "      <td>208.0</td>\n",
       "      <td>240.0</td>\n",
       "      <td>9</td>\n",
       "      <td>0.111111</td>\n",
       "      <td>0.0</td>\n",
       "      <td>1.055556</td>\n",
       "      <td>0.862963</td>\n",
       "      <td>2.444444</td>\n",
       "      <td>5.007407</td>\n",
       "      <td>14.148149</td>\n",
       "      <td>10.888889</td>\n",
       "      <td>13.000000</td>\n",
       "      <td>18.555555</td>\n",
       "      <td>-9.777778</td>\n",
       "      <td>-3.444444</td>\n",
       "      <td>13.222222</td>\n",
       "      <td>18.555555</td>\n",
       "      <td>0.421621</td>\n",
       "      <td>2.392487</td>\n",
       "    </tr>\n",
       "    <tr>\n",
       "      <th>209</th>\n",
       "      <td>GRASS</td>\n",
       "      <td>223.0</td>\n",
       "      <td>185.0</td>\n",
       "      <td>9</td>\n",
       "      <td>0.000000</td>\n",
       "      <td>0.0</td>\n",
       "      <td>0.500000</td>\n",
       "      <td>0.349603</td>\n",
       "      <td>2.388889</td>\n",
       "      <td>2.080776</td>\n",
       "      <td>12.962963</td>\n",
       "      <td>11.555555</td>\n",
       "      <td>9.777778</td>\n",
       "      <td>17.555555</td>\n",
       "      <td>-4.222222</td>\n",
       "      <td>-9.555555</td>\n",
       "      <td>13.777778</td>\n",
       "      <td>17.555555</td>\n",
       "      <td>0.445418</td>\n",
       "      <td>1.838850</td>\n",
       "    </tr>\n",
       "  </tbody>\n",
       "</table>\n",
       "<p>210 rows × 20 columns</p>\n",
       "</div>"
      ],
      "text/plain": [
       "         Class  REGION-CENTROID-COL  REGION-CENTROID-ROW  REGION-PIXEL-COUNT  \\\n",
       "0    BRICKFACE                140.0                125.0                   9   \n",
       "1    BRICKFACE                188.0                133.0                   9   \n",
       "2    BRICKFACE                105.0                139.0                   9   \n",
       "3    BRICKFACE                 34.0                137.0                   9   \n",
       "4    BRICKFACE                 39.0                111.0                   9   \n",
       "..         ...                  ...                  ...                 ...   \n",
       "205      GRASS                 36.0                243.0                   9   \n",
       "206      GRASS                186.0                218.0                   9   \n",
       "207      GRASS                197.0                236.0                   9   \n",
       "208      GRASS                208.0                240.0                   9   \n",
       "209      GRASS                223.0                185.0                   9   \n",
       "\n",
       "     SHORT-LINE-DENSITY-5  SHORT-LINE-DENSITY-2  VEDGE-MEAN  VEDGE-SD  \\\n",
       "0                0.000000                   0.0    0.277778  0.062963   \n",
       "1                0.000000                   0.0    0.333333  0.266667   \n",
       "2                0.000000                   0.0    0.277778  0.107407   \n",
       "3                0.000000                   0.0    0.500000  0.166667   \n",
       "4                0.000000                   0.0    0.722222  0.374074   \n",
       "..                    ...                   ...         ...       ...   \n",
       "205              0.111111                   0.0    1.888889  1.851851   \n",
       "206              0.000000                   0.0    1.166667  0.744444   \n",
       "207              0.000000                   0.0    2.444444  6.829628   \n",
       "208              0.111111                   0.0    1.055556  0.862963   \n",
       "209              0.000000                   0.0    0.500000  0.349603   \n",
       "\n",
       "     HEDGE-MEAN  HEDGE-SD  INTENSITY-MEAN  RAWRED-MEAN  RAWBLUE-MEAN  \\\n",
       "0      0.666667  0.311111        6.185185     7.333334      7.666666   \n",
       "1      0.500000  0.077778        6.666666     8.333334      7.777778   \n",
       "2      0.833333  0.522222        6.111111     7.555555      7.222222   \n",
       "3      1.111111  0.474074        5.851852     7.777778      6.444445   \n",
       "4      0.888889  0.429629        6.037037     7.000000      7.666666   \n",
       "..          ...       ...             ...          ...           ...   \n",
       "205    2.000000  0.711110       13.333333     9.888889     12.111111   \n",
       "206    1.166667  0.655555       13.703704    10.666667     12.666667   \n",
       "207    3.333333  7.599998       16.074074    13.111111     16.666668   \n",
       "208    2.444444  5.007407       14.148149    10.888889     13.000000   \n",
       "209    2.388889  2.080776       12.962963    11.555555      9.777778   \n",
       "\n",
       "     RAWGREEN-MEAN  EXRED-MEAN  EXBLUE-MEAN  EXGREEN-MEAN  VALUE-MEAN  \\\n",
       "0         3.555556    3.444444     4.444445     -7.888889    7.777778   \n",
       "1         3.888889    5.000000     3.333333     -8.333333    8.444445   \n",
       "2         3.555556    4.333334     3.333333     -7.666666    7.555555   \n",
       "3         3.333333    5.777778     1.777778     -7.555555    7.777778   \n",
       "4         3.444444    2.888889     4.888889     -7.777778    7.888889   \n",
       "..             ...         ...          ...           ...         ...   \n",
       "205      18.000000  -10.333333    -3.666667     14.000000   18.000000   \n",
       "206      17.777779   -9.111111    -3.111111     12.222222   17.777779   \n",
       "207      18.444445   -8.888889     1.777778      7.111111   18.555555   \n",
       "208      18.555555   -9.777778    -3.444444     13.222222   18.555555   \n",
       "209      17.555555   -4.222222    -9.555555     13.777778   17.555555   \n",
       "\n",
       "     SATURATION-MEAN  HUE-MEAN  \n",
       "0           0.545635 -1.121818  \n",
       "1           0.538580 -0.924817  \n",
       "2           0.532628 -0.965946  \n",
       "3           0.573633 -0.744272  \n",
       "4           0.562919 -1.175773  \n",
       "..               ...       ...  \n",
       "205         0.452229  2.368311  \n",
       "206         0.401347  2.382684  \n",
       "207         0.292729  2.789800  \n",
       "208         0.421621  2.392487  \n",
       "209         0.445418  1.838850  \n",
       "\n",
       "[210 rows x 20 columns]"
      ]
     },
     "execution_count": 91,
     "metadata": {},
     "output_type": "execute_result"
    }
   ],
   "source": [
    "segmentation[segmentation_names]"
   ]
  },
  {
   "cell_type": "markdown",
   "id": "2be2bbe4",
   "metadata": {},
   "source": [
    "# 檢查是否有Categorical資料與缺失值"
   ]
  },
  {
   "cell_type": "code",
   "execution_count": 92,
   "id": "4f37b839",
   "metadata": {
    "ExecuteTime": {
     "end_time": "2021-06-22T13:25:43.486937Z",
     "start_time": "2021-06-22T13:25:43.474041Z"
    }
   },
   "outputs": [
    {
     "name": "stdout",
     "output_type": "stream",
     "text": [
      "There are 1 categorical variables\n",
      "\n",
      "The categorical variables are :\n",
      "\n",
      " ['Class']\n"
     ]
    },
    {
     "data": {
      "text/html": [
       "<div>\n",
       "<style scoped>\n",
       "    .dataframe tbody tr th:only-of-type {\n",
       "        vertical-align: middle;\n",
       "    }\n",
       "\n",
       "    .dataframe tbody tr th {\n",
       "        vertical-align: top;\n",
       "    }\n",
       "\n",
       "    .dataframe thead th {\n",
       "        text-align: right;\n",
       "    }\n",
       "</style>\n",
       "<table border=\"1\" class=\"dataframe\">\n",
       "  <thead>\n",
       "    <tr style=\"text-align: right;\">\n",
       "      <th></th>\n",
       "      <th>Class</th>\n",
       "    </tr>\n",
       "  </thead>\n",
       "  <tbody>\n",
       "    <tr>\n",
       "      <th>0</th>\n",
       "      <td>BRICKFACE</td>\n",
       "    </tr>\n",
       "    <tr>\n",
       "      <th>1</th>\n",
       "      <td>BRICKFACE</td>\n",
       "    </tr>\n",
       "    <tr>\n",
       "      <th>2</th>\n",
       "      <td>BRICKFACE</td>\n",
       "    </tr>\n",
       "    <tr>\n",
       "      <th>3</th>\n",
       "      <td>BRICKFACE</td>\n",
       "    </tr>\n",
       "    <tr>\n",
       "      <th>4</th>\n",
       "      <td>BRICKFACE</td>\n",
       "    </tr>\n",
       "  </tbody>\n",
       "</table>\n",
       "</div>"
      ],
      "text/plain": [
       "       Class\n",
       "0  BRICKFACE\n",
       "1  BRICKFACE\n",
       "2  BRICKFACE\n",
       "3  BRICKFACE\n",
       "4  BRICKFACE"
      ]
     },
     "execution_count": 92,
     "metadata": {},
     "output_type": "execute_result"
    }
   ],
   "source": [
    "# find categorical variables\n",
    "\n",
    "categorical = [var for var in segmentation.columns if segmentation[var].dtype=='O']\n",
    "\n",
    "print('There are {} categorical variables\\n'.format(len(categorical)))\n",
    "\n",
    "print('The categorical variables are :\\n\\n', categorical)\n",
    "\n",
    "# view the categorical variables if they exist\n",
    "\n",
    "segmentation[categorical].head()"
   ]
  },
  {
   "cell_type": "code",
   "execution_count": 93,
   "id": "3d53f700",
   "metadata": {
    "ExecuteTime": {
     "end_time": "2021-06-22T13:25:43.717401Z",
     "start_time": "2021-06-22T13:25:43.702489Z"
    }
   },
   "outputs": [
    {
     "data": {
      "text/plain": [
       "Class    0\n",
       "dtype: int64"
      ]
     },
     "execution_count": 93,
     "metadata": {},
     "output_type": "execute_result"
    }
   ],
   "source": [
    "# 檢查categorical attribute中是否有missing values\n",
    "\n",
    "segmentation[categorical].isnull().sum()"
   ]
  },
  {
   "cell_type": "code",
   "execution_count": 94,
   "id": "9ddf46ea",
   "metadata": {
    "ExecuteTime": {
     "end_time": "2021-06-22T13:25:43.809295Z",
     "start_time": "2021-06-22T13:25:43.805276Z"
    }
   },
   "outputs": [
    {
     "name": "stdout",
     "output_type": "stream",
     "text": [
      "PATH         30\n",
      "CEMENT       30\n",
      "WINDOW       30\n",
      "GRASS        30\n",
      "BRICKFACE    30\n",
      "FOLIAGE      30\n",
      "SKY          30\n",
      "Name: Class, dtype: int64\n"
     ]
    }
   ],
   "source": [
    "# 計算各個 class 的個數\n",
    "freq = segmentation['Class'].value_counts()\n",
    "print(freq)"
   ]
  },
  {
   "cell_type": "markdown",
   "id": "e50a3c57",
   "metadata": {},
   "source": [
    "# Data Preprocessing"
   ]
  },
  {
   "cell_type": "markdown",
   "id": "8f334a71",
   "metadata": {},
   "source": [
    "## Ten-bin discretization"
   ]
  },
  {
   "cell_type": "code",
   "execution_count": 95,
   "id": "3ae485f5",
   "metadata": {
    "ExecuteTime": {
     "end_time": "2021-06-22T13:25:44.179178Z",
     "start_time": "2021-06-22T13:25:44.168798Z"
    }
   },
   "outputs": [
    {
     "name": "stderr",
     "output_type": "stream",
     "text": [
      "c:\\users\\nbswo\\appdata\\local\\programs\\python\\python38\\lib\\site-packages\\sklearn\\preprocessing\\_discretization.py:187: UserWarning: Feature 2 is constant and will be replaced with 0.\n",
      "  warnings.warn(\"Feature %d is constant and will be \"\n"
     ]
    }
   ],
   "source": [
    "X = segmentation[['REGION-CENTROID-COL','REGION-CENTROID-ROW','REGION-PIXEL-COUNT',\n",
    "               'SHORT-LINE-DENSITY-5','SHORT-LINE-DENSITY-2','VEDGE-MEAN','VEDGE-SD',\n",
    "               'HEDGE-MEAN','HEDGE-SD','INTENSITY-MEAN','RAWRED-MEAN','RAWBLUE-MEAN',\n",
    "               'RAWGREEN-MEAN','EXRED-MEAN','EXBLUE-MEAN','EXGREEN-MEAN','VALUE-MEAN','SATURATION-MEAN','HUE-MEAN']]\n",
    "y = segmentation['Class']\n",
    "\n",
    "# 對 id 和 class 以外的特徵做 ten-bin\n",
    "est = KBinsDiscretizer(n_bins=10, encode='ordinal', strategy='uniform')\n",
    "X_t = est.fit_transform(X)"
   ]
  },
  {
   "cell_type": "code",
   "execution_count": 96,
   "id": "0e6b888e",
   "metadata": {
    "ExecuteTime": {
     "end_time": "2021-06-22T13:25:44.301739Z",
     "start_time": "2021-06-22T13:25:44.296283Z"
    }
   },
   "outputs": [
    {
     "name": "stdout",
     "output_type": "stream",
     "text": [
      "[5. 4. 0. 0. 0. 0. 0. 0. 0. 0. 0. 0. 0. 9. 1. 4. 0. 5. 2.]\n"
     ]
    }
   ],
   "source": [
    "print(X_t[0])"
   ]
  },
  {
   "cell_type": "code",
   "execution_count": 97,
   "id": "8bb3051a",
   "metadata": {
    "ExecuteTime": {
     "end_time": "2021-06-22T13:25:44.424639Z",
     "start_time": "2021-06-22T13:25:44.420175Z"
    }
   },
   "outputs": [
    {
     "name": "stdout",
     "output_type": "stream",
     "text": [
      "(210, 19)\n"
     ]
    }
   ],
   "source": [
    "print(np.shape(X_t))"
   ]
  },
  {
   "cell_type": "markdown",
   "id": "6fa08e73",
   "metadata": {},
   "source": [
    "#  Model 1 : Naive Bayesian classifier have Dirichlet priors with the Laplace’s estimate"
   ]
  },
  {
   "cell_type": "code",
   "execution_count": 98,
   "id": "c9570464",
   "metadata": {
    "ExecuteTime": {
     "end_time": "2021-06-22T13:25:44.702022Z",
     "start_time": "2021-06-22T13:25:44.682565Z"
    }
   },
   "outputs": [
    {
     "name": "stdout",
     "output_type": "stream",
     "text": [
      "[[0.17817651 0.11957994 0.12149652 0.10936586 0.18178505 0.11620349\n",
      "  0.17339263]]\n"
     ]
    },
    {
     "data": {
      "text/plain": [
       "MultinomialNB(alpha=1,\n",
       "              class_prior=array([0.17817651, 0.11957994, 0.12149652, 0.10936586, 0.18178505,\n",
       "       0.11620349, 0.17339263]))"
      ]
     },
     "execution_count": 98,
     "metadata": {},
     "output_type": "execute_result"
    }
   ],
   "source": [
    "import scipy.stats\n",
    "# alpha 是各個 class 的數量\n",
    "d = scipy.stats.dirichlet.rvs(alpha = [30, 30, 30, 30, 30, 30, 30], size=1, random_state=1)\n",
    "print(d)\n",
    "\n",
    "# alpha=1 代表 Laplace’s estimate 的分子是 n_ij + 1\n",
    "clf = MultinomialNB(alpha=1, fit_prior = True, class_prior=d.flatten())\n",
    "clf.fit(X_t, y)"
   ]
  },
  {
   "cell_type": "markdown",
   "id": "51b7a44e",
   "metadata": {},
   "source": [
    "## 5-Fold cross validation"
   ]
  },
  {
   "cell_type": "code",
   "execution_count": 99,
   "id": "15c5221c",
   "metadata": {
    "ExecuteTime": {
     "end_time": "2021-06-22T13:25:45.008025Z",
     "start_time": "2021-06-22T13:25:44.989178Z"
    }
   },
   "outputs": [
    {
     "name": "stdout",
     "output_type": "stream",
     "text": [
      "Means of 5-Fold cross validation: 0.705\n"
     ]
    }
   ],
   "source": [
    "score = cross_val_score(clf, X_t, y, scoring='accuracy', cv=5)\n",
    "print('Means of 5-Fold cross validation:', round(score.mean(),3))"
   ]
  },
  {
   "cell_type": "markdown",
   "id": "f86e7824",
   "metadata": {},
   "source": [
    "## Ranking Attribute by selective naïve Bayes"
   ]
  },
  {
   "cell_type": "code",
   "execution_count": 100,
   "id": "4ce63a22",
   "metadata": {
    "ExecuteTime": {
     "end_time": "2021-06-22T13:25:45.392711Z",
     "start_time": "2021-06-22T13:25:45.351542Z"
    }
   },
   "outputs": [
    {
     "name": "stdout",
     "output_type": "stream",
     "text": [
      "[0.05904762 0.09333333 0.         0.01904762 0.01238095 0.01714286\n",
      " 0.00571429 0.01333333 0.00285714 0.00952381 0.01904762 0.00761905\n",
      " 0.00761905 0.02095238 0.05904762 0.02380952 0.00666667 0.01714286\n",
      " 0.15619048]\n"
     ]
    }
   ],
   "source": [
    "result = permutation_importance(clf, X_t, y,scoring='accuracy', random_state=0)\n",
    "\n",
    "print(result.importances_mean)"
   ]
  },
  {
   "cell_type": "code",
   "execution_count": 101,
   "id": "0f1966e1",
   "metadata": {
    "ExecuteTime": {
     "end_time": "2021-06-22T13:25:45.562420Z",
     "start_time": "2021-06-22T13:25:45.544068Z"
    },
    "scrolled": true
   },
   "outputs": [
    {
     "name": "stdout",
     "output_type": "stream",
     "text": [
      "0.15619047619047624\n",
      "0.09333333333333335\n",
      "0.059047619047619085\n",
      "0.05904761904761906\n",
      "0.023809523809523857\n",
      "0.020952380952380965\n",
      "0.019047619047619112\n",
      "0.01904761904761909\n",
      "0.01714285714285717\n",
      "0.01714285714285717\n",
      "0.013333333333333374\n",
      "0.012380952380952404\n",
      "0.009523809523809556\n",
      "0.007619047619047636\n",
      "0.007619047619047614\n",
      "0.006666666666666687\n",
      "0.005714285714285739\n",
      "0.002857142857142847\n",
      "0.0       \n"
     ]
    }
   ],
   "source": [
    "importances = result.importances_mean\n",
    "\n",
    "# 把 Attribute 的重要性由大到排序輸出\n",
    "indices = np.argsort(importances)[::-1]\n",
    "\n",
    "for i in range(X.shape[1]):\n",
    "    print('%-10s'%result.importances_mean[indices[i]])"
   ]
  },
  {
   "cell_type": "code",
   "execution_count": 102,
   "id": "99911fc9",
   "metadata": {
    "ExecuteTime": {
     "end_time": "2021-06-22T13:25:45.884983Z",
     "start_time": "2021-06-22T13:25:45.726698Z"
    },
    "scrolled": true
   },
   "outputs": [
    {
     "data": {
      "text/plain": [
       "<function matplotlib.pyplot.show(close=None, block=None)>"
      ]
     },
     "execution_count": 102,
     "metadata": {},
     "output_type": "execute_result"
    },
    {
     "data": {
      "image/png": "[encoded data removed]",
      "text/plain": [
       "<Figure size 1440x720 with 1 Axes>"
      ]
     },
     "metadata": {
      "needs_background": "light"
     },
     "output_type": "display_data"
    }
   ],
   "source": [
    "# 視覺化\n",
    "import seaborn as sns\n",
    "featImp = pd.DataFrame()\n",
    "featImp['feat'] = ['REGION-CENTROID-COL','REGION-CENTROID-ROW','REGION-PIXEL-COUNT',\n",
    "               'SHORT-LINE-DENSITY-5','SHORT-LINE-DENSITY-2','VEDGE-MEAN','VEDGE-SD',\n",
    "               'HEDGE-MEAN','HEDGE-SD','INTENSITY-MEAN','RAWRED-MEAN','RAWBLUE-MEAN',\n",
    "               'RAWGREEN-MEAN','EXRED-MEAN','EXBLUE-MEAN','EXGREEN-MEAN','VALUE-MEAN','SATURATION-MEAN','HUE-MEAN']\n",
    "featImp['importance'] = result.importances_mean\n",
    "featImp = featImp.sort_values('importance',ascending = False)\n",
    "plt.figure(figsize=[20,10])\n",
    "sns.barplot(x = 'importance', y = 'feat',data = featImp[:20], orient='h')\n",
    "plt.show"
   ]
  },
  {
   "cell_type": "markdown",
   "id": "f5418e31",
   "metadata": {},
   "source": [
    "## 重新排序特徵"
   ]
  },
  {
   "cell_type": "code",
   "execution_count": 103,
   "id": "19113d83",
   "metadata": {
    "ExecuteTime": {
     "end_time": "2021-06-22T13:25:46.099578Z",
     "start_time": "2021-06-22T13:25:46.067441Z"
    }
   },
   "outputs": [
    {
     "name": "stdout",
     "output_type": "stream",
     "text": [
      "   REGION-CENTROID-COL  REGION-CENTROID-ROW  REGION-PIXEL-COUNT  \\\n",
      "0                140.0                125.0                   9   \n",
      "1                188.0                133.0                   9   \n",
      "2                105.0                139.0                   9   \n",
      "3                 34.0                137.0                   9   \n",
      "4                 39.0                111.0                   9   \n",
      "\n",
      "   SHORT-LINE-DENSITY-5  SHORT-LINE-DENSITY-2  VEDGE-MEAN  VEDGE-SD  \\\n",
      "0                   0.0                   0.0    0.277778  0.062963   \n",
      "1                   0.0                   0.0    0.333333  0.266667   \n",
      "2                   0.0                   0.0    0.277778  0.107407   \n",
      "3                   0.0                   0.0    0.500000  0.166667   \n",
      "4                   0.0                   0.0    0.722222  0.374074   \n",
      "\n",
      "   HEDGE-MEAN  HEDGE-SD  INTENSITY-MEAN  RAWRED-MEAN  RAWBLUE-MEAN  \\\n",
      "0    0.666667  0.311111        6.185185     7.333334      7.666666   \n",
      "1    0.500000  0.077778        6.666666     8.333334      7.777778   \n",
      "2    0.833333  0.522222        6.111111     7.555555      7.222222   \n",
      "3    1.111111  0.474074        5.851852     7.777778      6.444445   \n",
      "4    0.888889  0.429629        6.037037     7.000000      7.666666   \n",
      "\n",
      "   RAWGREEN-MEAN  EXRED-MEAN  EXBLUE-MEAN  EXGREEN-MEAN  VALUE-MEAN  \\\n",
      "0       3.555556    3.444444     4.444445     -7.888889    7.777778   \n",
      "1       3.888889    5.000000     3.333333     -8.333333    8.444445   \n",
      "2       3.555556    4.333334     3.333333     -7.666666    7.555555   \n",
      "3       3.333333    5.777778     1.777778     -7.555555    7.777778   \n",
      "4       3.444444    2.888889     4.888889     -7.777778    7.888889   \n",
      "\n",
      "   SATURATION-MEAN  HUE-MEAN  \n",
      "0         0.545635 -1.121818  \n",
      "1         0.538580 -0.924817  \n",
      "2         0.532628 -0.965946  \n",
      "3         0.573633 -0.744272  \n",
      "4         0.562919 -1.175773  \n"
     ]
    },
    {
     "name": "stderr",
     "output_type": "stream",
     "text": [
      "c:\\users\\nbswo\\appdata\\local\\programs\\python\\python38\\lib\\site-packages\\sklearn\\preprocessing\\_discretization.py:187: UserWarning: Feature 2 is constant and will be replaced with 0.\n",
      "  warnings.warn(\"Feature %d is constant and will be \"\n"
     ]
    },
    {
     "name": "stdout",
     "output_type": "stream",
     "text": [
      "[[0.17817651 0.11957994 0.12149652 0.10936586 0.18178505 0.11620349\n",
      "  0.17339263]]\n",
      "Means of 5-Fold cross validation: 0.705\n"
     ]
    }
   ],
   "source": [
    "X = segmentation[['REGION-CENTROID-COL','REGION-CENTROID-ROW','REGION-PIXEL-COUNT',\n",
    "               'SHORT-LINE-DENSITY-5','SHORT-LINE-DENSITY-2','VEDGE-MEAN','VEDGE-SD',\n",
    "               'HEDGE-MEAN','HEDGE-SD','INTENSITY-MEAN','RAWRED-MEAN','RAWBLUE-MEAN',\n",
    "               'RAWGREEN-MEAN','EXRED-MEAN','EXBLUE-MEAN','EXGREEN-MEAN','VALUE-MEAN','SATURATION-MEAN','HUE-MEAN']]\n",
    "y = segmentation['Class']\n",
    "\n",
    "print(X.head())\n",
    "\n",
    "# Ten-bin\n",
    "est = KBinsDiscretizer(n_bins=10, encode='ordinal', strategy='uniform')\n",
    "X_t = est.fit_transform(X)\n",
    "\n",
    "# alpha 是各個 class 的數量\n",
    "d = scipy.stats.dirichlet.rvs(alpha = [30, 30, 30, 30, 30, 30, 30], size=1, random_state=1)\n",
    "print(d)\n",
    "\n",
    "# alpha=1 代表 Laplace’s estimate 的分子是 n_ij + 1\n",
    "clf = MultinomialNB(alpha=1, fit_prior = True, class_prior=d.flatten())\n",
    "clf.fit(X_t, y)\n",
    "\n",
    "score = cross_val_score(clf, X_t, y, scoring='accuracy', cv=5)\n",
    "print('Means of 5-Fold cross validation:', round(score.mean(),3))"
   ]
  },
  {
   "cell_type": "markdown",
   "id": "004101d0",
   "metadata": {},
   "source": [
    "#  Model 2 : Naive Bayesian classifier have  the best noninformative Dirichlet priors"
   ]
  },
  {
   "cell_type": "code",
   "execution_count": 104,
   "id": "00503c78",
   "metadata": {
    "ExecuteTime": {
     "end_time": "2021-06-22T13:25:46.453265Z",
     "start_time": "2021-06-22T13:25:46.436898Z"
    }
   },
   "outputs": [
    {
     "name": "stderr",
     "output_type": "stream",
     "text": [
      "c:\\users\\nbswo\\appdata\\local\\programs\\python\\python38\\lib\\site-packages\\sklearn\\preprocessing\\_discretization.py:187: UserWarning: Feature 2 is constant and will be replaced with 0.\n",
      "  warnings.warn(\"Feature %d is constant and will be \"\n"
     ]
    }
   ],
   "source": [
    "X = segmentation[['REGION-CENTROID-COL','REGION-CENTROID-ROW','REGION-PIXEL-COUNT',\n",
    "               'SHORT-LINE-DENSITY-5','SHORT-LINE-DENSITY-2','VEDGE-MEAN','VEDGE-SD',\n",
    "               'HEDGE-MEAN','HEDGE-SD','INTENSITY-MEAN','RAWRED-MEAN','RAWBLUE-MEAN',\n",
    "               'RAWGREEN-MEAN','EXRED-MEAN','EXBLUE-MEAN','EXGREEN-MEAN','VALUE-MEAN','SATURATION-MEAN','HUE-MEAN']]\n",
    "y = segmentation['Class']\n",
    "\n",
    "# 對 id 和 class 以外的特徵做 ten-bin\n",
    "est = KBinsDiscretizer(n_bins=10, encode='ordinal', strategy='uniform')\n",
    "X_t = est.fit_transform(X)"
   ]
  },
  {
   "cell_type": "code",
   "execution_count": 105,
   "id": "efb3e408",
   "metadata": {
    "ExecuteTime": {
     "end_time": "2021-06-22T13:25:46.637832Z",
     "start_time": "2021-06-22T13:25:46.625432Z"
    }
   },
   "outputs": [
    {
     "name": "stdout",
     "output_type": "stream",
     "text": [
      "[[2.04739995e-01 4.83435093e-01 4.33991577e-05 1.36597873e-01\n",
      "  6.02184030e-02 3.67601721e-02 7.82050643e-02]]\n"
     ]
    }
   ],
   "source": [
    "import scipy.stats\n",
    "d = scipy.stats.dirichlet.rvs(alpha = [1,1,1,1,1,1,1], size=1, random_state=1)\n",
    "print(d)"
   ]
  },
  {
   "cell_type": "code",
   "execution_count": 106,
   "id": "3410362a",
   "metadata": {
    "ExecuteTime": {
     "end_time": "2021-06-22T13:25:46.822933Z",
     "start_time": "2021-06-22T13:25:46.808057Z"
    }
   },
   "outputs": [
    {
     "data": {
      "text/plain": [
       "MultinomialNB(alpha=1,\n",
       "              class_prior=array([2.04739995e-01, 4.83435093e-01, 4.33991577e-05, 1.36597873e-01,\n",
       "       6.02184030e-02, 3.67601721e-02, 7.82050643e-02]))"
      ]
     },
     "execution_count": 106,
     "metadata": {},
     "output_type": "execute_result"
    }
   ],
   "source": [
    "clf = MultinomialNB(alpha=1, fit_prior = True, class_prior=d.flatten())\n",
    "clf.fit(X_t, y)"
   ]
  },
  {
   "cell_type": "code",
   "execution_count": 107,
   "id": "36046f0d",
   "metadata": {
    "ExecuteTime": {
     "end_time": "2021-06-22T13:25:47.038065Z",
     "start_time": "2021-06-22T13:25:47.011282Z"
    }
   },
   "outputs": [
    {
     "name": "stdout",
     "output_type": "stream",
     "text": [
      "Means of 5-Fold cross validation: 0.595\n"
     ]
    }
   ],
   "source": [
    "score = cross_val_score(clf, X_t, y, scoring='accuracy', cv=5)\n",
    "print('Means of 5-Fold cross validation:', round(score.mean(),3))"
   ]
  },
  {
   "cell_type": "code",
   "execution_count": 108,
   "id": "b2f965f0",
   "metadata": {
    "ExecuteTime": {
     "end_time": "2021-06-22T13:25:47.237714Z",
     "start_time": "2021-06-22T13:25:47.207966Z"
    }
   },
   "outputs": [
    {
     "name": "stdout",
     "output_type": "stream",
     "text": [
      "[ 0.04       -0.00761905  0.          0.00285714  0.01619048  0.01047619\n",
      "  0.00571429  0.01047619  0.00095238  0.00952381  0.01333333  0.01142857\n",
      "  0.02190476  0.02666667  0.05142857 -0.00095238  0.01428571 -0.0152381\n",
      "  0.14095238]\n"
     ]
    }
   ],
   "source": [
    "result = permutation_importance(clf, X_t, y,scoring='accuracy', random_state=0)\n",
    "\n",
    "print(result.importances_mean)"
   ]
  },
  {
   "cell_type": "code",
   "execution_count": 109,
   "id": "402a754c",
   "metadata": {
    "ExecuteTime": {
     "end_time": "2021-06-22T13:25:47.452615Z",
     "start_time": "2021-06-22T13:25:47.424344Z"
    }
   },
   "outputs": [
    {
     "name": "stdout",
     "output_type": "stream",
     "text": [
      "0.140952380952381\n",
      "0.05142857142857145\n",
      "0.040000000000000015\n",
      "0.026666666666666707\n",
      "0.021904761904761937\n",
      "0.0161904761904762\n",
      "0.014285714285714323\n",
      "0.01333333333333333\n",
      "0.011428571428571455\n",
      "0.010476190476190528\n",
      "0.010476190476190505\n",
      "0.009523809523809535\n",
      "0.005714285714285739\n",
      "0.0028571428571428693\n",
      "0.000952380952380949\n",
      "0.0       \n",
      "-0.0009523809523809268\n",
      "-0.007619047619047592\n",
      "-0.015238095238095184\n"
     ]
    }
   ],
   "source": [
    "importances = result.importances_mean\n",
    "\n",
    "# 把 Attribute 的重要性由大到排序輸出\n",
    "indices = np.argsort(importances)[::-1]\n",
    "\n",
    "for i in range(X.shape[1]):\n",
    "    print('%-10s'%result.importances_mean[indices[i]])"
   ]
  },
  {
   "cell_type": "code",
   "execution_count": 110,
   "id": "ad2c8924",
   "metadata": {
    "ExecuteTime": {
     "end_time": "2021-06-22T13:25:47.791658Z",
     "start_time": "2021-06-22T13:25:47.642128Z"
    }
   },
   "outputs": [
    {
     "data": {
      "text/plain": [
       "<function matplotlib.pyplot.show(close=None, block=None)>"
      ]
     },
     "execution_count": 110,
     "metadata": {},
     "output_type": "execute_result"
    },
    {
     "data": {
      "image/png": "[encoded data removed]",
      "text/plain": [
       "<Figure size 1440x720 with 1 Axes>"
      ]
     },
     "metadata": {
      "needs_background": "light"
     },
     "output_type": "display_data"
    }
   ],
   "source": [
    "# 視覺化\n",
    "import seaborn as sns\n",
    "featImp = pd.DataFrame()\n",
    "featImp['feat'] = ['REGION-CENTROID-COL','REGION-CENTROID-ROW','REGION-PIXEL-COUNT',\n",
    "               'SHORT-LINE-DENSITY-5','SHORT-LINE-DENSITY-2','VEDGE-MEAN','VEDGE-SD',\n",
    "               'HEDGE-MEAN','HEDGE-SD','INTENSITY-MEAN','RAWRED-MEAN','RAWBLUE-MEAN',\n",
    "               'RAWGREEN-MEAN','EXRED-MEAN','EXBLUE-MEAN','EXGREEN-MEAN','VALUE-MEAN','SATURATION-MEAN','HUE-MEAN']\n",
    "featImp['importance'] = result.importances_mean\n",
    "featImp = featImp.sort_values('importance',ascending = False)\n",
    "plt.figure(figsize=[20,10])\n",
    "sns.barplot(x = 'importance', y = 'feat',data = featImp[:20], orient='h')\n",
    "plt.show"
   ]
  },
  {
   "cell_type": "code",
   "execution_count": 111,
   "id": "da399764",
   "metadata": {
    "ExecuteTime": {
     "end_time": "2021-06-22T13:25:47.930041Z",
     "start_time": "2021-06-22T13:25:47.909208Z"
    }
   },
   "outputs": [
    {
     "name": "stderr",
     "output_type": "stream",
     "text": [
      "c:\\users\\nbswo\\appdata\\local\\programs\\python\\python38\\lib\\site-packages\\sklearn\\preprocessing\\_discretization.py:187: UserWarning: Feature 1 is constant and will be replaced with 0.\n",
      "  warnings.warn(\"Feature %d is constant and will be \"\n"
     ]
    },
    {
     "name": "stdout",
     "output_type": "stream",
     "text": [
      "Means of 5-Fold cross validation: 0.59\n"
     ]
    }
   ],
   "source": [
    "X = segmentation[['REGION-CENTROID-COL','REGION-PIXEL-COUNT',\n",
    "               'SHORT-LINE-DENSITY-5','SHORT-LINE-DENSITY-2','VEDGE-MEAN','VEDGE-SD',\n",
    "               'HEDGE-MEAN','HEDGE-SD','INTENSITY-MEAN','RAWRED-MEAN','RAWBLUE-MEAN',\n",
    "               'RAWGREEN-MEAN','EXRED-MEAN','EXBLUE-MEAN','VALUE-MEAN','HUE-MEAN']]\n",
    "y = segmentation['Class']\n",
    "\n",
    "# print(X.head())\n",
    "\n",
    "# Ten-bin\n",
    "est = KBinsDiscretizer(n_bins=10, encode='ordinal', strategy='uniform')\n",
    "X_t = est.fit_transform(X)\n",
    "\n",
    "import scipy.stats\n",
    "d = scipy.stats.dirichlet.rvs(alpha = [1,1,1,1,1,1,1], size=1, random_state=1)\n",
    "# print(d)\n",
    "\n",
    "clf = MultinomialNB(alpha=1, fit_prior = True, class_prior=d.flatten())\n",
    "clf.fit(X_t, y)\n",
    "\n",
    "score = cross_val_score(clf, X_t, y, scoring='accuracy', cv=5)\n",
    "print('Means of 5-Fold cross validation:', round(score.mean(),3))"
   ]
  },
  {
   "cell_type": "markdown",
   "id": "fae8fc79",
   "metadata": {},
   "source": [
    "## 額外實驗：分別刪掉三個特徵的表現"
   ]
  },
  {
   "cell_type": "markdown",
   "id": "9d72043e",
   "metadata": {},
   "source": [
    "### 只刪掉SATURATION-MEAN"
   ]
  },
  {
   "cell_type": "code",
   "execution_count": 112,
   "id": "2d689d11",
   "metadata": {
    "ExecuteTime": {
     "end_time": "2021-06-22T13:25:48.838427Z",
     "start_time": "2021-06-22T13:25:48.818048Z"
    }
   },
   "outputs": [
    {
     "name": "stderr",
     "output_type": "stream",
     "text": [
      "c:\\users\\nbswo\\appdata\\local\\programs\\python\\python38\\lib\\site-packages\\sklearn\\preprocessing\\_discretization.py:187: UserWarning: Feature 2 is constant and will be replaced with 0.\n",
      "  warnings.warn(\"Feature %d is constant and will be \"\n"
     ]
    },
    {
     "name": "stdout",
     "output_type": "stream",
     "text": [
      "Means of 5-Fold cross validation: 0.605\n"
     ]
    }
   ],
   "source": [
    "X = segmentation[['REGION-CENTROID-COL','REGION-CENTROID-ROW','REGION-PIXEL-COUNT',\n",
    "               'SHORT-LINE-DENSITY-5','SHORT-LINE-DENSITY-2','VEDGE-MEAN','VEDGE-SD',\n",
    "               'HEDGE-MEAN','HEDGE-SD','INTENSITY-MEAN','RAWRED-MEAN','RAWBLUE-MEAN',\n",
    "               'RAWGREEN-MEAN','EXRED-MEAN','EXBLUE-MEAN','EXGREEN-MEAN','VALUE-MEAN','HUE-MEAN']]\n",
    "y = segmentation['Class']\n",
    "\n",
    "# print(X.head())\n",
    "\n",
    "# Ten-bin\n",
    "est = KBinsDiscretizer(n_bins=10, encode='ordinal', strategy='uniform')\n",
    "X_t = est.fit_transform(X)\n",
    "\n",
    "import scipy.stats\n",
    "d = scipy.stats.dirichlet.rvs(alpha = [1,1,1,1,1,1,1], size=1, random_state=1)\n",
    "# print(d)\n",
    "\n",
    "clf = MultinomialNB(alpha=1, fit_prior = True, class_prior=d.flatten())\n",
    "clf.fit(X_t, y)\n",
    "\n",
    "score = cross_val_score(clf, X_t, y, scoring='accuracy', cv=5)\n",
    "print('Means of 5-Fold cross validation:', round(score.mean(),3))"
   ]
  },
  {
   "cell_type": "markdown",
   "id": "6830a2a9",
   "metadata": {},
   "source": [
    "### 只刪掉REGION-CENTROID-ROW"
   ]
  },
  {
   "cell_type": "code",
   "execution_count": 113,
   "id": "53bb3c59",
   "metadata": {
    "ExecuteTime": {
     "end_time": "2021-06-22T13:25:49.130743Z",
     "start_time": "2021-06-22T13:25:49.111894Z"
    }
   },
   "outputs": [
    {
     "name": "stderr",
     "output_type": "stream",
     "text": [
      "c:\\users\\nbswo\\appdata\\local\\programs\\python\\python38\\lib\\site-packages\\sklearn\\preprocessing\\_discretization.py:187: UserWarning: Feature 1 is constant and will be replaced with 0.\n",
      "  warnings.warn(\"Feature %d is constant and will be \"\n"
     ]
    },
    {
     "name": "stdout",
     "output_type": "stream",
     "text": [
      "Means of 5-Fold cross validation: 0.59\n"
     ]
    }
   ],
   "source": [
    "X = segmentation[['REGION-CENTROID-COL','REGION-PIXEL-COUNT',\n",
    "               'SHORT-LINE-DENSITY-5','SHORT-LINE-DENSITY-2','VEDGE-MEAN','VEDGE-SD',\n",
    "               'HEDGE-MEAN','HEDGE-SD','INTENSITY-MEAN','RAWRED-MEAN','RAWBLUE-MEAN',\n",
    "               'RAWGREEN-MEAN','EXRED-MEAN','EXBLUE-MEAN','EXGREEN-MEAN','VALUE-MEAN','SATURATION-MEAN','HUE-MEAN']]\n",
    "y = segmentation['Class']\n",
    "\n",
    "# print(X.head())\n",
    "\n",
    "# Ten-bin\n",
    "est = KBinsDiscretizer(n_bins=10, encode='ordinal', strategy='uniform')\n",
    "X_t = est.fit_transform(X)\n",
    "\n",
    "import scipy.stats\n",
    "d = scipy.stats.dirichlet.rvs(alpha = [1,1,1,1,1,1,1], size=1, random_state=1)\n",
    "# print(d)\n",
    "\n",
    "clf = MultinomialNB(alpha=1, fit_prior = True, class_prior=d.flatten())\n",
    "clf.fit(X_t, y)\n",
    "\n",
    "score = cross_val_score(clf, X_t, y, scoring='accuracy', cv=5)\n",
    "print('Means of 5-Fold cross validation:', round(score.mean(),3))"
   ]
  },
  {
   "cell_type": "markdown",
   "id": "8ec9acc1",
   "metadata": {},
   "source": [
    "### 只刪掉EXGREEN-MEAN"
   ]
  },
  {
   "cell_type": "code",
   "execution_count": 114,
   "id": "efc432c3",
   "metadata": {
    "ExecuteTime": {
     "end_time": "2021-06-22T13:25:49.407674Z",
     "start_time": "2021-06-22T13:25:49.390282Z"
    }
   },
   "outputs": [
    {
     "name": "stderr",
     "output_type": "stream",
     "text": [
      "c:\\users\\nbswo\\appdata\\local\\programs\\python\\python38\\lib\\site-packages\\sklearn\\preprocessing\\_discretization.py:187: UserWarning: Feature 2 is constant and will be replaced with 0.\n",
      "  warnings.warn(\"Feature %d is constant and will be \"\n"
     ]
    },
    {
     "name": "stdout",
     "output_type": "stream",
     "text": [
      "Means of 5-Fold cross validation: 0.605\n"
     ]
    }
   ],
   "source": [
    "\n",
    "\n",
    "X = segmentation[['REGION-CENTROID-COL','REGION-CENTROID-ROW','REGION-PIXEL-COUNT',\n",
    "               'SHORT-LINE-DENSITY-5','SHORT-LINE-DENSITY-2','VEDGE-MEAN','VEDGE-SD',\n",
    "               'HEDGE-MEAN','HEDGE-SD','INTENSITY-MEAN','RAWRED-MEAN','RAWBLUE-MEAN',\n",
    "               'RAWGREEN-MEAN','EXRED-MEAN','EXBLUE-MEAN','VALUE-MEAN','SATURATION-MEAN','HUE-MEAN']]\n",
    "y = segmentation['Class']\n",
    "\n",
    "# print(X.head())\n",
    "\n",
    "# Ten-bin\n",
    "est = KBinsDiscretizer(n_bins=10, encode='ordinal', strategy='uniform')\n",
    "X_t = est.fit_transform(X)\n",
    "\n",
    "import scipy.stats\n",
    "d = scipy.stats.dirichlet.rvs(alpha = [1,1,1,1,1,1,1], size=1, random_state=1)\n",
    "# print(d)\n",
    "\n",
    "clf = MultinomialNB(alpha=1, fit_prior = True, class_prior=d.flatten())\n",
    "clf.fit(X_t, y)\n",
    "\n",
    "score = cross_val_score(clf, X_t, y, scoring='accuracy', cv=5)\n",
    "print('Means of 5-Fold cross validation:', round(score.mean(),3))"
   ]
  },
  {
   "cell_type": "code",
   "execution_count": null,
   "id": "494d238e",
   "metadata": {},
   "outputs": [],
   "source": []
  }
 ],
 "metadata": {
  "hide_input": false,
  "kernelspec": {
   "display_name": "Python 3",
   "language": "python",
   "name": "python3"
  },
  "language_info": {
   "codemirror_mode": {
    "name": "ipython",
    "version": 3
   },
   "file_extension": ".py",
   "mimetype": "text/x-python",
   "name": "python",
   "nbconvert_exporter": "python",
   "pygments_lexer": "ipython3",
   "version": "3.8.9"
  },
  "toc": {
   "base_numbering": 1,
   "nav_menu": {},
   "number_sections": true,
   "sideBar": true,
   "skip_h1_title": false,
   "title_cell": "Table of Contents",
   "title_sidebar": "Contents",
   "toc_cell": false,
   "toc_position": {
    "height": "calc(100% - 180px)",
    "left": "10px",
    "top": "150px",
    "width": "303.825px"
   },
   "toc_section_display": true,
   "toc_window_display": true
  }
 },
 "nbformat": 4,
 "nbformat_minor": 5
}
