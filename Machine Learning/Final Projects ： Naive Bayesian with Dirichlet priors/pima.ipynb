{
 "cells": [
  {
   "cell_type": "markdown",
   "id": "8437b1df",
   "metadata": {},
   "source": [
    "# Import data and libraries"
   ]
  },
  {
   "cell_type": "code",
   "execution_count": 20,
   "id": "0ae6672d",
   "metadata": {
    "ExecuteTime": {
     "end_time": "2021-06-22T13:49:01.477172Z",
     "start_time": "2021-06-22T13:49:01.456340Z"
    },
    "scrolled": true
   },
   "outputs": [
    {
     "name": "stdout",
     "output_type": "stream",
     "text": [
      "   Number of times pregnant  Plasma glucose  Diastolic blood pressure  \\\n",
      "0                         6             148                        72   \n",
      "1                         1              85                        66   \n",
      "2                         8             183                        64   \n",
      "3                         1              89                        66   \n",
      "4                         0             137                        40   \n",
      "\n",
      "   Triceps skin fold thickness  2-Hour serum insulin  Body mass index   \\\n",
      "0                           35                     0              33.6   \n",
      "1                           29                     0              26.6   \n",
      "2                            0                     0              23.3   \n",
      "3                           23                    94              28.1   \n",
      "4                           35                   168              43.1   \n",
      "\n",
      "   Diabetes pedigree function  Age  Class  \n",
      "0                       0.627   50      1  \n",
      "1                       0.351   31      0  \n",
      "2                       0.672   32      1  \n",
      "3                       0.167   21      0  \n",
      "4                       2.288   33      1  \n"
     ]
    }
   ],
   "source": [
    "import numpy as np\n",
    "import pandas as pd\n",
    "import matplotlib.pyplot as plt\n",
    "from sklearn import metrics\n",
    "from sklearn.preprocessing import KBinsDiscretizer\n",
    "from sklearn.naive_bayes import MultinomialNB\n",
    "from sklearn.model_selection import cross_val_score\n",
    "from sklearn.inspection import permutation_importance\n",
    "from scipy.stats import dirichlet\n",
    "\n",
    "\n",
    "pima_names = ['Number of times pregnant', 'Plasma glucose', 'Diastolic blood pressure', 'Triceps skin fold thickness', \n",
    "              '2-Hour serum insulin', 'Body mass index ','Diabetes pedigree function', 'Age', 'Class']\n",
    "pima = pd.read_table('pima/pima.txt', sep = \",\", names=pima_names)\n",
    "pima.reindex(index=pima_names)\n",
    "print(pima.head())"
   ]
  },
  {
   "cell_type": "code",
   "execution_count": 21,
   "id": "34ffe2a1",
   "metadata": {
    "ExecuteTime": {
     "end_time": "2021-06-22T13:49:01.631232Z",
     "start_time": "2021-06-22T13:49:01.608328Z"
    }
   },
   "outputs": [
    {
     "data": {
      "text/html": [
       "<div>\n",
       "<style scoped>\n",
       "    .dataframe tbody tr th:only-of-type {\n",
       "        vertical-align: middle;\n",
       "    }\n",
       "\n",
       "    .dataframe tbody tr th {\n",
       "        vertical-align: top;\n",
       "    }\n",
       "\n",
       "    .dataframe thead th {\n",
       "        text-align: right;\n",
       "    }\n",
       "</style>\n",
       "<table border=\"1\" class=\"dataframe\">\n",
       "  <thead>\n",
       "    <tr style=\"text-align: right;\">\n",
       "      <th></th>\n",
       "      <th>Number of times pregnant</th>\n",
       "      <th>Plasma glucose</th>\n",
       "      <th>Diastolic blood pressure</th>\n",
       "      <th>Triceps skin fold thickness</th>\n",
       "      <th>2-Hour serum insulin</th>\n",
       "      <th>Body mass index</th>\n",
       "      <th>Diabetes pedigree function</th>\n",
       "      <th>Age</th>\n",
       "      <th>Class</th>\n",
       "    </tr>\n",
       "  </thead>\n",
       "  <tbody>\n",
       "    <tr>\n",
       "      <th>0</th>\n",
       "      <td>6</td>\n",
       "      <td>148</td>\n",
       "      <td>72</td>\n",
       "      <td>35</td>\n",
       "      <td>0</td>\n",
       "      <td>33.6</td>\n",
       "      <td>0.627</td>\n",
       "      <td>50</td>\n",
       "      <td>1</td>\n",
       "    </tr>\n",
       "    <tr>\n",
       "      <th>1</th>\n",
       "      <td>1</td>\n",
       "      <td>85</td>\n",
       "      <td>66</td>\n",
       "      <td>29</td>\n",
       "      <td>0</td>\n",
       "      <td>26.6</td>\n",
       "      <td>0.351</td>\n",
       "      <td>31</td>\n",
       "      <td>0</td>\n",
       "    </tr>\n",
       "    <tr>\n",
       "      <th>2</th>\n",
       "      <td>8</td>\n",
       "      <td>183</td>\n",
       "      <td>64</td>\n",
       "      <td>0</td>\n",
       "      <td>0</td>\n",
       "      <td>23.3</td>\n",
       "      <td>0.672</td>\n",
       "      <td>32</td>\n",
       "      <td>1</td>\n",
       "    </tr>\n",
       "    <tr>\n",
       "      <th>3</th>\n",
       "      <td>1</td>\n",
       "      <td>89</td>\n",
       "      <td>66</td>\n",
       "      <td>23</td>\n",
       "      <td>94</td>\n",
       "      <td>28.1</td>\n",
       "      <td>0.167</td>\n",
       "      <td>21</td>\n",
       "      <td>0</td>\n",
       "    </tr>\n",
       "    <tr>\n",
       "      <th>4</th>\n",
       "      <td>0</td>\n",
       "      <td>137</td>\n",
       "      <td>40</td>\n",
       "      <td>35</td>\n",
       "      <td>168</td>\n",
       "      <td>43.1</td>\n",
       "      <td>2.288</td>\n",
       "      <td>33</td>\n",
       "      <td>1</td>\n",
       "    </tr>\n",
       "    <tr>\n",
       "      <th>...</th>\n",
       "      <td>...</td>\n",
       "      <td>...</td>\n",
       "      <td>...</td>\n",
       "      <td>...</td>\n",
       "      <td>...</td>\n",
       "      <td>...</td>\n",
       "      <td>...</td>\n",
       "      <td>...</td>\n",
       "      <td>...</td>\n",
       "    </tr>\n",
       "    <tr>\n",
       "      <th>763</th>\n",
       "      <td>10</td>\n",
       "      <td>101</td>\n",
       "      <td>76</td>\n",
       "      <td>48</td>\n",
       "      <td>180</td>\n",
       "      <td>32.9</td>\n",
       "      <td>0.171</td>\n",
       "      <td>63</td>\n",
       "      <td>0</td>\n",
       "    </tr>\n",
       "    <tr>\n",
       "      <th>764</th>\n",
       "      <td>2</td>\n",
       "      <td>122</td>\n",
       "      <td>70</td>\n",
       "      <td>27</td>\n",
       "      <td>0</td>\n",
       "      <td>36.8</td>\n",
       "      <td>0.340</td>\n",
       "      <td>27</td>\n",
       "      <td>0</td>\n",
       "    </tr>\n",
       "    <tr>\n",
       "      <th>765</th>\n",
       "      <td>5</td>\n",
       "      <td>121</td>\n",
       "      <td>72</td>\n",
       "      <td>23</td>\n",
       "      <td>112</td>\n",
       "      <td>26.2</td>\n",
       "      <td>0.245</td>\n",
       "      <td>30</td>\n",
       "      <td>0</td>\n",
       "    </tr>\n",
       "    <tr>\n",
       "      <th>766</th>\n",
       "      <td>1</td>\n",
       "      <td>126</td>\n",
       "      <td>60</td>\n",
       "      <td>0</td>\n",
       "      <td>0</td>\n",
       "      <td>30.1</td>\n",
       "      <td>0.349</td>\n",
       "      <td>47</td>\n",
       "      <td>1</td>\n",
       "    </tr>\n",
       "    <tr>\n",
       "      <th>767</th>\n",
       "      <td>1</td>\n",
       "      <td>93</td>\n",
       "      <td>70</td>\n",
       "      <td>31</td>\n",
       "      <td>0</td>\n",
       "      <td>30.4</td>\n",
       "      <td>0.315</td>\n",
       "      <td>23</td>\n",
       "      <td>0</td>\n",
       "    </tr>\n",
       "  </tbody>\n",
       "</table>\n",
       "<p>768 rows × 9 columns</p>\n",
       "</div>"
      ],
      "text/plain": [
       "     Number of times pregnant  Plasma glucose  Diastolic blood pressure  \\\n",
       "0                           6             148                        72   \n",
       "1                           1              85                        66   \n",
       "2                           8             183                        64   \n",
       "3                           1              89                        66   \n",
       "4                           0             137                        40   \n",
       "..                        ...             ...                       ...   \n",
       "763                        10             101                        76   \n",
       "764                         2             122                        70   \n",
       "765                         5             121                        72   \n",
       "766                         1             126                        60   \n",
       "767                         1              93                        70   \n",
       "\n",
       "     Triceps skin fold thickness  2-Hour serum insulin  Body mass index   \\\n",
       "0                             35                     0              33.6   \n",
       "1                             29                     0              26.6   \n",
       "2                              0                     0              23.3   \n",
       "3                             23                    94              28.1   \n",
       "4                             35                   168              43.1   \n",
       "..                           ...                   ...               ...   \n",
       "763                           48                   180              32.9   \n",
       "764                           27                     0              36.8   \n",
       "765                           23                   112              26.2   \n",
       "766                            0                     0              30.1   \n",
       "767                           31                     0              30.4   \n",
       "\n",
       "     Diabetes pedigree function  Age  Class  \n",
       "0                         0.627   50      1  \n",
       "1                         0.351   31      0  \n",
       "2                         0.672   32      1  \n",
       "3                         0.167   21      0  \n",
       "4                         2.288   33      1  \n",
       "..                          ...  ...    ...  \n",
       "763                       0.171   63      0  \n",
       "764                       0.340   27      0  \n",
       "765                       0.245   30      0  \n",
       "766                       0.349   47      1  \n",
       "767                       0.315   23      0  \n",
       "\n",
       "[768 rows x 9 columns]"
      ]
     },
     "execution_count": 21,
     "metadata": {},
     "output_type": "execute_result"
    }
   ],
   "source": [
    "pima[['Number of times pregnant', 'Plasma glucose', 'Diastolic blood pressure', 'Triceps skin fold thickness', \n",
    "              '2-Hour serum insulin', 'Body mass index ','Diabetes pedigree function', 'Age', 'Class']]"
   ]
  },
  {
   "cell_type": "markdown",
   "id": "2be2bbe4",
   "metadata": {},
   "source": [
    "# 檢查是否有Categorical資料與缺失值"
   ]
  },
  {
   "cell_type": "code",
   "execution_count": 22,
   "id": "4f37b839",
   "metadata": {
    "ExecuteTime": {
     "end_time": "2021-06-22T13:49:01.846480Z",
     "start_time": "2021-06-22T13:49:01.832591Z"
    }
   },
   "outputs": [
    {
     "name": "stdout",
     "output_type": "stream",
     "text": [
      "There are 0 categorical variables\n",
      "\n",
      "The categorical variables are :\n",
      "\n",
      " []\n"
     ]
    },
    {
     "data": {
      "text/html": [
       "<div>\n",
       "<style scoped>\n",
       "    .dataframe tbody tr th:only-of-type {\n",
       "        vertical-align: middle;\n",
       "    }\n",
       "\n",
       "    .dataframe tbody tr th {\n",
       "        vertical-align: top;\n",
       "    }\n",
       "\n",
       "    .dataframe thead th {\n",
       "        text-align: right;\n",
       "    }\n",
       "</style>\n",
       "<table border=\"1\" class=\"dataframe\">\n",
       "  <thead>\n",
       "    <tr style=\"text-align: right;\">\n",
       "      <th></th>\n",
       "    </tr>\n",
       "  </thead>\n",
       "  <tbody>\n",
       "    <tr>\n",
       "      <th>0</th>\n",
       "    </tr>\n",
       "    <tr>\n",
       "      <th>1</th>\n",
       "    </tr>\n",
       "    <tr>\n",
       "      <th>2</th>\n",
       "    </tr>\n",
       "    <tr>\n",
       "      <th>3</th>\n",
       "    </tr>\n",
       "    <tr>\n",
       "      <th>4</th>\n",
       "    </tr>\n",
       "  </tbody>\n",
       "</table>\n",
       "</div>"
      ],
      "text/plain": [
       "Empty DataFrame\n",
       "Columns: []\n",
       "Index: [0, 1, 2, 3, 4]"
      ]
     },
     "execution_count": 22,
     "metadata": {},
     "output_type": "execute_result"
    }
   ],
   "source": [
    "# find categorical variables\n",
    "\n",
    "categorical = [var for var in pima.columns if pima[var].dtype=='O']\n",
    "\n",
    "print('There are {} categorical variables\\n'.format(len(categorical)))\n",
    "\n",
    "print('The categorical variables are :\\n\\n', categorical)\n",
    "\n",
    "# view the categorical variables if they exist\n",
    "\n",
    "pima[categorical].head()"
   ]
  },
  {
   "cell_type": "code",
   "execution_count": 23,
   "id": "3d53f700",
   "metadata": {
    "ExecuteTime": {
     "end_time": "2021-06-22T13:49:01.954185Z",
     "start_time": "2021-06-22T13:49:01.948730Z"
    }
   },
   "outputs": [
    {
     "data": {
      "text/plain": [
       "Series([], dtype: float64)"
      ]
     },
     "execution_count": 23,
     "metadata": {},
     "output_type": "execute_result"
    }
   ],
   "source": [
    "# 檢查categorical attribute中是否有missing values\n",
    "\n",
    "pima[categorical].isnull().sum()"
   ]
  },
  {
   "cell_type": "code",
   "execution_count": 24,
   "id": "9ddf46ea",
   "metadata": {
    "ExecuteTime": {
     "end_time": "2021-06-22T13:49:02.200178Z",
     "start_time": "2021-06-22T13:49:02.191251Z"
    }
   },
   "outputs": [
    {
     "name": "stdout",
     "output_type": "stream",
     "text": [
      "0    500\n",
      "1    268\n",
      "Name: Class, dtype: int64\n"
     ]
    }
   ],
   "source": [
    "# 計算各個 class 的個數\n",
    "freq = pima['Class'].value_counts()\n",
    "print(freq)"
   ]
  },
  {
   "cell_type": "markdown",
   "id": "e50a3c57",
   "metadata": {},
   "source": [
    "# Data Preprocessing"
   ]
  },
  {
   "cell_type": "markdown",
   "id": "8f334a71",
   "metadata": {},
   "source": [
    "## Ten-bin discretization"
   ]
  },
  {
   "cell_type": "code",
   "execution_count": 50,
   "id": "214852cf",
   "metadata": {
    "ExecuteTime": {
     "end_time": "2021-06-22T13:58:33.002163Z",
     "start_time": "2021-06-22T13:58:32.988276Z"
    }
   },
   "outputs": [],
   "source": [
    "scoring = 'accuracy'"
   ]
  },
  {
   "cell_type": "code",
   "execution_count": 51,
   "id": "3ae485f5",
   "metadata": {
    "ExecuteTime": {
     "end_time": "2021-06-22T13:58:33.278259Z",
     "start_time": "2021-06-22T13:58:33.263882Z"
    }
   },
   "outputs": [],
   "source": [
    "X = pima[['Number of times pregnant', 'Plasma glucose', 'Diastolic blood pressure', 'Triceps skin fold thickness', \n",
    "              '2-Hour serum insulin', 'Body mass index ','Diabetes pedigree function', 'Age']]\n",
    "y = pima['Class']\n",
    "\n",
    "# 對 id 和 class 以外的特徵做 ten-bin\n",
    "est = KBinsDiscretizer(n_bins=10, encode='ordinal', strategy='uniform')\n",
    "X_t = est.fit_transform(X)"
   ]
  },
  {
   "cell_type": "code",
   "execution_count": 52,
   "id": "0e6b888e",
   "metadata": {
    "ExecuteTime": {
     "end_time": "2021-06-22T13:58:33.647176Z",
     "start_time": "2021-06-22T13:58:33.634247Z"
    }
   },
   "outputs": [
    {
     "name": "stdout",
     "output_type": "stream",
     "text": [
      "[3. 7. 5. 3. 0. 5. 2. 4.]\n"
     ]
    }
   ],
   "source": [
    "print(X_t[0])"
   ]
  },
  {
   "cell_type": "code",
   "execution_count": 53,
   "id": "8bb3051a",
   "metadata": {
    "ExecuteTime": {
     "end_time": "2021-06-22T13:58:34.076570Z",
     "start_time": "2021-06-22T13:58:34.072137Z"
    }
   },
   "outputs": [
    {
     "name": "stdout",
     "output_type": "stream",
     "text": [
      "(768, 8)\n"
     ]
    }
   ],
   "source": [
    "print(np.shape(X_t))"
   ]
  },
  {
   "cell_type": "markdown",
   "id": "6fa08e73",
   "metadata": {},
   "source": [
    "#  Model 1 : Naive Bayesian classifier have Dirichlet priors with the Laplace’s estimate"
   ]
  },
  {
   "cell_type": "code",
   "execution_count": 54,
   "id": "c9570464",
   "metadata": {
    "ExecuteTime": {
     "end_time": "2021-06-22T13:58:35.155204Z",
     "start_time": "2021-06-22T13:58:35.145285Z"
    }
   },
   "outputs": [
    {
     "name": "stdout",
     "output_type": "stream",
     "text": [
      "[[0.67560069 0.32439931]]\n"
     ]
    },
    {
     "data": {
      "text/plain": [
       "MultinomialNB(alpha=1, class_prior=array([0.67560069, 0.32439931]))"
      ]
     },
     "execution_count": 54,
     "metadata": {},
     "output_type": "execute_result"
    }
   ],
   "source": [
    "import scipy.stats\n",
    "# alpha 是各個 class 的數量\n",
    "d = scipy.stats.dirichlet.rvs(alpha = [500, 268], size=1, random_state=1)\n",
    "print(d)\n",
    "\n",
    "# alpha=1 代表 Laplace’s estimate 的分子是 n_ij + 1\n",
    "clf = MultinomialNB(alpha=1, fit_prior = True, class_prior=d.flatten())\n",
    "clf.fit(X_t, y)"
   ]
  },
  {
   "cell_type": "markdown",
   "id": "51b7a44e",
   "metadata": {},
   "source": [
    "## 5-Fold cross validation"
   ]
  },
  {
   "cell_type": "code",
   "execution_count": 55,
   "id": "15c5221c",
   "metadata": {
    "ExecuteTime": {
     "end_time": "2021-06-22T13:58:36.095693Z",
     "start_time": "2021-06-22T13:58:36.078135Z"
    }
   },
   "outputs": [
    {
     "name": "stdout",
     "output_type": "stream",
     "text": [
      "Means of 5-Fold cross validation: 0.655\n"
     ]
    }
   ],
   "source": [
    "score = cross_val_score(clf, X_t, y, scoring=scoring, cv=5)\n",
    "print('Means of 5-Fold cross validation:', round(score.mean(),3))"
   ]
  },
  {
   "cell_type": "markdown",
   "id": "f86e7824",
   "metadata": {},
   "source": [
    "## Ranking Attribute by selective naïve Bayes"
   ]
  },
  {
   "cell_type": "code",
   "execution_count": 56,
   "id": "4ce63a22",
   "metadata": {
    "ExecuteTime": {
     "end_time": "2021-06-22T13:58:36.987290Z",
     "start_time": "2021-06-22T13:58:36.965466Z"
    }
   },
   "outputs": [
    {
     "name": "stdout",
     "output_type": "stream",
     "text": [
      "[ 0.01302083  0.00286458 -0.00260417 -0.00260417  0.00546875 -0.0046875\n",
      "  0.00520833  0.02005208]\n"
     ]
    }
   ],
   "source": [
    "result = permutation_importance(clf, X_t, y,scoring=scoring, random_state=0)\n",
    "\n",
    "print(result.importances_mean)"
   ]
  },
  {
   "cell_type": "code",
   "execution_count": 57,
   "id": "0f1966e1",
   "metadata": {
    "ExecuteTime": {
     "end_time": "2021-06-22T13:58:37.202464Z",
     "start_time": "2021-06-22T13:58:37.194034Z"
    },
    "scrolled": true
   },
   "outputs": [
    {
     "name": "stdout",
     "output_type": "stream",
     "text": [
      "0.02005208333333337\n",
      "0.01302083333333337\n",
      "0.005468750000000045\n",
      "0.00520833333333337\n",
      "0.0028645833333333704\n",
      "-0.0026041666666666297\n",
      "-0.0026041666666666297\n",
      "-0.0046875\n"
     ]
    }
   ],
   "source": [
    "importances = result.importances_mean\n",
    "\n",
    "# 把 Attribute 的重要性由大到排序輸出\n",
    "indices = np.argsort(importances)[::-1]\n",
    "\n",
    "for i in range(X.shape[1]):\n",
    "    print('%-10s'%result.importances_mean[indices[i]])"
   ]
  },
  {
   "cell_type": "code",
   "execution_count": 58,
   "id": "99911fc9",
   "metadata": {
    "ExecuteTime": {
     "end_time": "2021-06-22T13:58:37.541279Z",
     "start_time": "2021-06-22T13:58:37.436685Z"
    },
    "scrolled": true
   },
   "outputs": [
    {
     "data": {
      "text/plain": [
       "<function matplotlib.pyplot.show(close=None, block=None)>"
      ]
     },
     "execution_count": 58,
     "metadata": {},
     "output_type": "execute_result"
    },
    {
     "data": {
      "image/png": "[encoded data removed]",
      "text/plain": [
       "<Figure size 1440x720 with 1 Axes>"
      ]
     },
     "metadata": {
      "needs_background": "light"
     },
     "output_type": "display_data"
    }
   ],
   "source": [
    "# 視覺化\n",
    "import seaborn as sns\n",
    "featImp = pd.DataFrame()\n",
    "featImp['feat'] = ['Number of times pregnant', 'Plasma glucose', 'Diastolic blood pressure', 'Triceps skin fold thickness', \n",
    "              '2-Hour serum insulin', 'Body mass index ','Diabetes pedigree function', 'Age']\n",
    "featImp['importance'] = result.importances_mean\n",
    "featImp = featImp.sort_values('importance',ascending = False)\n",
    "plt.figure(figsize=[20,10])\n",
    "sns.barplot(x = 'importance', y = 'feat',data = featImp[:20], orient='h')\n",
    "plt.show"
   ]
  },
  {
   "cell_type": "markdown",
   "id": "f5418e31",
   "metadata": {},
   "source": [
    "## 重新排序特徵"
   ]
  },
  {
   "cell_type": "code",
   "execution_count": 59,
   "id": "43bc81bf",
   "metadata": {
    "ExecuteTime": {
     "end_time": "2021-06-22T13:58:45.944298Z",
     "start_time": "2021-06-22T13:58:45.916713Z"
    }
   },
   "outputs": [
    {
     "name": "stdout",
     "output_type": "stream",
     "text": [
      "[[0.67560069 0.32439931]]\n",
      "Means of 5-Fold cross validation: 0.646\n"
     ]
    }
   ],
   "source": [
    "X = pima[['Number of times pregnant', 'Plasma glucose', \n",
    "              '2-Hour serum insulin','Diabetes pedigree function', 'Age']]\n",
    "y = pima['Class']\n",
    "\n",
    "# print(X.head())\n",
    "\n",
    "# Ten-bin\n",
    "est = KBinsDiscretizer(n_bins=10, encode='ordinal', strategy='uniform')\n",
    "X_t = est.fit_transform(X)\n",
    "\n",
    "# alpha 是各個 class 的數量\n",
    "d = scipy.stats.dirichlet.rvs(alpha = [500, 268], size=1, random_state=1)\n",
    "print(d)\n",
    "\n",
    "# alpha=1 代表 Laplace’s estimate 的分子是 n_ij + 1\n",
    "clf = MultinomialNB(alpha=1, fit_prior = True, class_prior=d.flatten())\n",
    "clf.fit(X_t, y)\n",
    "\n",
    "score = cross_val_score(clf, X_t, y, scoring=scoring, cv=5)\n",
    "print('Means of 5-Fold cross validation:', round(score.mean(),3))"
   ]
  },
  {
   "cell_type": "markdown",
   "id": "d11ea5ce",
   "metadata": {},
   "source": [
    "## 額外實驗：個別刪除特徵"
   ]
  },
  {
   "cell_type": "markdown",
   "id": "b8f0876c",
   "metadata": {},
   "source": [
    "### 個別刪除 Body mass index"
   ]
  },
  {
   "cell_type": "code",
   "execution_count": 61,
   "id": "ee7633bc",
   "metadata": {
    "ExecuteTime": {
     "end_time": "2021-06-22T14:01:29.659688Z",
     "start_time": "2021-06-22T14:01:29.631110Z"
    }
   },
   "outputs": [
    {
     "name": "stdout",
     "output_type": "stream",
     "text": [
      "[[0.67560069 0.32439931]]\n",
      "Means of 5-Fold cross validation: 0.655\n"
     ]
    }
   ],
   "source": [
    "X = pima[['Number of times pregnant', 'Plasma glucose', 'Diastolic blood pressure', 'Triceps skin fold thickness', \n",
    "              '2-Hour serum insulin', 'Diabetes pedigree function', 'Age']]\n",
    "y = pima['Class']\n",
    "\n",
    "# print(X.head())\n",
    "\n",
    "# Ten-bin\n",
    "est = KBinsDiscretizer(n_bins=10, encode='ordinal', strategy='uniform')\n",
    "X_t = est.fit_transform(X)\n",
    "\n",
    "# alpha 是各個 class 的數量\n",
    "d = scipy.stats.dirichlet.rvs(alpha = [500, 268], size=1, random_state=1)\n",
    "print(d)\n",
    "\n",
    "# alpha=1 代表 Laplace’s estimate 的分子是 n_ij + 1\n",
    "clf = MultinomialNB(alpha=1, fit_prior = True, class_prior=d.flatten())\n",
    "clf.fit(X_t, y)\n",
    "\n",
    "score = cross_val_score(clf, X_t, y, scoring='accuracy', cv=5)\n",
    "print('Means of 5-Fold cross validation:', round(score.mean(),3))"
   ]
  },
  {
   "cell_type": "markdown",
   "id": "03b2aefe",
   "metadata": {},
   "source": [
    "### 個別刪除 Diastolic blood pressure"
   ]
  },
  {
   "cell_type": "code",
   "execution_count": 62,
   "id": "8294d670",
   "metadata": {
    "ExecuteTime": {
     "end_time": "2021-06-22T14:03:14.052738Z",
     "start_time": "2021-06-22T14:03:14.029318Z"
    }
   },
   "outputs": [
    {
     "name": "stdout",
     "output_type": "stream",
     "text": [
      "[[0.67560069 0.32439931]]\n",
      "Means of 5-Fold cross validation: 0.659\n"
     ]
    }
   ],
   "source": [
    "X = pima[['Number of times pregnant', 'Plasma glucose', 'Triceps skin fold thickness', \n",
    "              '2-Hour serum insulin', 'Body mass index ','Diabetes pedigree function', 'Age']]\n",
    "y = pima['Class']\n",
    "\n",
    "# print(X.head())\n",
    "\n",
    "# Ten-bin\n",
    "est = KBinsDiscretizer(n_bins=10, encode='ordinal', strategy='uniform')\n",
    "X_t = est.fit_transform(X)\n",
    "\n",
    "# alpha 是各個 class 的數量\n",
    "d = scipy.stats.dirichlet.rvs(alpha = [500, 268], size=1, random_state=1)\n",
    "print(d)\n",
    "\n",
    "# alpha=1 代表 Laplace’s estimate 的分子是 n_ij + 1\n",
    "clf = MultinomialNB(alpha=1, fit_prior = True, class_prior=d.flatten())\n",
    "clf.fit(X_t, y)\n",
    "\n",
    "score = cross_val_score(clf, X_t, y, scoring='accuracy', cv=5)\n",
    "print('Means of 5-Fold cross validation:', round(score.mean(),3))"
   ]
  },
  {
   "cell_type": "markdown",
   "id": "82c3ad4d",
   "metadata": {},
   "source": [
    "### 個別刪除 Triceps skin fold thickness"
   ]
  },
  {
   "cell_type": "code",
   "execution_count": 64,
   "id": "76cd043c",
   "metadata": {
    "ExecuteTime": {
     "end_time": "2021-06-22T14:08:58.783826Z",
     "start_time": "2021-06-22T14:08:58.756090Z"
    }
   },
   "outputs": [
    {
     "name": "stdout",
     "output_type": "stream",
     "text": [
      "[[0.67560069 0.32439931]]\n",
      "Means of 5-Fold cross validation: 0.651\n"
     ]
    }
   ],
   "source": [
    "\n",
    "X = pima[['Number of times pregnant', 'Plasma glucose', 'Diastolic blood pressure',\n",
    "              '2-Hour serum insulin', 'Body mass index ','Diabetes pedigree function', 'Age']]\n",
    "y = pima['Class']\n",
    "\n",
    "# print(X.head())\n",
    "\n",
    "# Ten-bin\n",
    "est = KBinsDiscretizer(n_bins=10, encode='ordinal', strategy='uniform')\n",
    "X_t = est.fit_transform(X)\n",
    "\n",
    "# alpha 是各個 class 的數量\n",
    "d = scipy.stats.dirichlet.rvs(alpha = [500, 268], size=1, random_state=1)\n",
    "print(d)\n",
    "\n",
    "# alpha=1 代表 Laplace’s estimate 的分子是 n_ij + 1\n",
    "clf = MultinomialNB(alpha=1, fit_prior = True, class_prior=d.flatten())\n",
    "clf.fit(X_t, y)\n",
    "\n",
    "score = cross_val_score(clf, X_t, y, scoring='accuracy', cv=5)\n",
    "print('Means of 5-Fold cross validation:', round(score.mean(),3))"
   ]
  },
  {
   "cell_type": "markdown",
   "id": "1c12b3c4",
   "metadata": {},
   "source": [
    "### 只刪除 Body mass index 與 Diastolic blood pressure"
   ]
  },
  {
   "cell_type": "code",
   "execution_count": 65,
   "id": "69d3bb24",
   "metadata": {
    "ExecuteTime": {
     "end_time": "2021-06-22T14:11:05.916593Z",
     "start_time": "2021-06-22T14:11:05.892770Z"
    }
   },
   "outputs": [
    {
     "name": "stdout",
     "output_type": "stream",
     "text": [
      "[[0.67560069 0.32439931]]\n",
      "Means of 5-Fold cross validation: 0.642\n"
     ]
    }
   ],
   "source": [
    "X = pima[['Number of times pregnant', 'Plasma glucose', 'Triceps skin fold thickness', \n",
    "              '2-Hour serum insulin','Diabetes pedigree function', 'Age']]\n",
    "y = pima['Class']\n",
    "\n",
    "# print(X.head())\n",
    "\n",
    "# Ten-bin\n",
    "est = KBinsDiscretizer(n_bins=10, encode='ordinal', strategy='uniform')\n",
    "X_t = est.fit_transform(X)\n",
    "\n",
    "# alpha 是各個 class 的數量\n",
    "d = scipy.stats.dirichlet.rvs(alpha = [500, 268], size=1, random_state=1)\n",
    "print(d)\n",
    "\n",
    "# alpha=1 代表 Laplace’s estimate 的分子是 n_ij + 1\n",
    "clf = MultinomialNB(alpha=1, fit_prior = True, class_prior=d.flatten())\n",
    "clf.fit(X_t, y)\n",
    "\n",
    "score = cross_val_score(clf, X_t, y, scoring='accuracy', cv=5)\n",
    "print('Means of 5-Fold cross validation:', round(score.mean(),3))"
   ]
  },
  {
   "cell_type": "markdown",
   "id": "915f941b",
   "metadata": {},
   "source": [
    "### 只刪除 Body mass index 與 Triceps skin fold thickness"
   ]
  },
  {
   "cell_type": "code",
   "execution_count": 66,
   "id": "2c721a57",
   "metadata": {
    "ExecuteTime": {
     "end_time": "2021-06-22T14:13:18.500918Z",
     "start_time": "2021-06-22T14:13:18.474133Z"
    }
   },
   "outputs": [
    {
     "name": "stdout",
     "output_type": "stream",
     "text": [
      "[[0.67560069 0.32439931]]\n",
      "Means of 5-Fold cross validation: 0.654\n"
     ]
    }
   ],
   "source": [
    "X = pima[['Number of times pregnant', 'Plasma glucose', 'Diastolic blood pressure',\n",
    "              '2-Hour serum insulin','Diabetes pedigree function', 'Age']]\n",
    "y = pima['Class']\n",
    "\n",
    "# print(X.head())\n",
    "\n",
    "# Ten-bin\n",
    "est = KBinsDiscretizer(n_bins=10, encode='ordinal', strategy='uniform')\n",
    "X_t = est.fit_transform(X)\n",
    "\n",
    "# alpha 是各個 class 的數量\n",
    "d = scipy.stats.dirichlet.rvs(alpha = [500, 268], size=1, random_state=1)\n",
    "print(d)\n",
    "\n",
    "# alpha=1 代表 Laplace’s estimate 的分子是 n_ij + 1\n",
    "clf = MultinomialNB(alpha=1, fit_prior = True, class_prior=d.flatten())\n",
    "clf.fit(X_t, y)\n",
    "\n",
    "score = cross_val_score(clf, X_t, y, scoring='accuracy', cv=5)\n",
    "print('Means of 5-Fold cross validation:', round(score.mean(),3))"
   ]
  },
  {
   "cell_type": "markdown",
   "id": "e11d798c",
   "metadata": {},
   "source": [
    "### 只刪除Diastolic blood pressure 與 Triceps skin fold thickness"
   ]
  },
  {
   "cell_type": "code",
   "execution_count": 67,
   "id": "22c51db9",
   "metadata": {
    "ExecuteTime": {
     "end_time": "2021-06-22T14:13:25.628492Z",
     "start_time": "2021-06-22T14:13:25.599763Z"
    }
   },
   "outputs": [
    {
     "name": "stdout",
     "output_type": "stream",
     "text": [
      "[[0.67560069 0.32439931]]\n",
      "Means of 5-Fold cross validation: 0.652\n"
     ]
    }
   ],
   "source": [
    "X = pima[['Number of times pregnant', 'Plasma glucose', \n",
    "              '2-Hour serum insulin', 'Body mass index ','Diabetes pedigree function', 'Age']]\n",
    "y = pima['Class']\n",
    "\n",
    "# print(X.head())\n",
    "\n",
    "# Ten-bin\n",
    "est = KBinsDiscretizer(n_bins=10, encode='ordinal', strategy='uniform')\n",
    "X_t = est.fit_transform(X)\n",
    "\n",
    "# alpha 是各個 class 的數量\n",
    "d = scipy.stats.dirichlet.rvs(alpha = [500, 268], size=1, random_state=1)\n",
    "print(d)\n",
    "\n",
    "# alpha=1 代表 Laplace’s estimate 的分子是 n_ij + 1\n",
    "clf = MultinomialNB(alpha=1, fit_prior = True, class_prior=d.flatten())\n",
    "clf.fit(X_t, y)\n",
    "\n",
    "score = cross_val_score(clf, X_t, y, scoring='accuracy', cv=5)\n",
    "print('Means of 5-Fold cross validation:', round(score.mean(),3))"
   ]
  },
  {
   "cell_type": "markdown",
   "id": "750a1992",
   "metadata": {},
   "source": [
    "## 額外實驗：更換評估函數"
   ]
  },
  {
   "cell_type": "markdown",
   "id": "fc521446",
   "metadata": {},
   "source": [
    "### 更換成F1 Score"
   ]
  },
  {
   "cell_type": "code",
   "execution_count": 70,
   "id": "bded4079",
   "metadata": {
    "ExecuteTime": {
     "end_time": "2021-06-22T14:19:42.882733Z",
     "start_time": "2021-06-22T14:19:42.868349Z"
    }
   },
   "outputs": [],
   "source": [
    "scoring = 'f1'"
   ]
  },
  {
   "cell_type": "code",
   "execution_count": 71,
   "id": "86a0bf08",
   "metadata": {
    "ExecuteTime": {
     "end_time": "2021-06-22T14:19:43.391113Z",
     "start_time": "2021-06-22T14:19:43.240287Z"
    }
   },
   "outputs": [
    {
     "name": "stdout",
     "output_type": "stream",
     "text": [
      "[[0.67560069 0.32439931]]\n",
      "Means of 5-Fold cross validation: 0.388\n",
      "[ 7.23106661e-02  1.27464312e-02 -1.64934298e-02 -1.54365525e-04\n",
      " -4.26675968e-03 -7.24347829e-03  7.81765513e-05  8.07178209e-02]\n",
      "0.08071782091427357\n",
      "0.07231066614057358\n",
      "0.012746431239421652\n",
      "7.817655125286205e-05\n",
      "-0.00015436552510685874\n",
      "-0.0042667596816817754\n",
      "-0.007243478288027849\n",
      "-0.01649342979090541\n"
     ]
    },
    {
     "data": {
      "text/plain": [
       "<function matplotlib.pyplot.show(close=None, block=None)>"
      ]
     },
     "execution_count": 71,
     "metadata": {},
     "output_type": "execute_result"
    },
    {
     "data": {
      "image/png": "[encoded data removed]",
      "text/plain": [
       "<Figure size 1440x720 with 1 Axes>"
      ]
     },
     "metadata": {
      "needs_background": "light"
     },
     "output_type": "display_data"
    }
   ],
   "source": [
    "X = pima[['Number of times pregnant', 'Plasma glucose', 'Diastolic blood pressure', 'Triceps skin fold thickness', \n",
    "              '2-Hour serum insulin', 'Body mass index ','Diabetes pedigree function', 'Age']]\n",
    "y = pima['Class']\n",
    "\n",
    "# 對 id 和 class 以外的特徵做 ten-bin\n",
    "est = KBinsDiscretizer(n_bins=10, encode='ordinal', strategy='uniform')\n",
    "X_t = est.fit_transform(X)\n",
    "\n",
    "# alpha 是各個 class 的數量\n",
    "d = scipy.stats.dirichlet.rvs(alpha = [500, 268], size=1, random_state=1)\n",
    "print(d)\n",
    "\n",
    "# alpha=1 代表 Laplace’s estimate 的分子是 n_ij + 1\n",
    "clf = MultinomialNB(alpha=1, fit_prior = True, class_prior=d.flatten())\n",
    "clf.fit(X_t, y)\n",
    "\n",
    "\n",
    "score = cross_val_score(clf, X_t, y, scoring=scoring, cv=5)\n",
    "print('Means of 5-Fold cross validation:', round(score.mean(),3))\n",
    "\n",
    "\n",
    "result = permutation_importance(clf, X_t, y,scoring=scoring, random_state=0)\n",
    "\n",
    "print(result.importances_mean)\n",
    "\n",
    "importances = result.importances_mean\n",
    "\n",
    "# 把 Attribute 的重要性由大到排序輸出\n",
    "indices = np.argsort(importances)[::-1]\n",
    "\n",
    "for i in range(X.shape[1]):\n",
    "    print('%-10s'%result.importances_mean[indices[i]])\n",
    "    \n",
    "# 視覺化\n",
    "import seaborn as sns\n",
    "featImp = pd.DataFrame()\n",
    "featImp['feat'] = ['Number of times pregnant', 'Plasma glucose', 'Diastolic blood pressure', 'Triceps skin fold thickness', \n",
    "              '2-Hour serum insulin', 'Body mass index ','Diabetes pedigree function', 'Age']\n",
    "featImp['importance'] = result.importances_mean\n",
    "featImp = featImp.sort_values('importance',ascending = False)\n",
    "plt.figure(figsize=[20,10])\n",
    "sns.barplot(x = 'importance', y = 'feat',data = featImp[:20], orient='h')\n",
    "plt.show"
   ]
  },
  {
   "cell_type": "markdown",
   "id": "ece033a3",
   "metadata": {},
   "source": [
    "### 刪除F1 Score所算出來的重要性負數之特徵"
   ]
  },
  {
   "cell_type": "code",
   "execution_count": 76,
   "id": "38ecdf4b",
   "metadata": {
    "ExecuteTime": {
     "end_time": "2021-06-22T14:22:40.539960Z",
     "start_time": "2021-06-22T14:22:40.509133Z"
    }
   },
   "outputs": [
    {
     "name": "stdout",
     "output_type": "stream",
     "text": [
      "[[0.67560069 0.32439931]]\n",
      "Means of 5-Fold cross validation: 0.341\n"
     ]
    }
   ],
   "source": [
    "X = pima[['Number of times pregnant', 'Plasma glucose', 'Triceps skin fold thickness', \n",
    "              '2-Hour serum insulin', 'Body mass index ','Diabetes pedigree function', 'Age']]\n",
    "y = pima['Class']\n",
    "\n",
    "# print(X.head())\n",
    "\n",
    "# Ten-bin\n",
    "est = KBinsDiscretizer(n_bins=10, encode='ordinal', strategy='uniform')\n",
    "X_t = est.fit_transform(X)\n",
    "\n",
    "# alpha 是各個 class 的數量\n",
    "d = scipy.stats.dirichlet.rvs(alpha = [500, 268], size=1, random_state=1)\n",
    "print(d)\n",
    "\n",
    "# alpha=1 代表 Laplace’s estimate 的分子是 n_ij + 1\n",
    "clf = MultinomialNB(alpha=1, fit_prior = True, class_prior=d.flatten())\n",
    "clf.fit(X_t, y)\n",
    "\n",
    "score = cross_val_score(clf, X_t, y, scoring=scoring, cv=5)\n",
    "print('Means of 5-Fold cross validation:', round(score.mean(),3))"
   ]
  },
  {
   "cell_type": "markdown",
   "id": "5b833ff2",
   "metadata": {},
   "source": [
    "### 更換成 Precision"
   ]
  },
  {
   "cell_type": "code",
   "execution_count": 77,
   "id": "7de4113f",
   "metadata": {
    "ExecuteTime": {
     "end_time": "2021-06-22T14:23:47.314290Z",
     "start_time": "2021-06-22T14:23:47.304899Z"
    }
   },
   "outputs": [],
   "source": [
    "scoring = 'precision'"
   ]
  },
  {
   "cell_type": "code",
   "execution_count": 78,
   "id": "d0f3bf5a",
   "metadata": {
    "ExecuteTime": {
     "end_time": "2021-06-22T14:23:48.005828Z",
     "start_time": "2021-06-22T14:23:47.846769Z"
    }
   },
   "outputs": [
    {
     "name": "stdout",
     "output_type": "stream",
     "text": [
      "[[0.67560069 0.32439931]]\n",
      "Means of 5-Fold cross validation: 0.508\n",
      "[ 0.03022747  0.00576834 -0.00423048 -0.00701764  0.01396072 -0.01126143\n",
      "  0.01356897  0.05035041]\n",
      "0.05035040736084867\n",
      "0.030227467361800466\n",
      "0.013960723167456623\n",
      "0.013568969296357536\n",
      "0.005768341408733391\n",
      "-0.0042304846873015165\n",
      "-0.0070176440304552615\n",
      "-0.011261432638184554\n"
     ]
    },
    {
     "data": {
      "text/plain": [
       "<function matplotlib.pyplot.show(close=None, block=None)>"
      ]
     },
     "execution_count": 78,
     "metadata": {},
     "output_type": "execute_result"
    },
    {
     "data": {
      "image/png": "[encoded data removed]",
      "text/plain": [
       "<Figure size 1440x720 with 1 Axes>"
      ]
     },
     "metadata": {
      "needs_background": "light"
     },
     "output_type": "display_data"
    }
   ],
   "source": [
    "X = pima[['Number of times pregnant', 'Plasma glucose', 'Diastolic blood pressure', 'Triceps skin fold thickness', \n",
    "              '2-Hour serum insulin', 'Body mass index ','Diabetes pedigree function', 'Age']]\n",
    "y = pima['Class']\n",
    "\n",
    "# 對 id 和 class 以外的特徵做 ten-bin\n",
    "est = KBinsDiscretizer(n_bins=10, encode='ordinal', strategy='uniform')\n",
    "X_t = est.fit_transform(X)\n",
    "\n",
    "# alpha 是各個 class 的數量\n",
    "d = scipy.stats.dirichlet.rvs(alpha = [500, 268], size=1, random_state=1)\n",
    "print(d)\n",
    "\n",
    "# alpha=1 代表 Laplace’s estimate 的分子是 n_ij + 1\n",
    "clf = MultinomialNB(alpha=1, fit_prior = True, class_prior=d.flatten())\n",
    "clf.fit(X_t, y)\n",
    "\n",
    "\n",
    "score = cross_val_score(clf, X_t, y, scoring=scoring, cv=5)\n",
    "print('Means of 5-Fold cross validation:', round(score.mean(),3))\n",
    "\n",
    "\n",
    "result = permutation_importance(clf, X_t, y,scoring=scoring, random_state=0)\n",
    "\n",
    "print(result.importances_mean)\n",
    "\n",
    "importances = result.importances_mean\n",
    "\n",
    "# 把 Attribute 的重要性由大到排序輸出\n",
    "indices = np.argsort(importances)[::-1]\n",
    "\n",
    "for i in range(X.shape[1]):\n",
    "    print('%-10s'%result.importances_mean[indices[i]])\n",
    "    \n",
    "# 視覺化\n",
    "import seaborn as sns\n",
    "featImp = pd.DataFrame()\n",
    "featImp['feat'] = ['Number of times pregnant', 'Plasma glucose', 'Diastolic blood pressure', 'Triceps skin fold thickness', \n",
    "              '2-Hour serum insulin', 'Body mass index ','Diabetes pedigree function', 'Age']\n",
    "featImp['importance'] = result.importances_mean\n",
    "featImp = featImp.sort_values('importance',ascending = False)\n",
    "plt.figure(figsize=[20,10])\n",
    "sns.barplot(x = 'importance', y = 'feat',data = featImp[:20], orient='h')\n",
    "plt.show"
   ]
  },
  {
   "cell_type": "markdown",
   "id": "394f4f45",
   "metadata": {},
   "source": [
    "### 刪除 Precision 所算出來的重要性負數之特徵"
   ]
  },
  {
   "cell_type": "code",
   "execution_count": 84,
   "id": "d52ed120",
   "metadata": {
    "ExecuteTime": {
     "end_time": "2021-06-22T14:25:46.087919Z",
     "start_time": "2021-06-22T14:25:46.056985Z"
    }
   },
   "outputs": [
    {
     "name": "stdout",
     "output_type": "stream",
     "text": [
      "[[0.67560069 0.32439931]]\n",
      "Means of 5-Fold cross validation: 0.506\n"
     ]
    }
   ],
   "source": [
    "X = pima[['Number of times pregnant', 'Plasma glucose', 'Diastolic blood pressure', 'Triceps skin fold thickness', \n",
    "              '2-Hour serum insulin','Diabetes pedigree function', 'Age']]\n",
    "y = pima['Class']\n",
    "\n",
    "# print(X.head())\n",
    "\n",
    "# Ten-bin\n",
    "est = KBinsDiscretizer(n_bins=10, encode='ordinal', strategy='uniform')\n",
    "X_t = est.fit_transform(X)\n",
    "\n",
    "# alpha 是各個 class 的數量\n",
    "d = scipy.stats.dirichlet.rvs(alpha = [500, 268], size=1, random_state=1)\n",
    "print(d)\n",
    "\n",
    "# alpha=1 代表 Laplace’s estimate 的分子是 n_ij + 1\n",
    "clf = MultinomialNB(alpha=1, fit_prior = True, class_prior=d.flatten())\n",
    "clf.fit(X_t, y)\n",
    "\n",
    "score = cross_val_score(clf, X_t, y, scoring=scoring, cv=5)\n",
    "print('Means of 5-Fold cross validation:', round(score.mean(),3))"
   ]
  },
  {
   "cell_type": "markdown",
   "id": "77816f6f",
   "metadata": {},
   "source": [
    "### 更換成 Recall"
   ]
  },
  {
   "cell_type": "code",
   "execution_count": 87,
   "id": "a2256b07",
   "metadata": {
    "ExecuteTime": {
     "end_time": "2021-06-22T14:28:12.722317Z",
     "start_time": "2021-06-22T14:28:12.719868Z"
    }
   },
   "outputs": [],
   "source": [
    "scoring = 'recall'"
   ]
  },
  {
   "cell_type": "code",
   "execution_count": 88,
   "id": "65b84f6e",
   "metadata": {
    "ExecuteTime": {
     "end_time": "2021-06-22T14:28:13.076036Z",
     "start_time": "2021-06-22T14:28:12.926702Z"
    }
   },
   "outputs": [
    {
     "name": "stdout",
     "output_type": "stream",
     "text": [
      "[[0.67560069 0.32439931]]\n",
      "Means of 5-Fold cross validation: 0.317\n",
      "[ 0.07761194  0.0141791  -0.02014925  0.00223881 -0.01119403 -0.00522388\n",
      " -0.00522388  0.08208955]\n",
      "0.08208955223880596\n",
      "0.07761194029850746\n",
      "0.014179104477611925\n",
      "0.002238805970149249\n",
      "-0.005223880597014929\n",
      "-0.005223880597014929\n",
      "-0.011194029850746278\n",
      "-0.020149253731343287\n"
     ]
    },
    {
     "data": {
      "text/plain": [
       "<function matplotlib.pyplot.show(close=None, block=None)>"
      ]
     },
     "execution_count": 88,
     "metadata": {},
     "output_type": "execute_result"
    },
    {
     "data": {
      "image/png": "[encoded data removed]",
      "text/plain": [
       "<Figure size 1440x720 with 1 Axes>"
      ]
     },
     "metadata": {
      "needs_background": "light"
     },
     "output_type": "display_data"
    }
   ],
   "source": [
    "X = pima[['Number of times pregnant', 'Plasma glucose', 'Diastolic blood pressure', 'Triceps skin fold thickness', \n",
    "              '2-Hour serum insulin', 'Body mass index ','Diabetes pedigree function', 'Age']]\n",
    "y = pima['Class']\n",
    "\n",
    "# 對 id 和 class 以外的特徵做 ten-bin\n",
    "est = KBinsDiscretizer(n_bins=10, encode='ordinal', strategy='uniform')\n",
    "X_t = est.fit_transform(X)\n",
    "\n",
    "# alpha 是各個 class 的數量\n",
    "d = scipy.stats.dirichlet.rvs(alpha = [500, 268], size=1, random_state=1)\n",
    "print(d)\n",
    "\n",
    "# alpha=1 代表 Laplace’s estimate 的分子是 n_ij + 1\n",
    "clf = MultinomialNB(alpha=1, fit_prior = True, class_prior=d.flatten())\n",
    "clf.fit(X_t, y)\n",
    "\n",
    "\n",
    "score = cross_val_score(clf, X_t, y, scoring=scoring, cv=5)\n",
    "print('Means of 5-Fold cross validation:', round(score.mean(),3))\n",
    "\n",
    "\n",
    "result = permutation_importance(clf, X_t, y,scoring=scoring, random_state=0)\n",
    "\n",
    "print(result.importances_mean)\n",
    "\n",
    "importances = result.importances_mean\n",
    "\n",
    "# 把 Attribute 的重要性由大到排序輸出\n",
    "indices = np.argsort(importances)[::-1]\n",
    "\n",
    "for i in range(X.shape[1]):\n",
    "    print('%-10s'%result.importances_mean[indices[i]])\n",
    "    \n",
    "# 視覺化\n",
    "import seaborn as sns\n",
    "featImp = pd.DataFrame()\n",
    "featImp['feat'] = ['Number of times pregnant', 'Plasma glucose', 'Diastolic blood pressure', 'Triceps skin fold thickness', \n",
    "              '2-Hour serum insulin', 'Body mass index ','Diabetes pedigree function', 'Age']\n",
    "featImp['importance'] = result.importances_mean\n",
    "featImp = featImp.sort_values('importance',ascending = False)\n",
    "plt.figure(figsize=[20,10])\n",
    "sns.barplot(x = 'importance', y = 'feat',data = featImp[:20], orient='h')\n",
    "plt.show"
   ]
  },
  {
   "cell_type": "markdown",
   "id": "7a37a9dd",
   "metadata": {},
   "source": [
    "### 刪除 Precision 所算出來的重要性負數之特徵"
   ]
  },
  {
   "cell_type": "code",
   "execution_count": 92,
   "id": "763ceb75",
   "metadata": {
    "ExecuteTime": {
     "end_time": "2021-06-22T14:29:12.369190Z",
     "start_time": "2021-06-22T14:29:12.340882Z"
    }
   },
   "outputs": [
    {
     "name": "stdout",
     "output_type": "stream",
     "text": [
      "[[0.67560069 0.32439931]]\n",
      "Means of 5-Fold cross validation: 0.34\n"
     ]
    }
   ],
   "source": [
    "X = pima[ ['Number of times pregnant', 'Plasma glucose', 'Diastolic blood pressure', 'Triceps skin fold thickness', \n",
    "              'Body mass index ','Diabetes pedigree function', 'Age']]\n",
    "y = pima['Class']\n",
    "\n",
    "# print(X.head())\n",
    "\n",
    "# Ten-bin\n",
    "est = KBinsDiscretizer(n_bins=10, encode='ordinal', strategy='uniform')\n",
    "X_t = est.fit_transform(X)\n",
    "\n",
    "# alpha 是各個 class 的數量\n",
    "d = scipy.stats.dirichlet.rvs(alpha = [500, 268], size=1, random_state=1)\n",
    "print(d)\n",
    "\n",
    "# alpha=1 代表 Laplace’s estimate 的分子是 n_ij + 1\n",
    "clf = MultinomialNB(alpha=1, fit_prior = True, class_prior=d.flatten())\n",
    "clf.fit(X_t, y)\n",
    "\n",
    "score = cross_val_score(clf, X_t, y, scoring=scoring, cv=5)\n",
    "print('Means of 5-Fold cross validation:', round(score.mean(),3))"
   ]
  },
  {
   "cell_type": "markdown",
   "id": "004101d0",
   "metadata": {},
   "source": [
    "#  Model 2 : Naive Bayesian classifier have  the best noninformative Dirichlet priors"
   ]
  },
  {
   "cell_type": "code",
   "execution_count": 100,
   "id": "1c3faccb",
   "metadata": {
    "ExecuteTime": {
     "end_time": "2021-06-22T14:35:06.016411Z",
     "start_time": "2021-06-22T14:35:05.999051Z"
    }
   },
   "outputs": [],
   "source": [
    "scoring = 'accuracy'"
   ]
  },
  {
   "cell_type": "code",
   "execution_count": 101,
   "id": "00503c78",
   "metadata": {
    "ExecuteTime": {
     "end_time": "2021-06-22T14:35:06.385397Z",
     "start_time": "2021-06-22T14:35:06.243430Z"
    }
   },
   "outputs": [
    {
     "name": "stdout",
     "output_type": "stream",
     "text": [
      "[[0.29751149 0.70248851]]\n",
      "Means of 5-Fold cross validation: 0.487\n",
      "[ 0.03489583  0.0125     -0.01953125 -0.00286458  0.01145833 -0.01536458\n",
      "  0.02265625  0.05494792]\n",
      "0.05494791666666665\n",
      "0.03489583333333331\n",
      "0.02265625\n",
      "0.012499999999999989\n",
      "0.011458333333333326\n",
      "-0.0028645833333333704\n",
      "-0.015364583333333359\n",
      "-0.01953125000000001\n"
     ]
    },
    {
     "data": {
      "text/plain": [
       "<function matplotlib.pyplot.show(close=None, block=None)>"
      ]
     },
     "execution_count": 101,
     "metadata": {},
     "output_type": "execute_result"
    },
    {
     "data": {
      "image/png": "[encoded data removed]",
      "text/plain": [
       "<Figure size 1440x720 with 1 Axes>"
      ]
     },
     "metadata": {
      "needs_background": "light"
     },
     "output_type": "display_data"
    }
   ],
   "source": [
    "X = pima[['Number of times pregnant', 'Plasma glucose', 'Diastolic blood pressure', 'Triceps skin fold thickness', \n",
    "              '2-Hour serum insulin', 'Body mass index ','Diabetes pedigree function', 'Age']]\n",
    "y = pima['Class']\n",
    "\n",
    "\n",
    "est = KBinsDiscretizer(n_bins=10, encode='ordinal', strategy='uniform')\n",
    "X_t = est.fit_transform(X)\n",
    "\n",
    "# alpha 是各個 class 的數量，這邊把alpha都換成了1\n",
    "d = scipy.stats.dirichlet.rvs(alpha = [1,1], size=1, random_state=1)\n",
    "print(d)\n",
    "\n",
    "clf = MultinomialNB(alpha=1, fit_prior = True, class_prior=d.flatten())\n",
    "clf.fit(X_t, y)\n",
    "\n",
    "\n",
    "score = cross_val_score(clf, X_t, y, scoring=scoring, cv=5)\n",
    "print('Means of 5-Fold cross validation:', round(score.mean(),3))\n",
    "\n",
    "result = permutation_importance(clf, X_t, y,scoring=scoring, random_state=0)\n",
    "\n",
    "print(result.importances_mean)\n",
    "\n",
    "importances = result.importances_mean\n",
    "\n",
    "# 把 Attribute 的重要性由大排序輸出\n",
    "indices = np.argsort(importances)[::-1]\n",
    "\n",
    "for i in range(X.shape[1]):\n",
    "    print('%-10s'%result.importances_mean[indices[i]])\n",
    "    \n",
    "# 視覺化\n",
    "import seaborn as sns\n",
    "featImp = pd.DataFrame()\n",
    "featImp['feat'] = ['Number of times pregnant', 'Plasma glucose', 'Diastolic blood pressure', 'Triceps skin fold thickness', \n",
    "              '2-Hour serum insulin', 'Body mass index ','Diabetes pedigree function', 'Age']\n",
    "featImp['importance'] = result.importances_mean\n",
    "featImp = featImp.sort_values('importance',ascending = False)\n",
    "plt.figure(figsize=[20,10])\n",
    "sns.barplot(x = 'importance', y = 'feat',data = featImp[:20], orient='h')\n",
    "plt.show"
   ]
  },
  {
   "cell_type": "markdown",
   "id": "0b96f82d",
   "metadata": {},
   "source": [
    "## 重新排序特徵"
   ]
  },
  {
   "cell_type": "code",
   "execution_count": 111,
   "id": "f211bb0a",
   "metadata": {
    "ExecuteTime": {
     "end_time": "2021-06-22T14:38:22.849382Z",
     "start_time": "2021-06-22T14:38:22.823055Z"
    }
   },
   "outputs": [
    {
     "name": "stdout",
     "output_type": "stream",
     "text": [
      "[[0.29751149 0.70248851]]\n",
      "Means of 5-Fold cross validation: 0.478\n"
     ]
    }
   ],
   "source": [
    "X = pima[ ['Number of times pregnant', 'Plasma glucose', 'Diastolic blood pressure',\n",
    "              '2-Hour serum insulin', 'Body mass index ','Diabetes pedigree function', 'Age']]\n",
    "y = pima['Class']\n",
    "\n",
    "# print(X.head())\n",
    "\n",
    "# Ten-bin\n",
    "est = KBinsDiscretizer(n_bins=10, encode='ordinal', strategy='uniform')\n",
    "X_t = est.fit_transform(X)\n",
    "\n",
    "# alpha 是各個 class 的數量\n",
    "d = scipy.stats.dirichlet.rvs(alpha = [1,1], size=1, random_state=1)\n",
    "print(d)\n",
    "\n",
    "# alpha=1 代表 Laplace’s estimate 的分子是 n_ij + 1\n",
    "clf = MultinomialNB(alpha=1, fit_prior = True, class_prior=d.flatten())\n",
    "clf.fit(X_t, y)\n",
    "\n",
    "score = cross_val_score(clf, X_t, y, scoring=scoring, cv=5)\n",
    "print('Means of 5-Fold cross validation:', round(score.mean(),3))"
   ]
  },
  {
   "cell_type": "code",
   "execution_count": null,
   "id": "2a60e822",
   "metadata": {},
   "outputs": [],
   "source": []
  }
 ],
 "metadata": {
  "hide_input": false,
  "kernelspec": {
   "display_name": "Python 3",
   "language": "python",
   "name": "python3"
  },
  "language_info": {
   "codemirror_mode": {
    "name": "ipython",
    "version": 3
   },
   "file_extension": ".py",
   "mimetype": "text/x-python",
   "name": "python",
   "nbconvert_exporter": "python",
   "pygments_lexer": "ipython3",
   "version": "3.8.9"
  },
  "toc": {
   "base_numbering": 1,
   "nav_menu": {},
   "number_sections": true,
   "sideBar": true,
   "skip_h1_title": false,
   "title_cell": "Table of Contents",
   "title_sidebar": "Contents",
   "toc_cell": false,
   "toc_position": {
    "height": "calc(100% - 180px)",
    "left": "10px",
    "top": "150px",
    "width": "303.825px"
   },
   "toc_section_display": true,
   "toc_window_display": true
  }
 },
 "nbformat": 4,
 "nbformat_minor": 5
}
