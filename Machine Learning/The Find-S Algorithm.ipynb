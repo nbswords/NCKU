{
 "cells": [
  {
   "cell_type": "code",
   "execution_count": null,
   "metadata": {},
   "outputs": [],
   "source": [
    "FIND-S:\n",
    "1. Initilize h to the most specific hypothesis in H\n",
    "2. For each positive training instance x\n",
    "      For each attribute contraint ai in h\n",
    "          If the contraint ai is satisfied by x\n",
    "              then do nothing\n",
    "          Else\n",
    "              replace ai in h by the next more general constraint that is satisfied by x\n",
    "3. Output the hypothesis h"
   ]
  },
  {
   "cell_type": "code",
   "execution_count": 1,
   "metadata": {
    "ExecuteTime": {
     "end_time": "2021-03-17T17:18:27.414574Z",
     "start_time": "2021-03-17T17:18:26.886550Z"
    }
   },
   "outputs": [
    {
     "name": "stdout",
     "output_type": "stream",
     "text": [
      "Data :       sky airtemp humidity    wind water forecast enjoysports\n",
      "0  sunny    warm   normal  strong  warm     same         yes\n",
      "1  sunny    warm     high  strong  warm     same         yes\n",
      "2  rainy    cold     high  strong  warm   change          no\n",
      "3  sunny    warm     high  strong  cool   change         yes\n",
      "\n",
      "Attributes : \n",
      " [['sunny' 'warm' 'normal' 'strong' 'warm' 'same']\n",
      " ['sunny' 'warm' 'high' 'strong' 'warm' 'same']\n",
      " ['rainy' 'cold' 'high' 'strong' 'warm' 'change']\n",
      " ['sunny' 'warm' 'high' 'strong' 'cool' 'change']]\n",
      "\n",
      "The target :  ['yes' 'yes' 'no' 'yes']\n"
     ]
    }
   ],
   "source": [
    "import pandas as pd\n",
    "import numpy as np\n",
    "\n",
    "# read data\n",
    "data = pd.read_csv(\"data.csv\")\n",
    "print(\"Data : \", data)\n",
    "\n",
    "# making an array of all the attributes\n",
    "attr = np.array(data)[:, :-1]\n",
    "print(\"\\nAttributes : \\n\", attr)\n",
    "\n",
    "# segragating the target that has positive and negative examples\n",
    "target = np.array(data)[:, -1]\n",
    "print(\"\\nThe target : \", target)\n",
    "\n",
    "# find-s algorithm\n",
    "def find_s(c, t):\n",
    "\n",
    "    for i, val in enumerate(t):\n",
    "        # positive examples\n",
    "        if val == \"yes\":\n",
    "            specific_hypothesis = c[i].copy()\n",
    "            break\n",
    "            \n",
    "    for i, val in enumerate(c):\n",
    "        # positive examples\n",
    "        if t[i] == \"yes\":\n",
    "            for x in range(len(specific_hypothesis)):\n",
    "                if val[x] != specific_hypothesis[x]:\n",
    "                    # replaced by more general constraint\n",
    "                    specific_hypothesis[x] = '?'\n",
    "                else:\n",
    "                    pass\n",
    "\n",
    "    return specific_hypothesis"
   ]
  },
  {
   "cell_type": "code",
   "execution_count": 2,
   "metadata": {
    "ExecuteTime": {
     "end_time": "2021-03-17T17:18:28.932023Z",
     "start_time": "2021-03-17T17:18:28.921023Z"
    }
   },
   "outputs": [
    {
     "name": "stdout",
     "output_type": "stream",
     "text": [
      "The final hypothesis is: ['sunny' 'warm' '?' 'strong' '?' '?']\n"
     ]
    }
   ],
   "source": [
    "# Making the final hypothesis\n",
    "print(\"The final hypothesis is:\", find_s(attr, target))"
   ]
  },
  {
   "cell_type": "code",
   "execution_count": null,
   "metadata": {},
   "outputs": [],
   "source": []
  }
 ],
 "metadata": {
  "hide_input": false,
  "kernelspec": {
   "display_name": "Python 3.6.8 64-bit",
   "language": "python",
   "name": "python36864bit6992c404cc394c739b38c1f8a470111b"
  },
  "language_info": {
   "codemirror_mode": {
    "name": "ipython",
    "version": 3
   },
   "file_extension": ".py",
   "mimetype": "text/x-python",
   "name": "python",
   "nbconvert_exporter": "python",
   "pygments_lexer": "ipython3",
   "version": "3.6.8"
  },
  "toc": {
   "base_numbering": 1,
   "nav_menu": {},
   "number_sections": true,
   "sideBar": true,
   "skip_h1_title": false,
   "title_cell": "Table of Contents",
   "title_sidebar": "Contents",
   "toc_cell": false,
   "toc_position": {},
   "toc_section_display": true,
   "toc_window_display": false
  },
  "varInspector": {
   "cols": {
    "lenName": 16,
    "lenType": 16,
    "lenVar": 40
   },
   "kernels_config": {
    "python": {
     "delete_cmd_postfix": "",
     "delete_cmd_prefix": "del ",
     "library": "var_list.py",
     "varRefreshCmd": "print(var_dic_list())"
    },
    "r": {
     "delete_cmd_postfix": ") ",
     "delete_cmd_prefix": "rm(",
     "library": "var_list.r",
     "varRefreshCmd": "cat(var_dic_list()) "
    }
   },
   "types_to_exclude": [
    "module",
    "function",
    "builtin_function_or_method",
    "instance",
    "_Feature"
   ],
   "window_display": false
  }
 },
 "nbformat": 4,
 "nbformat_minor": 2
}